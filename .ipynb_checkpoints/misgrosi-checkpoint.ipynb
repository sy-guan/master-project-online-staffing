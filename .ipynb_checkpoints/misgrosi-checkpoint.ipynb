{
 "cells": [
  {
   "cell_type": "code",
   "execution_count": 1,
   "id": "5ddd593e",
   "metadata": {},
   "outputs": [],
   "source": [
    "from selenium import webdriver\n",
    "from selenium.webdriver.common.by import By\n",
    "from selenium.webdriver.common.action_chains import ActionChains\n",
    "from selenium.webdriver.common.keys import Keys\n",
    "from selenium.webdriver.support.ui import WebDriverWait\n",
    "from selenium.webdriver.support import expected_conditions as EC\n",
    "\n",
    "import chromedriver_binary\n",
    "\n",
    "def open_browser():\n",
    "    \"\"\"\n",
    "    Opens a new automated browser window with all tell-tales of automated browser disabled\n",
    "    \"\"\"\n",
    "    options = webdriver.ChromeOptions()\n",
    "    options.add_argument(\"start-maximized\")\n",
    "\n",
    "    # remove all signs of this being an automated browser\n",
    "    options.add_argument('--disable-blink-features=AutomationControlled')\n",
    "    options.add_experimental_option(\"excludeSwitches\", [\"enable-automation\"])\n",
    "    options.add_experimental_option('useAutomationExtension', False)\n",
    "\n",
    "    # open the browser with the new options\n",
    "    driver = webdriver.Chrome(options=options)\n",
    "    return driver"
   ]
  },
  {
   "cell_type": "code",
   "execution_count": 2,
   "id": "88a13a54",
   "metadata": {},
   "outputs": [],
   "source": [
    "# Open browser\n",
    "driver = open_browser()\n",
    "driver.get('https://www.misgrosi.ch/wunsch-grosi-suchen/listegrosis/')"
   ]
  },
  {
   "cell_type": "code",
   "execution_count": 3,
   "id": "a9f0f173",
   "metadata": {},
   "outputs": [],
   "source": [
    "def load_more_candidate(driver):\n",
    "    \"\"\"\n",
    "    View more candidates available\n",
    "    \"\"\"\n",
    "    \n",
    "    # rather than trying to click a button that might have not loaded yet, we will \n",
    "    # wait up to 20 seconds for it to actually appear first\n",
    "#     wait = WebDriverWait(driver, timeout = 40)\n",
    "#     wait.until(EC.visibility_of_element_located((By.CSS_SELECTOR, \"a.load_more_resumes.btn.btn-default\")))\n",
    "    \n",
    "    more_button = WebDriverWait(driver, 20).until(EC.element_to_be_clickable((By.CSS_SELECTOR, \"a.load_more_resumes.btn.btn-default\")))\n",
    "#     more_button = driver.find_element(By.CSS_SELECTOR, \"a.load_more_resumes.btn.btn-default\")\n",
    "    \n",
    "    if more_button:\n",
    "        more_button.click()"
   ]
  },
  {
   "cell_type": "code",
   "execution_count": 4,
   "id": "19fcb821",
   "metadata": {},
   "outputs": [],
   "source": [
    "# # Load all jobs\n",
    "# while True:\n",
    "#     try: \n",
    "#         load_more_candidate(driver)\n",
    "#     except:\n",
    "#         break\n",
    "for i in range(20):\n",
    "    try:\n",
    "        load_more_candidate(driver)\n",
    "    except:\n",
    "        break"
   ]
  },
  {
   "cell_type": "code",
   "execution_count": 5,
   "id": "bda66215",
   "metadata": {},
   "outputs": [],
   "source": [
    "# Get all jobs on this page\n",
    "def find_cands(driver):\n",
    "    \"\"\"\n",
    "    Finds all candidates loaded in the browser\n",
    "    \"\"\"\n",
    "    cands = driver.find_elements(By.CSS_SELECTOR,'ul.resumes li')\n",
    "    \n",
    "    return cands"
   ]
  },
  {
   "cell_type": "code",
   "execution_count": 6,
   "id": "f165da3b",
   "metadata": {},
   "outputs": [],
   "source": [
    "# Get all information of one candidate \n",
    "def get_cand_info(cand, driver):\n",
    "    info = {}\n",
    "    info['Name'] = cand.find_element(By.TAG_NAME, \"h3\").text\n",
    "    info['Intro'] = cand.find_element(By.CLASS_NAME, \"candidate-title\").text\n",
    "    info['Location'] = cand.find_element(By.CLASS_NAME, \"candidate-location-column\").text.strip(', Schweiz')\n",
    "    info['Role'] = cand.find_element(By.CLASS_NAME, \"resume-category\").text\n",
    "    print(info)\n",
    "    \n",
    "    row = info.values()\n",
    "    \n",
    "    return info, row"
   ]
  },
  {
   "cell_type": "code",
   "execution_count": 7,
   "id": "0bfe995b",
   "metadata": {},
   "outputs": [],
   "source": [
    "# Write data into csv file\n",
    "def write_to_csv(data):\n",
    "    header =['Name', 'Intro', 'Location', 'Role']\n",
    "    with open('misgrosi.csv', 'w',encoding='utf-8-sig') as f:\n",
    "        # create the csv writer\n",
    "        writer = csv.writer(f)\n",
    "\n",
    "        # write a row to the csv file\n",
    "        writer.writerow(header)\n",
    "        writer.writerows(data)"
   ]
  },
  {
   "cell_type": "code",
   "execution_count": 8,
   "id": "da41d583",
   "metadata": {},
   "outputs": [
    {
     "name": "stdout",
     "output_type": "stream",
     "text": [
      "Nani Moni\n",
      "Einfach ein lässiges Grosi sy\n",
      "4900 Langenthal, Schweiz\n",
      "Tages-Grosi\n",
      "{'Name': 'Nani Moni', 'Intro': 'Einfach ein lässiges Grosi sy', 'Location': '4900 Langenthal', 'Role': 'Tages-Grosi'}\n",
      "Jida\n",
      "Betreue Kinder aus allen Kulturen\n",
      "4051 Basel, Schweiz\n",
      "Tages-Grosi\n",
      "{'Name': 'Jida', 'Intro': 'Betreue Kinder aus allen Kulturen', 'Location': '4051 Basel', 'Role': 'Tages-Grosi'}\n",
      "Phoebe-Grosi\n",
      "Bin da offen und neugierig\n",
      "8105 Watt, Schweiz\n",
      "Tages-Grosi\n",
      "{'Name': 'Phoebe-Grosi', 'Intro': 'Bin da offen und neugierig', 'Location': '8105 Watt', 'Role': 'Tages-Grosi'}\n",
      "Wunsch-Omi Elvira\n",
      "Jungebliebene, aktive mitten im Leben stehende Grosi/Omi sucht sinnvolle Beschäftigung\n",
      "9533 Kirchberg, Schweiz\n",
      "Tages-Grosi\n",
      "{'Name': 'Wunsch-Omi Elvira', 'Intro': 'Jungebliebene, aktive mitten im Leben stehende Grosi/Omi sucht sinnvolle Beschäftigung', 'Location': '9533 Kirchberg', 'Role': 'Tages-Grosi'}\n",
      "Grosi claudia\n",
      "Bin aufgestellt und kinder lieb\n",
      "3363 Oberönz, Schweiz\n",
      "Tages-Grosi\n",
      "{'Name': 'Grosi claudia', 'Intro': 'Bin aufgestellt und kinder lieb', 'Location': '3363 Oberön', 'Role': 'Tages-Grosi'}\n",
      "MisNani\n",
      "Naturverbundene und kinderliebende Frau freut sich über gelegentliche Kinderbetreuung.\n",
      "Gunterswilen\n",
      "Kinderbetreuung allgemein\n",
      "{'Name': 'MisNani', 'Intro': 'Naturverbundene und kinderliebende Frau freut sich über gelegentliche Kinderbetreuung.', 'Location': 'Gunterswilen', 'Role': 'Kinderbetreuung allgemein'}\n"
     ]
    }
   ],
   "source": [
    "# Get all candidate information and write to csv\n",
    "import csv\n",
    "cands = find_cands(driver)\n",
    "data = []\n",
    "for cand in cands:\n",
    "    print(cand.text)\n",
    "    info, row = get_cand_info(cand, driver)\n",
    "    if row:\n",
    "        data.append(row)\n",
    "    write_to_csv(data)"
   ]
  },
  {
   "cell_type": "code",
   "execution_count": 9,
   "id": "8a29f77c",
   "metadata": {},
   "outputs": [
    {
     "data": {
      "text/html": [
       "<div>\n",
       "<style scoped>\n",
       "    .dataframe tbody tr th:only-of-type {\n",
       "        vertical-align: middle;\n",
       "    }\n",
       "\n",
       "    .dataframe tbody tr th {\n",
       "        vertical-align: top;\n",
       "    }\n",
       "\n",
       "    .dataframe thead th {\n",
       "        text-align: right;\n",
       "    }\n",
       "</style>\n",
       "<table border=\"1\" class=\"dataframe\">\n",
       "  <thead>\n",
       "    <tr style=\"text-align: right;\">\n",
       "      <th></th>\n",
       "      <th>Name</th>\n",
       "      <th>Intro</th>\n",
       "      <th>Location</th>\n",
       "      <th>Role</th>\n",
       "    </tr>\n",
       "  </thead>\n",
       "  <tbody>\n",
       "    <tr>\n",
       "      <th>0</th>\n",
       "      <td>Nani Moni</td>\n",
       "      <td>Einfach ein lässiges Grosi sy</td>\n",
       "      <td>4900 Langenthal</td>\n",
       "      <td>Tages-Grosi</td>\n",
       "    </tr>\n",
       "    <tr>\n",
       "      <th>1</th>\n",
       "      <td>Jida</td>\n",
       "      <td>Betreue Kinder aus allen Kulturen</td>\n",
       "      <td>4051 Basel</td>\n",
       "      <td>Tages-Grosi</td>\n",
       "    </tr>\n",
       "    <tr>\n",
       "      <th>2</th>\n",
       "      <td>Phoebe-Grosi</td>\n",
       "      <td>Bin da offen und neugierig</td>\n",
       "      <td>8105 Watt</td>\n",
       "      <td>Tages-Grosi</td>\n",
       "    </tr>\n",
       "    <tr>\n",
       "      <th>3</th>\n",
       "      <td>Wunsch-Omi Elvira</td>\n",
       "      <td>Jungebliebene, aktive mitten im Leben stehende...</td>\n",
       "      <td>9533 Kirchberg</td>\n",
       "      <td>Tages-Grosi</td>\n",
       "    </tr>\n",
       "    <tr>\n",
       "      <th>4</th>\n",
       "      <td>Grosi claudia</td>\n",
       "      <td>Bin aufgestellt und kinder lieb</td>\n",
       "      <td>3363 Oberön</td>\n",
       "      <td>Tages-Grosi</td>\n",
       "    </tr>\n",
       "  </tbody>\n",
       "</table>\n",
       "</div>"
      ],
      "text/plain": [
       "                Name                                              Intro  \\\n",
       "0          Nani Moni                      Einfach ein lässiges Grosi sy   \n",
       "1               Jida                  Betreue Kinder aus allen Kulturen   \n",
       "2       Phoebe-Grosi                         Bin da offen und neugierig   \n",
       "3  Wunsch-Omi Elvira  Jungebliebene, aktive mitten im Leben stehende...   \n",
       "4      Grosi claudia                    Bin aufgestellt und kinder lieb   \n",
       "\n",
       "          Location         Role  \n",
       "0  4900 Langenthal  Tages-Grosi  \n",
       "1       4051 Basel  Tages-Grosi  \n",
       "2        8105 Watt  Tages-Grosi  \n",
       "3   9533 Kirchberg  Tages-Grosi  \n",
       "4      3363 Oberön  Tages-Grosi  "
      ]
     },
     "execution_count": 9,
     "metadata": {},
     "output_type": "execute_result"
    }
   ],
   "source": [
    "import pandas as pd\n",
    "df = pd.read_csv('misgrosi.csv')\n",
    "df.head()"
   ]
  },
  {
   "cell_type": "code",
   "execution_count": null,
   "id": "d25f6e79",
   "metadata": {},
   "outputs": [],
   "source": []
  },
  {
   "cell_type": "code",
   "execution_count": null,
   "id": "ee8afe89",
   "metadata": {},
   "outputs": [],
   "source": []
  }
 ],
 "metadata": {
  "kernelspec": {
   "display_name": "Python 3 (ipykernel)",
   "language": "python",
   "name": "python3"
  },
  "language_info": {
   "codemirror_mode": {
    "name": "ipython",
    "version": 3
   },
   "file_extension": ".py",
   "mimetype": "text/x-python",
   "name": "python",
   "nbconvert_exporter": "python",
   "pygments_lexer": "ipython3",
   "version": "3.9.7"
  }
 },
 "nbformat": 4,
 "nbformat_minor": 5
}
