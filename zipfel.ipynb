{
 "cells": [
  {
   "cell_type": "code",
   "execution_count": 1,
   "id": "fc3952ef",
   "metadata": {},
   "outputs": [],
   "source": [
    "from selenium import webdriver\n",
    "from selenium.webdriver.common.by import By\n",
    "from selenium.webdriver.common.action_chains import ActionChains\n",
    "from selenium.webdriver.common.keys import Keys\n",
    "from selenium.webdriver.support.ui import WebDriverWait\n",
    "from selenium.webdriver.support import expected_conditions as EC\n",
    "\n",
    "import chromedriver_binary\n",
    "\n",
    "\n",
    "def open_browser():\n",
    "    \"\"\"\n",
    "    Opens a new automated browser window with all tell-tales of automated browser disabled\n",
    "    \"\"\"\n",
    "    options = webdriver.ChromeOptions()\n",
    "    options.add_argument(\"start-maximized\")\n",
    "\n",
    "    # remove all signs of this being an automated browser\n",
    "    options.add_argument('--disable-blink-features=AutomationControlled')\n",
    "    options.add_experimental_option(\"excludeSwitches\", [\"enable-automation\"])\n",
    "    options.add_experimental_option('useAutomationExtension', False)\n",
    "\n",
    "    # open the browser with the new options\n",
    "    driver = webdriver.Chrome(options=options)\n",
    "    return driver"
   ]
  },
  {
   "cell_type": "code",
   "execution_count": 2,
   "id": "0428ff3d",
   "metadata": {},
   "outputs": [],
   "source": [
    "# Open browser\n",
    "driver = open_browser()\n",
    "driver.get('https://zipfelzapf.ch/home')"
   ]
  },
  {
   "cell_type": "code",
   "execution_count": 3,
   "id": "81508565",
   "metadata": {},
   "outputs": [],
   "source": [
    "def find_jobs(driver):\n",
    "    \"\"\"\n",
    "    Finds all jobs loaded in the browser\n",
    "    \"\"\"\n",
    "    jobs = driver.find_elements(By.CSS_SELECTOR, 'tbody tr')\n",
    "    jobs.pop()\n",
    "    return jobs"
   ]
  },
  {
   "cell_type": "code",
   "execution_count": 4,
   "id": "9a1d43b2",
   "metadata": {},
   "outputs": [],
   "source": [
    "jobs = find_jobs(driver)"
   ]
  },
  {
   "cell_type": "code",
   "execution_count": 5,
   "id": "9892fc67",
   "metadata": {},
   "outputs": [],
   "source": [
    "def get_job_info(job, driver):\n",
    "    description = {}\n",
    "    \n",
    "    all_info = job.find_elements(By.CLASS_NAME,'bericht_eintrag_leiste')\n",
    "    if not all_info:\n",
    "        all_info = job.find_elements(By.CLASS_NAME,'bericht_eintrag_leiste_2')\n",
    "        \n",
    "    info_list = [info.text for info in all_info]\n",
    "\n",
    "    loc_days = info_list.pop(1).split('\\n')\n",
    "    loc = loc_days[0]\n",
    "    days = loc_days[1]\n",
    "    info_list += [loc, days]\n",
    "    name = ['Date', 'Position', 'Freq', 'Salary','StartDate', 'Location','Days']\n",
    "    \n",
    "    description = dict(zip(name, info_list))\n",
    "    row = description.values()\n",
    "    \n",
    "    return description, row\n",
    "\n",
    "def write_to_csv(data):\n",
    "    header =['Date', 'Position', 'Freq', 'Salary','StartDate', 'Location','Days']\n",
    "    with open('zipfel_zapf.csv', 'w',encoding='utf-8-sig') as f:\n",
    "        # create the csv writer\n",
    "        writer = csv.writer(f)\n",
    "\n",
    "        # write a row to the csv file\n",
    "        writer.writerow(header)\n",
    "        writer.writerows(data)"
   ]
  },
  {
   "cell_type": "code",
   "execution_count": 6,
   "id": "969b2b13",
   "metadata": {},
   "outputs": [],
   "source": [
    "import csv\n",
    "data = []\n",
    "for job in jobs:\n",
    "    description, row = get_job_info(job, driver)\n",
    "    if row:\n",
    "        data.append(row)\n",
    "    write_to_csv(data)"
   ]
  },
  {
   "cell_type": "code",
   "execution_count": 7,
   "id": "4a462b66",
   "metadata": {},
   "outputs": [
    {
     "data": {
      "text/html": [
       "<div>\n",
       "<style scoped>\n",
       "    .dataframe tbody tr th:only-of-type {\n",
       "        vertical-align: middle;\n",
       "    }\n",
       "\n",
       "    .dataframe tbody tr th {\n",
       "        vertical-align: top;\n",
       "    }\n",
       "\n",
       "    .dataframe thead th {\n",
       "        text-align: right;\n",
       "    }\n",
       "</style>\n",
       "<table border=\"1\" class=\"dataframe\">\n",
       "  <thead>\n",
       "    <tr style=\"text-align: right;\">\n",
       "      <th></th>\n",
       "      <th>Date</th>\n",
       "      <th>Position</th>\n",
       "      <th>Freq</th>\n",
       "      <th>Salary</th>\n",
       "      <th>StartDate</th>\n",
       "      <th>Location</th>\n",
       "      <th>Days</th>\n",
       "    </tr>\n",
       "  </thead>\n",
       "  <tbody>\n",
       "    <tr>\n",
       "      <th>0</th>\n",
       "      <td>15.10.2023</td>\n",
       "      <td>Nanny</td>\n",
       "      <td>Regelmässig</td>\n",
       "      <td>Marktüblich</td>\n",
       "      <td>Februar/März 2024</td>\n",
       "      <td>Aarau - Aargau</td>\n",
       "      <td>1 Tag à ca 8-9 Stunden</td>\n",
       "    </tr>\n",
       "    <tr>\n",
       "      <th>1</th>\n",
       "      <td>07.10.2023</td>\n",
       "      <td>Nanny</td>\n",
       "      <td>Einmalig</td>\n",
       "      <td>20-25 CHF</td>\n",
       "      <td>09.00</td>\n",
       "      <td>Lenzerheide</td>\n",
       "      <td>1tag</td>\n",
       "    </tr>\n",
       "    <tr>\n",
       "      <th>2</th>\n",
       "      <td>06.10.2023</td>\n",
       "      <td>Nanny</td>\n",
       "      <td>Regelmässig</td>\n",
       "      <td>25-30 CHF</td>\n",
       "      <td>sofort</td>\n",
       "      <td>Schaffhausen - Schaffhausen</td>\n",
       "      <td>Donnerstag, ~9 Stunden ab 7.45 Uhr</td>\n",
       "    </tr>\n",
       "    <tr>\n",
       "      <th>3</th>\n",
       "      <td>06.10.2023</td>\n",
       "      <td>Nacht Nanny</td>\n",
       "      <td>Regelmässig</td>\n",
       "      <td>Marktüblich</td>\n",
       "      <td>Per sofort / baldmöglichst</td>\n",
       "      <td>Zurich - Zürich</td>\n",
       "      <td>2x Nächte / Woche</td>\n",
       "    </tr>\n",
       "    <tr>\n",
       "      <th>4</th>\n",
       "      <td>06.10.2023</td>\n",
       "      <td>Nanny</td>\n",
       "      <td>Regelmässig</td>\n",
       "      <td>Marktüblich</td>\n",
       "      <td>NaN</td>\n",
       "      <td>Flawil (SG)</td>\n",
       "      <td>1 bis 2 Tage</td>\n",
       "    </tr>\n",
       "  </tbody>\n",
       "</table>\n",
       "</div>"
      ],
      "text/plain": [
       "         Date     Position         Freq       Salary  \\\n",
       "0  15.10.2023        Nanny  Regelmässig  Marktüblich   \n",
       "1  07.10.2023        Nanny     Einmalig    20-25 CHF   \n",
       "2  06.10.2023        Nanny  Regelmässig    25-30 CHF   \n",
       "3  06.10.2023  Nacht Nanny  Regelmässig  Marktüblich   \n",
       "4  06.10.2023        Nanny  Regelmässig  Marktüblich   \n",
       "\n",
       "                    StartDate                     Location  \\\n",
       "0           Februar/März 2024               Aarau - Aargau   \n",
       "1                       09.00                  Lenzerheide   \n",
       "2                      sofort  Schaffhausen - Schaffhausen   \n",
       "3  Per sofort / baldmöglichst              Zurich - Zürich   \n",
       "4                         NaN                  Flawil (SG)   \n",
       "\n",
       "                                 Days  \n",
       "0              1 Tag à ca 8-9 Stunden  \n",
       "1                                1tag  \n",
       "2  Donnerstag, ~9 Stunden ab 7.45 Uhr  \n",
       "3                   2x Nächte / Woche  \n",
       "4                        1 bis 2 Tage  "
      ]
     },
     "execution_count": 7,
     "metadata": {},
     "output_type": "execute_result"
    }
   ],
   "source": [
    "import pandas as pd\n",
    "df = pd.read_csv('zipfel_zapf.csv')\n",
    "df.head()"
   ]
  },
  {
   "cell_type": "code",
   "execution_count": 8,
   "id": "d7308aa6",
   "metadata": {},
   "outputs": [
    {
     "name": "stdout",
     "output_type": "stream",
     "text": [
      "{'Marktüblich': 45, '20-25 CHF': 10, '25-30 CHF': 3, '30-35 CHF': 4}\n"
     ]
    }
   ],
   "source": [
    "# Salary Overview\n",
    "salary_dict = {}\n",
    "for s in df['Salary']:\n",
    "    if s in salary_dict:\n",
    "        salary_dict[s] += 1\n",
    "    else:\n",
    "        salary_dict[s] = 1\n",
    "print(salary_dict)"
   ]
  },
  {
   "cell_type": "code",
   "execution_count": 9,
   "id": "9910ca95",
   "metadata": {},
   "outputs": [
    {
     "data": {
      "image/png": "[encoded data removed]",
      "text/plain": [
       "<Figure size 432x288 with 1 Axes>"
      ]
     },
     "metadata": {
      "needs_background": "light"
     },
     "output_type": "display_data"
    }
   ],
   "source": [
    "import numpy as np\n",
    "import matplotlib.pyplot as plt\n",
    "names = list(salary_dict.keys())\n",
    "values = list(salary_dict.values())\n",
    "\n",
    "plt.bar(range(len(salary_dict)), values, tick_label=names)\n",
    "plt.show()"
   ]
  },
  {
   "cell_type": "code",
   "execution_count": 10,
   "id": "2112e80c",
   "metadata": {},
   "outputs": [
    {
     "name": "stdout",
     "output_type": "stream",
     "text": [
      "{'Regelmässig': 51, 'Einmalig': 2, 'Mehrmalig': 9}\n"
     ]
    }
   ],
   "source": [
    "# Frequency Overview\n",
    "freq_dict = {}\n",
    "for f in df['Freq']:\n",
    "    if f in freq_dict:\n",
    "        freq_dict[f] += 1\n",
    "    else:\n",
    "        freq_dict[f] = 1\n",
    "print(freq_dict)"
   ]
  },
  {
   "cell_type": "code",
   "execution_count": null,
   "id": "36b13215",
   "metadata": {},
   "outputs": [],
   "source": []
  }
 ],
 "metadata": {
  "kernelspec": {
   "display_name": "Python 3 (ipykernel)",
   "language": "python",
   "name": "python3"
  },
  "language_info": {
   "codemirror_mode": {
    "name": "ipython",
    "version": 3
   },
   "file_extension": ".py",
   "mimetype": "text/x-python",
   "name": "python",
   "nbconvert_exporter": "python",
   "pygments_lexer": "ipython3",
   "version": "3.9.7"
  }
 },
 "nbformat": 4,
 "nbformat_minor": 5
}
