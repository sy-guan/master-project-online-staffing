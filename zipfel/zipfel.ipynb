{
 "cells": [
  {
   "cell_type": "code",
   "execution_count": 1,
   "id": "fc3952ef",
   "metadata": {},
   "outputs": [],
   "source": [
    "from selenium import webdriver\n",
    "from selenium.webdriver.common.by import By\n",
    "from selenium.webdriver.common.action_chains import ActionChains\n",
    "from selenium.webdriver.common.keys import Keys\n",
    "from selenium.webdriver.support.ui import WebDriverWait\n",
    "from selenium.webdriver.support import expected_conditions as EC\n",
    "\n",
    "import chromedriver_binary\n",
    "\n",
    "\n",
    "def open_browser():\n",
    "    \"\"\"\n",
    "    Opens a new automated browser window with all tell-tales of automated browser disabled\n",
    "    \"\"\"\n",
    "    options = webdriver.ChromeOptions()\n",
    "    options.add_argument(\"start-maximized\")\n",
    "\n",
    "    # remove all signs of this being an automated browser\n",
    "    options.add_argument('--disable-blink-features=AutomationControlled')\n",
    "    options.add_experimental_option(\"excludeSwitches\", [\"enable-automation\"])\n",
    "    options.add_experimental_option('useAutomationExtension', False)\n",
    "\n",
    "    # open the browser with the new options\n",
    "    driver = webdriver.Chrome(options=options)\n",
    "    return driver"
   ]
  },
  {
   "cell_type": "code",
   "execution_count": 2,
   "id": "0428ff3d",
   "metadata": {},
   "outputs": [],
   "source": [
    "# Open browser\n",
    "driver = open_browser()\n",
    "driver.get('https://zipfelzapf.ch/home')"
   ]
  },
  {
   "cell_type": "code",
   "execution_count": 3,
   "id": "81508565",
   "metadata": {},
   "outputs": [],
   "source": [
    "def find_jobs(driver):\n",
    "    \"\"\"\n",
    "    Finds all jobs loaded in the browser\n",
    "    \"\"\"\n",
    "    jobs = driver.find_elements(By.CSS_SELECTOR, 'tbody tr')\n",
    "    jobs.pop()\n",
    "    return jobs"
   ]
  },
  {
   "cell_type": "code",
   "execution_count": 4,
   "id": "9a1d43b2",
   "metadata": {},
   "outputs": [],
   "source": [
    "jobs = find_jobs(driver)"
   ]
  },
  {
   "cell_type": "code",
   "execution_count": 5,
   "id": "9892fc67",
   "metadata": {},
   "outputs": [],
   "source": [
    "def get_job_info(job, driver):\n",
    "    description = {}\n",
    "    \n",
    "    all_info = job.find_elements(By.CLASS_NAME,'bericht_eintrag_leiste')\n",
    "    if not all_info:\n",
    "        all_info = job.find_elements(By.CLASS_NAME,'bericht_eintrag_leiste_2')\n",
    "        \n",
    "    info_list = [info.text for info in all_info]\n",
    "\n",
    "    loc_days = info_list.pop(1).split('\\n')\n",
    "    loc = loc_days[0]\n",
    "    days = loc_days[1]\n",
    "    info_list += [loc, days]\n",
    "    name = ['Date', 'Position', 'Freq', 'Salary','StartDate', 'Location','Days']\n",
    "    \n",
    "    description = dict(zip(name, info_list))\n",
    "    row = description.values()\n",
    "    \n",
    "    return description, row\n",
    "\n",
    "def write_to_csv(data):\n",
    "    header =['Date', 'Position', 'Freq', 'Salary','StartDate', 'Location','Days']\n",
    "    with open('data/zipfel_zapf.csv', 'w',encoding='utf-8-sig') as f:\n",
    "        # create the csv writer\n",
    "        writer = csv.writer(f)\n",
    "\n",
    "        # write a row to the csv file\n",
    "        writer.writerow(header)\n",
    "        writer.writerows(data)"
   ]
  },
  {
   "cell_type": "code",
   "execution_count": 6,
   "id": "969b2b13",
   "metadata": {},
   "outputs": [],
   "source": [
    "import csv\n",
    "data = []\n",
    "for job in jobs:\n",
    "    description, row = get_job_info(job, driver)\n",
    "    if row:\n",
    "        data.append(row)\n",
    "    write_to_csv(data)"
   ]
  }
 ],
 "metadata": {
  "kernelspec": {
   "display_name": "Python 3 (ipykernel)",
   "language": "python",
   "name": "python3"
  },
  "language_info": {
   "codemirror_mode": {
    "name": "ipython",
    "version": 3
   },
   "file_extension": ".py",
   "mimetype": "text/x-python",
   "name": "python",
   "nbconvert_exporter": "python",
   "pygments_lexer": "ipython3",
   "version": "3.9.7"
  }
 },
 "nbformat": 4,
 "nbformat_minor": 5
}
