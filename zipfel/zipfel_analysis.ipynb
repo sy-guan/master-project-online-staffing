{
 "cells": [
  {
   "cell_type": "code",
   "execution_count": 4,
   "id": "a15a5c58",
   "metadata": {},
   "outputs": [
    {
     "data": {
      "text/html": [
       "<div>\n",
       "<style scoped>\n",
       "    .dataframe tbody tr th:only-of-type {\n",
       "        vertical-align: middle;\n",
       "    }\n",
       "\n",
       "    .dataframe tbody tr th {\n",
       "        vertical-align: top;\n",
       "    }\n",
       "\n",
       "    .dataframe thead th {\n",
       "        text-align: right;\n",
       "    }\n",
       "</style>\n",
       "<table border=\"1\" class=\"dataframe\">\n",
       "  <thead>\n",
       "    <tr style=\"text-align: right;\">\n",
       "      <th></th>\n",
       "      <th>Date</th>\n",
       "      <th>Position</th>\n",
       "      <th>Freq</th>\n",
       "      <th>Salary</th>\n",
       "      <th>StartDate</th>\n",
       "      <th>Location</th>\n",
       "      <th>Days</th>\n",
       "    </tr>\n",
       "  </thead>\n",
       "  <tbody>\n",
       "    <tr>\n",
       "      <th>0</th>\n",
       "      <td>15.10.2023</td>\n",
       "      <td>Nanny</td>\n",
       "      <td>Regelmässig</td>\n",
       "      <td>Marktüblich</td>\n",
       "      <td>Februar/März 2024</td>\n",
       "      <td>Aarau - Aargau</td>\n",
       "      <td>1 Tag à ca 8-9 Stunden</td>\n",
       "    </tr>\n",
       "    <tr>\n",
       "      <th>1</th>\n",
       "      <td>07.10.2023</td>\n",
       "      <td>Nanny</td>\n",
       "      <td>Einmalig</td>\n",
       "      <td>20-25 CHF</td>\n",
       "      <td>09.00</td>\n",
       "      <td>Lenzerheide</td>\n",
       "      <td>1tag</td>\n",
       "    </tr>\n",
       "    <tr>\n",
       "      <th>2</th>\n",
       "      <td>06.10.2023</td>\n",
       "      <td>Nanny</td>\n",
       "      <td>Regelmässig</td>\n",
       "      <td>25-30 CHF</td>\n",
       "      <td>sofort</td>\n",
       "      <td>Schaffhausen - Schaffhausen</td>\n",
       "      <td>Donnerstag, ~9 Stunden ab 7.45 Uhr</td>\n",
       "    </tr>\n",
       "    <tr>\n",
       "      <th>3</th>\n",
       "      <td>06.10.2023</td>\n",
       "      <td>Nacht Nanny</td>\n",
       "      <td>Regelmässig</td>\n",
       "      <td>Marktüblich</td>\n",
       "      <td>Per sofort / baldmöglichst</td>\n",
       "      <td>Zurich - Zürich</td>\n",
       "      <td>2x Nächte / Woche</td>\n",
       "    </tr>\n",
       "    <tr>\n",
       "      <th>4</th>\n",
       "      <td>06.10.2023</td>\n",
       "      <td>Nanny</td>\n",
       "      <td>Regelmässig</td>\n",
       "      <td>Marktüblich</td>\n",
       "      <td>NaN</td>\n",
       "      <td>Flawil (SG)</td>\n",
       "      <td>1 bis 2 Tage</td>\n",
       "    </tr>\n",
       "    <tr>\n",
       "      <th>...</th>\n",
       "      <td>...</td>\n",
       "      <td>...</td>\n",
       "      <td>...</td>\n",
       "      <td>...</td>\n",
       "      <td>...</td>\n",
       "      <td>...</td>\n",
       "      <td>...</td>\n",
       "    </tr>\n",
       "    <tr>\n",
       "      <th>57</th>\n",
       "      <td>08.07.2022</td>\n",
       "      <td>Babysitterin</td>\n",
       "      <td>Regelmässig</td>\n",
       "      <td>30-35 CHF</td>\n",
       "      <td>22.8.22</td>\n",
       "      <td>Thalwil - Zürich</td>\n",
       "      <td>Freitag, 17.30-22.30 Uhr</td>\n",
       "    </tr>\n",
       "    <tr>\n",
       "      <th>58</th>\n",
       "      <td>06.07.2022</td>\n",
       "      <td>Nanny</td>\n",
       "      <td>Regelmässig</td>\n",
       "      <td>Marktüblich</td>\n",
       "      <td>August oder nach Vereinbarung</td>\n",
       "      <td>Zürich - Zürich</td>\n",
       "      <td>Mittwoch 07:30 - 19:30</td>\n",
       "    </tr>\n",
       "    <tr>\n",
       "      <th>59</th>\n",
       "      <td>31.03.2022</td>\n",
       "      <td>Nanny/ Tagesmami</td>\n",
       "      <td>Regelmässig</td>\n",
       "      <td>Marktüblich</td>\n",
       "      <td>Sofort</td>\n",
       "      <td>Berneck - Appenzell Innerrhoden</td>\n",
       "      <td>3 Tage à 4-10 Stunden</td>\n",
       "    </tr>\n",
       "    <tr>\n",
       "      <th>60</th>\n",
       "      <td>31.03.2022</td>\n",
       "      <td>Nanny/ Tagesmami</td>\n",
       "      <td>Regelmässig</td>\n",
       "      <td>Marktüblich</td>\n",
       "      <td>Sofort</td>\n",
       "      <td>Berneck - St. Gallen</td>\n",
       "      <td>3 Tage à 4-10 Stunden</td>\n",
       "    </tr>\n",
       "    <tr>\n",
       "      <th>61</th>\n",
       "      <td>14.03.2022</td>\n",
       "      <td>Nanny</td>\n",
       "      <td>Mehrmalig</td>\n",
       "      <td>Marktüblich</td>\n",
       "      <td>Ab April möglich</td>\n",
       "      <td>Zürich - Zürich</td>\n",
       "      <td>8-16h pro Woche</td>\n",
       "    </tr>\n",
       "  </tbody>\n",
       "</table>\n",
       "<p>62 rows × 7 columns</p>\n",
       "</div>"
      ],
      "text/plain": [
       "          Date          Position         Freq       Salary  \\\n",
       "0   15.10.2023             Nanny  Regelmässig  Marktüblich   \n",
       "1   07.10.2023             Nanny     Einmalig    20-25 CHF   \n",
       "2   06.10.2023             Nanny  Regelmässig    25-30 CHF   \n",
       "3   06.10.2023       Nacht Nanny  Regelmässig  Marktüblich   \n",
       "4   06.10.2023             Nanny  Regelmässig  Marktüblich   \n",
       "..         ...               ...          ...          ...   \n",
       "57  08.07.2022      Babysitterin  Regelmässig    30-35 CHF   \n",
       "58  06.07.2022             Nanny  Regelmässig  Marktüblich   \n",
       "59  31.03.2022  Nanny/ Tagesmami  Regelmässig  Marktüblich   \n",
       "60  31.03.2022  Nanny/ Tagesmami  Regelmässig  Marktüblich   \n",
       "61  14.03.2022             Nanny    Mehrmalig  Marktüblich   \n",
       "\n",
       "                        StartDate                         Location  \\\n",
       "0               Februar/März 2024                   Aarau - Aargau   \n",
       "1                           09.00                      Lenzerheide   \n",
       "2                          sofort      Schaffhausen - Schaffhausen   \n",
       "3      Per sofort / baldmöglichst                  Zurich - Zürich   \n",
       "4                             NaN                      Flawil (SG)   \n",
       "..                            ...                              ...   \n",
       "57                        22.8.22                 Thalwil - Zürich   \n",
       "58  August oder nach Vereinbarung                  Zürich - Zürich   \n",
       "59                         Sofort  Berneck - Appenzell Innerrhoden   \n",
       "60                         Sofort             Berneck - St. Gallen   \n",
       "61               Ab April möglich                  Zürich - Zürich   \n",
       "\n",
       "                                  Days  \n",
       "0               1 Tag à ca 8-9 Stunden  \n",
       "1                                 1tag  \n",
       "2   Donnerstag, ~9 Stunden ab 7.45 Uhr  \n",
       "3                    2x Nächte / Woche  \n",
       "4                         1 bis 2 Tage  \n",
       "..                                 ...  \n",
       "57            Freitag, 17.30-22.30 Uhr  \n",
       "58              Mittwoch 07:30 - 19:30  \n",
       "59               3 Tage à 4-10 Stunden  \n",
       "60               3 Tage à 4-10 Stunden  \n",
       "61                     8-16h pro Woche  \n",
       "\n",
       "[62 rows x 7 columns]"
      ]
     },
     "execution_count": 4,
     "metadata": {},
     "output_type": "execute_result"
    }
   ],
   "source": [
    "import pandas as pd\n",
    "import numpy as np\n",
    "df = pd.read_csv(\"data/zipfel_zapf.csv\")\n",
    "df"
   ]
  },
  {
   "cell_type": "code",
   "execution_count": 5,
   "metadata": {},
   "outputs": [
    {
     "name": "stdout",
     "output_type": "stream",
     "text": [
      "{'Marktüblich': 45, '20-25 CHF': 10, '25-30 CHF': 3, '30-35 CHF': 4}\n"
     ]
    }
   ],
   "source": [
    "# Salary Overview\n",
    "salary_dict = {}\n",
    "for s in df['Salary']:\n",
    "    if s in salary_dict:\n",
    "        salary_dict[s] += 1\n",
    "    else:\n",
    "        salary_dict[s] = 1\n",
    "print(salary_dict)"
   ]
  },
  {
   "cell_type": "code",
   "execution_count": 7,
   "id": "db9907b3",
   "metadata": {},
   "outputs": [
    {
     "data": {
      "image/png": "[encoded data removed]",
      "text/plain": [
       "<Figure size 432x288 with 1 Axes>"
      ]
     },
     "metadata": {
      "needs_background": "light"
     },
     "output_type": "display_data"
    }
   ],
   "source": [
    "import numpy as np\n",
    "import matplotlib.pyplot as plt\n",
    "names = list(salary_dict.keys())\n",
    "values = list(salary_dict.values())\n",
    "\n",
    "plt.bar(range(len(salary_dict)), values, tick_label=names)\n",
    "plt.show()"
   ]
  },
  {
   "cell_type": "code",
   "execution_count": 6,
   "metadata": {},
   "outputs": [
    {
     "name": "stdout",
     "output_type": "stream",
     "text": [
      "{'Regelmässig': 51, 'Einmalig': 2, 'Mehrmalig': 9}\n"
     ]
    }
   ],
   "source": [
    "# Frequency Overview\n",
    "freq_dict = {}\n",
    "for f in df['Freq']:\n",
    "    if f in freq_dict:\n",
    "        freq_dict[f] += 1\n",
    "    else:\n",
    "        freq_dict[f] = 1\n",
    "print(freq_dict)"
   ]
  }
 ],
 "metadata": {
  "kernelspec": {
   "display_name": "Python 3 (ipykernel)",
   "language": "python",
   "name": "python3"
  },
  "language_info": {
   "codemirror_mode": {
    "name": "ipython",
    "version": 3
   },
   "file_extension": ".py",
   "mimetype": "text/x-python",
   "name": "python",
   "nbconvert_exporter": "python",
   "pygments_lexer": "ipython3",
   "version": "3.9.7"
  }
 },
 "nbformat": 4,
 "nbformat_minor": 5
}
