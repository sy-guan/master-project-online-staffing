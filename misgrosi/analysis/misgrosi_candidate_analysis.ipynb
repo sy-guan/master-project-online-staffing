{
 "cells": [
  {
   "cell_type": "code",
   "execution_count": 1,
   "id": "7f414fb5",
   "metadata": {},
   "outputs": [],
   "source": [
    "import pandas as pd\n",
    "import numpy as np\n",
    "import matplotlib.pyplot as plt\n",
    "df = pd.read_csv(\"../data/misgrosi_candidate.csv\")\n",
    "df_density = pd.read_excel('../../density.xlsx')"
   ]
  },
  {
   "cell_type": "code",
   "execution_count": 2,
   "id": "317a9300",
   "metadata": {},
   "outputs": [
    {
     "data": {
      "text/html": [
       "<div>\n",
       "<style scoped>\n",
       "    .dataframe tbody tr th:only-of-type {\n",
       "        vertical-align: middle;\n",
       "    }\n",
       "\n",
       "    .dataframe tbody tr th {\n",
       "        vertical-align: top;\n",
       "    }\n",
       "\n",
       "    .dataframe thead th {\n",
       "        text-align: right;\n",
       "    }\n",
       "</style>\n",
       "<table border=\"1\" class=\"dataframe\">\n",
       "  <thead>\n",
       "    <tr style=\"text-align: right;\">\n",
       "      <th></th>\n",
       "      <th>Name</th>\n",
       "      <th>Intro</th>\n",
       "      <th>Location</th>\n",
       "      <th>Role</th>\n",
       "      <th>Post Code</th>\n",
       "      <th>Stadt</th>\n",
       "    </tr>\n",
       "  </thead>\n",
       "  <tbody>\n",
       "    <tr>\n",
       "      <th>0</th>\n",
       "      <td>Nani Moni</td>\n",
       "      <td>Einfach ein lässiges Grosi sy</td>\n",
       "      <td>4900 Langenthal</td>\n",
       "      <td>Tages-Grosi</td>\n",
       "      <td>4900.0</td>\n",
       "      <td>Langenthal</td>\n",
       "    </tr>\n",
       "    <tr>\n",
       "      <th>1</th>\n",
       "      <td>Jida</td>\n",
       "      <td>Betreue Kinder aus allen Kulturen</td>\n",
       "      <td>4051 Basel</td>\n",
       "      <td>Tages-Grosi</td>\n",
       "      <td>4051.0</td>\n",
       "      <td>Basel</td>\n",
       "    </tr>\n",
       "    <tr>\n",
       "      <th>2</th>\n",
       "      <td>Phoebe-Grosi</td>\n",
       "      <td>Bin da offen und neugierig</td>\n",
       "      <td>8105 Watt</td>\n",
       "      <td>Tages-Grosi</td>\n",
       "      <td>8105.0</td>\n",
       "      <td>Watt</td>\n",
       "    </tr>\n",
       "    <tr>\n",
       "      <th>3</th>\n",
       "      <td>Wunsch-Omi Elvira</td>\n",
       "      <td>Jungebliebene, aktive mitten im Leben stehende...</td>\n",
       "      <td>9533 Kirchberg</td>\n",
       "      <td>Tages-Grosi</td>\n",
       "      <td>9533.0</td>\n",
       "      <td>Kirchberg</td>\n",
       "    </tr>\n",
       "    <tr>\n",
       "      <th>4</th>\n",
       "      <td>Grosi claudia</td>\n",
       "      <td>Bin aufgestellt und kinder lieb</td>\n",
       "      <td>3363 Oberön</td>\n",
       "      <td>Tages-Grosi</td>\n",
       "      <td>3363.0</td>\n",
       "      <td>Oberön</td>\n",
       "    </tr>\n",
       "  </tbody>\n",
       "</table>\n",
       "</div>"
      ],
      "text/plain": [
       "                Name                                              Intro  \\\n",
       "0          Nani Moni                      Einfach ein lässiges Grosi sy   \n",
       "1               Jida                  Betreue Kinder aus allen Kulturen   \n",
       "2       Phoebe-Grosi                         Bin da offen und neugierig   \n",
       "3  Wunsch-Omi Elvira  Jungebliebene, aktive mitten im Leben stehende...   \n",
       "4      Grosi claudia                    Bin aufgestellt und kinder lieb   \n",
       "\n",
       "          Location         Role  Post Code       Stadt  \n",
       "0  4900 Langenthal  Tages-Grosi     4900.0  Langenthal  \n",
       "1       4051 Basel  Tages-Grosi     4051.0       Basel  \n",
       "2        8105 Watt  Tages-Grosi     8105.0        Watt  \n",
       "3   9533 Kirchberg  Tages-Grosi     9533.0   Kirchberg  \n",
       "4      3363 Oberön  Tages-Grosi     3363.0      Oberön  "
      ]
     },
     "execution_count": 2,
     "metadata": {},
     "output_type": "execute_result"
    }
   ],
   "source": [
    "df.head()"
   ]
  },
  {
   "cell_type": "code",
   "execution_count": 3,
   "id": "d5edce31",
   "metadata": {},
   "outputs": [],
   "source": [
    "def post(row):\n",
    "    try:\n",
    "        post_stadt = row['Location'].split()\n",
    "        if post_stadt[0].isdigit():\n",
    "            val = int(post_stadt[0])\n",
    "        else:\n",
    "            val = None\n",
    "    except:\n",
    "        val = str(row['Location'])\n",
    "    \n",
    "    return val\n",
    "        \n",
    "df['Post Code'] = df.apply(post, axis=1)"
   ]
  },
  {
   "cell_type": "code",
   "execution_count": 4,
   "id": "5f2dc11f",
   "metadata": {},
   "outputs": [],
   "source": [
    "def stadt(row):\n",
    "    try:\n",
    "        post_stadt = row['Location'].split()\n",
    "\n",
    "        if len(post_stadt) == 2 :\n",
    "            val = post_stadt[1]\n",
    "        elif not post_stadt[0].isdigit():\n",
    "            val = post_stadt[0]\n",
    "        else:\n",
    "            val = None\n",
    "    except:\n",
    "        val = None\n",
    "    return val\n",
    "        \n",
    "df['Stadt'] = df.apply(stadt, axis=1)"
   ]
  },
  {
   "cell_type": "code",
   "execution_count": 5,
   "id": "21d5a582",
   "metadata": {},
   "outputs": [
    {
     "data": {
      "text/html": [
       "<div>\n",
       "<style scoped>\n",
       "    .dataframe tbody tr th:only-of-type {\n",
       "        vertical-align: middle;\n",
       "    }\n",
       "\n",
       "    .dataframe tbody tr th {\n",
       "        vertical-align: top;\n",
       "    }\n",
       "\n",
       "    .dataframe thead th {\n",
       "        text-align: right;\n",
       "    }\n",
       "</style>\n",
       "<table border=\"1\" class=\"dataframe\">\n",
       "  <thead>\n",
       "    <tr style=\"text-align: right;\">\n",
       "      <th></th>\n",
       "      <th>Name</th>\n",
       "      <th>Intro</th>\n",
       "      <th>Location</th>\n",
       "      <th>Role</th>\n",
       "      <th>Post Code</th>\n",
       "      <th>Stadt</th>\n",
       "    </tr>\n",
       "  </thead>\n",
       "  <tbody>\n",
       "    <tr>\n",
       "      <th>0</th>\n",
       "      <td>Nani Moni</td>\n",
       "      <td>Einfach ein lässiges Grosi sy</td>\n",
       "      <td>4900 Langenthal</td>\n",
       "      <td>Tages-Grosi</td>\n",
       "      <td>4900</td>\n",
       "      <td>Langenthal</td>\n",
       "    </tr>\n",
       "    <tr>\n",
       "      <th>1</th>\n",
       "      <td>Jida</td>\n",
       "      <td>Betreue Kinder aus allen Kulturen</td>\n",
       "      <td>4051 Basel</td>\n",
       "      <td>Tages-Grosi</td>\n",
       "      <td>4051</td>\n",
       "      <td>Basel</td>\n",
       "    </tr>\n",
       "    <tr>\n",
       "      <th>2</th>\n",
       "      <td>Phoebe-Grosi</td>\n",
       "      <td>Bin da offen und neugierig</td>\n",
       "      <td>8105 Watt</td>\n",
       "      <td>Tages-Grosi</td>\n",
       "      <td>8105</td>\n",
       "      <td>Watt</td>\n",
       "    </tr>\n",
       "    <tr>\n",
       "      <th>3</th>\n",
       "      <td>Wunsch-Omi Elvira</td>\n",
       "      <td>Jungebliebene, aktive mitten im Leben stehende...</td>\n",
       "      <td>9533 Kirchberg</td>\n",
       "      <td>Tages-Grosi</td>\n",
       "      <td>9533</td>\n",
       "      <td>Kirchberg</td>\n",
       "    </tr>\n",
       "    <tr>\n",
       "      <th>4</th>\n",
       "      <td>Grosi claudia</td>\n",
       "      <td>Bin aufgestellt und kinder lieb</td>\n",
       "      <td>3363 Oberön</td>\n",
       "      <td>Tages-Grosi</td>\n",
       "      <td>3363</td>\n",
       "      <td>Oberön</td>\n",
       "    </tr>\n",
       "  </tbody>\n",
       "</table>\n",
       "</div>"
      ],
      "text/plain": [
       "                Name                                              Intro  \\\n",
       "0          Nani Moni                      Einfach ein lässiges Grosi sy   \n",
       "1               Jida                  Betreue Kinder aus allen Kulturen   \n",
       "2       Phoebe-Grosi                         Bin da offen und neugierig   \n",
       "3  Wunsch-Omi Elvira  Jungebliebene, aktive mitten im Leben stehende...   \n",
       "4      Grosi claudia                    Bin aufgestellt und kinder lieb   \n",
       "\n",
       "          Location         Role Post Code       Stadt  \n",
       "0  4900 Langenthal  Tages-Grosi      4900  Langenthal  \n",
       "1       4051 Basel  Tages-Grosi      4051       Basel  \n",
       "2        8105 Watt  Tages-Grosi      8105        Watt  \n",
       "3   9533 Kirchberg  Tages-Grosi      9533   Kirchberg  \n",
       "4      3363 Oberön  Tages-Grosi      3363      Oberön  "
      ]
     },
     "execution_count": 5,
     "metadata": {},
     "output_type": "execute_result"
    }
   ],
   "source": [
    "df.head()"
   ]
  },
  {
   "cell_type": "code",
   "execution_count": 6,
   "id": "0fefa6ab",
   "metadata": {},
   "outputs": [
    {
     "data": {
      "text/html": [
       "<div>\n",
       "<style scoped>\n",
       "    .dataframe tbody tr th:only-of-type {\n",
       "        vertical-align: middle;\n",
       "    }\n",
       "\n",
       "    .dataframe tbody tr th {\n",
       "        vertical-align: top;\n",
       "    }\n",
       "\n",
       "    .dataframe thead th {\n",
       "        text-align: right;\n",
       "    }\n",
       "</style>\n",
       "<table border=\"1\" class=\"dataframe\">\n",
       "  <thead>\n",
       "    <tr style=\"text-align: right;\">\n",
       "      <th></th>\n",
       "      <th>Post Code</th>\n",
       "      <th>Counts</th>\n",
       "    </tr>\n",
       "  </thead>\n",
       "  <tbody>\n",
       "    <tr>\n",
       "      <th>0</th>\n",
       "      <td>2540</td>\n",
       "      <td>1</td>\n",
       "    </tr>\n",
       "    <tr>\n",
       "      <th>1</th>\n",
       "      <td>3027</td>\n",
       "      <td>1</td>\n",
       "    </tr>\n",
       "    <tr>\n",
       "      <th>2</th>\n",
       "      <td>3052</td>\n",
       "      <td>1</td>\n",
       "    </tr>\n",
       "    <tr>\n",
       "      <th>3</th>\n",
       "      <td>3053</td>\n",
       "      <td>1</td>\n",
       "    </tr>\n",
       "    <tr>\n",
       "      <th>4</th>\n",
       "      <td>3063</td>\n",
       "      <td>1</td>\n",
       "    </tr>\n",
       "    <tr>\n",
       "      <th>...</th>\n",
       "      <td>...</td>\n",
       "      <td>...</td>\n",
       "    </tr>\n",
       "    <tr>\n",
       "      <th>79</th>\n",
       "      <td>78351</td>\n",
       "      <td>1</td>\n",
       "    </tr>\n",
       "    <tr>\n",
       "      <th>80</th>\n",
       "      <td>79639</td>\n",
       "      <td>1</td>\n",
       "    </tr>\n",
       "    <tr>\n",
       "      <th>81</th>\n",
       "      <td>79875</td>\n",
       "      <td>1</td>\n",
       "    </tr>\n",
       "    <tr>\n",
       "      <th>82</th>\n",
       "      <td>80992</td>\n",
       "      <td>1</td>\n",
       "    </tr>\n",
       "    <tr>\n",
       "      <th>83</th>\n",
       "      <td>nan</td>\n",
       "      <td>1</td>\n",
       "    </tr>\n",
       "  </tbody>\n",
       "</table>\n",
       "<p>84 rows × 2 columns</p>\n",
       "</div>"
      ],
      "text/plain": [
       "   Post Code  Counts\n",
       "0       2540       1\n",
       "1       3027       1\n",
       "2       3052       1\n",
       "3       3053       1\n",
       "4       3063       1\n",
       "..       ...     ...\n",
       "79     78351       1\n",
       "80     79639       1\n",
       "81     79875       1\n",
       "82     80992       1\n",
       "83       nan       1\n",
       "\n",
       "[84 rows x 2 columns]"
      ]
     },
     "execution_count": 6,
     "metadata": {},
     "output_type": "execute_result"
    }
   ],
   "source": [
    "# Data group by post code\n",
    "df_count = df.groupby(['Post Code']).size().reset_index(name = 'Counts')\n",
    "df_count"
   ]
  },
  {
   "cell_type": "code",
   "execution_count": 7,
   "id": "fb21070e",
   "metadata": {},
   "outputs": [
    {
     "data": {
      "text/html": [
       "<div>\n",
       "<style scoped>\n",
       "    .dataframe tbody tr th:only-of-type {\n",
       "        vertical-align: middle;\n",
       "    }\n",
       "\n",
       "    .dataframe tbody tr th {\n",
       "        vertical-align: top;\n",
       "    }\n",
       "\n",
       "    .dataframe thead th {\n",
       "        text-align: right;\n",
       "    }\n",
       "</style>\n",
       "<table border=\"1\" class=\"dataframe\">\n",
       "  <thead>\n",
       "    <tr style=\"text-align: right;\">\n",
       "      <th></th>\n",
       "      <th>Post Code</th>\n",
       "      <th>Counts</th>\n",
       "      <th>City</th>\n",
       "      <th>Region</th>\n",
       "      <th>Population</th>\n",
       "      <th>Area</th>\n",
       "      <th>Density</th>\n",
       "      <th>gig_per</th>\n",
       "      <th>urban</th>\n",
       "    </tr>\n",
       "  </thead>\n",
       "  <tbody>\n",
       "    <tr>\n",
       "      <th>0</th>\n",
       "      <td>2540</td>\n",
       "      <td>1</td>\n",
       "      <td>NaN</td>\n",
       "      <td>Canton of Solothurn</td>\n",
       "      <td>15696.0</td>\n",
       "      <td>26.00</td>\n",
       "      <td>603.692308</td>\n",
       "      <td>0.006371</td>\n",
       "      <td>urban</td>\n",
       "    </tr>\n",
       "    <tr>\n",
       "      <th>1</th>\n",
       "      <td>3027</td>\n",
       "      <td>1</td>\n",
       "      <td>NaN</td>\n",
       "      <td>Canton of Bern</td>\n",
       "      <td>11214.0</td>\n",
       "      <td>6.30</td>\n",
       "      <td>1780.000000</td>\n",
       "      <td>0.008917</td>\n",
       "      <td>urban center</td>\n",
       "    </tr>\n",
       "    <tr>\n",
       "      <th>2</th>\n",
       "      <td>3052</td>\n",
       "      <td>1</td>\n",
       "      <td>NaN</td>\n",
       "      <td>Canton of Bern</td>\n",
       "      <td>11884.0</td>\n",
       "      <td>6.40</td>\n",
       "      <td>1856.875000</td>\n",
       "      <td>0.008415</td>\n",
       "      <td>urban center</td>\n",
       "    </tr>\n",
       "    <tr>\n",
       "      <th>3</th>\n",
       "      <td>3053</td>\n",
       "      <td>1</td>\n",
       "      <td>Münchenbuchsee</td>\n",
       "      <td>Canton of Bern</td>\n",
       "      <td>9817.0</td>\n",
       "      <td>14.90</td>\n",
       "      <td>658.859060</td>\n",
       "      <td>0.010186</td>\n",
       "      <td>urban</td>\n",
       "    </tr>\n",
       "    <tr>\n",
       "      <th>4</th>\n",
       "      <td>3063</td>\n",
       "      <td>1</td>\n",
       "      <td>Ittigen</td>\n",
       "      <td>Canton of Bern</td>\n",
       "      <td>10507.0</td>\n",
       "      <td>3.36</td>\n",
       "      <td>3127.083333</td>\n",
       "      <td>0.009517</td>\n",
       "      <td>urban center</td>\n",
       "    </tr>\n",
       "  </tbody>\n",
       "</table>\n",
       "</div>"
      ],
      "text/plain": [
       "  Post Code  Counts            City               Region  Population   Area  \\\n",
       "0      2540       1             NaN  Canton of Solothurn     15696.0  26.00   \n",
       "1      3027       1             NaN       Canton of Bern     11214.0   6.30   \n",
       "2      3052       1             NaN       Canton of Bern     11884.0   6.40   \n",
       "3      3053       1  Münchenbuchsee       Canton of Bern      9817.0  14.90   \n",
       "4      3063       1         Ittigen       Canton of Bern     10507.0   3.36   \n",
       "\n",
       "       Density   gig_per         urban  \n",
       "0   603.692308  0.006371         urban  \n",
       "1  1780.000000  0.008917  urban center  \n",
       "2  1856.875000  0.008415  urban center  \n",
       "3   658.859060  0.010186         urban  \n",
       "4  3127.083333  0.009517  urban center  "
      ]
     },
     "execution_count": 7,
     "metadata": {},
     "output_type": "execute_result"
    }
   ],
   "source": [
    "# Merge grouped aby data with density.csv\n",
    "df = df_count.merge(df_density,on = 'Post Code',how = 'left')\n",
    "df['gig_per'] = 100*df['Counts']/df['Population']\n",
    "# Define urban column\n",
    "df['urban'] = 'unknown'\n",
    "df.loc[df['Density']<400, 'urban'] = 'rural'\n",
    "df.loc[(df['Density']>=400) & (df['Density']<1500), 'urban'] = 'urban'\n",
    "df.loc[df['Density']>1500, 'urban'] = 'urban center'\n",
    "df.head()"
   ]
  },
  {
   "cell_type": "code",
   "execution_count": 8,
   "id": "ca817017",
   "metadata": {},
   "outputs": [
    {
     "data": {
      "text/plain": [
       "urban\n",
       "rural           22\n",
       "unknown          9\n",
       "urban           30\n",
       "urban center    24\n",
       "Name: urban, dtype: int64"
      ]
     },
     "execution_count": 8,
     "metadata": {},
     "output_type": "execute_result"
    }
   ],
   "source": [
    "# Count job number of urban center, urban and rural \n",
    "urban_count = df.groupby('urban')['urban'].count()\n",
    "urban_count"
   ]
  },
  {
   "cell_type": "code",
   "execution_count": 9,
   "id": "0bb3dee3",
   "metadata": {},
   "outputs": [
    {
     "data": {
      "image/png": "[encoded data removed]",
      "text/plain": [
       "<Figure size 1080x576 with 1 Axes>"
      ]
     },
     "metadata": {},
     "output_type": "display_data"
    }
   ],
   "source": [
    "import seaborn as sns\n",
    "sns.set_style(\"whitegrid\")\n",
    "plt.figure(figsize=(15,8))\n",
    "ax = sns.boxplot(x=\"urban\", y=\"gig_per\",               \n",
    "data=df, palette=\"Set3\")"
   ]
  },
  {
   "cell_type": "code",
   "execution_count": 10,
   "id": "933fe6f5",
   "metadata": {},
   "outputs": [
    {
     "data": {
      "text/plain": [
       "<matplotlib.lines.Line2D at 0x7fa780e10430>"
      ]
     },
     "execution_count": 10,
     "metadata": {},
     "output_type": "execute_result"
    },
    {
     "data": {
      "image/png": "[encoded data removed]",
      "text/plain": [
       "<Figure size 432x288 with 1 Axes>"
      ]
     },
     "metadata": {},
     "output_type": "display_data"
    }
   ],
   "source": [
    "urban = df[df[\"urban\"]=='urban']['gig_per']\n",
    "urban_center = df[df[\"urban\"]=='urban center']['gig_per']\n",
    "rural = df[df[\"urban\"]=='rural']['gig_per']\n",
    "plt.hist(urban, color = 'c', edgecolor='black',alpha=0.65,bins = 50)\n",
    "plt.axvline(urban.mean(), color='r', linestyle='dashed', linewidth=1)"
   ]
  },
  {
   "cell_type": "code",
   "execution_count": 11,
   "id": "827557eb",
   "metadata": {},
   "outputs": [
    {
     "data": {
      "text/plain": [
       "<matplotlib.lines.Line2D at 0x7fa781249c10>"
      ]
     },
     "execution_count": 11,
     "metadata": {},
     "output_type": "execute_result"
    },
    {
     "data": {
      "image/png": "[encoded data removed]",
      "text/plain": [
       "<Figure size 432x288 with 1 Axes>"
      ]
     },
     "metadata": {},
     "output_type": "display_data"
    }
   ],
   "source": [
    "plt.hist(urban_center, color = 'c', edgecolor='black',alpha=0.65,bins = 50)\n",
    "plt.axvline(urban_center.mean(), color='r', linestyle='dashed', linewidth=1)"
   ]
  },
  {
   "cell_type": "code",
   "execution_count": 12,
   "id": "fadacaf9",
   "metadata": {},
   "outputs": [
    {
     "data": {
      "text/plain": [
       "<matplotlib.lines.Line2D at 0x7fa7812528e0>"
      ]
     },
     "execution_count": 12,
     "metadata": {},
     "output_type": "execute_result"
    },
    {
     "data": {
      "image/png": "[encoded data removed]",
      "text/plain": [
       "<Figure size 432x288 with 1 Axes>"
      ]
     },
     "metadata": {},
     "output_type": "display_data"
    }
   ],
   "source": [
    "plt.hist(rural, color = 'c', edgecolor='black',alpha=0.65,bins = 50)\n",
    "plt.axvline(rural.mean(), color='r', linestyle='dashed', linewidth=1)"
   ]
  },
  {
   "cell_type": "code",
   "execution_count": null,
   "id": "24020c46",
   "metadata": {},
   "outputs": [],
   "source": []
  }
 ],
 "metadata": {
  "kernelspec": {
   "display_name": "Python 3 (ipykernel)",
   "language": "python",
   "name": "python3"
  },
  "language_info": {
   "codemirror_mode": {
    "name": "ipython",
    "version": 3
   },
   "file_extension": ".py",
   "mimetype": "text/x-python",
   "name": "python",
   "nbconvert_exporter": "python",
   "pygments_lexer": "ipython3",
   "version": "3.9.7"
  }
 },
 "nbformat": 4,
 "nbformat_minor": 5
}
