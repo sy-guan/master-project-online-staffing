{
 "cells": [
  {
   "cell_type": "code",
   "execution_count": 1,
   "id": "76736de0",
   "metadata": {},
   "outputs": [],
   "source": [
    "import pandas as pd\n",
    "import numpy as np\n",
    "import matplotlib.pyplot as plt\n",
    "df = pd.read_csv(\"../data/misgrosi_job.csv\")\n",
    "df_density = pd.read_excel('../../density.xlsx')"
   ]
  },
  {
   "cell_type": "code",
   "execution_count": 2,
   "id": "34e12e9e",
   "metadata": {},
   "outputs": [
    {
     "data": {
      "text/plain": [
       "Position    object\n",
       "Company     object\n",
       "Location    object\n",
       "Job Type    object\n",
       "dtype: object"
      ]
     },
     "execution_count": 2,
     "metadata": {},
     "output_type": "execute_result"
    }
   ],
   "source": [
    "df.head()\n",
    "df.dtypes"
   ]
  },
  {
   "cell_type": "code",
   "execution_count": 3,
   "id": "1cba66b8",
   "metadata": {},
   "outputs": [],
   "source": [
    "def post(row):\n",
    "    try:\n",
    "        post_stadt = row['Location'].split()\n",
    "        if post_stadt[0].isdigit():\n",
    "            val = int(post_stadt[0])\n",
    "        else:\n",
    "            val = None\n",
    "    except:\n",
    "        val = str(row['Location'])\n",
    "    \n",
    "    return val\n",
    "        \n",
    "df['Post Code'] = df.apply(post, axis=1)"
   ]
  },
  {
   "cell_type": "code",
   "execution_count": 4,
   "id": "afa0a96d",
   "metadata": {},
   "outputs": [
    {
     "data": {
      "text/html": [
       "<div>\n",
       "<style scoped>\n",
       "    .dataframe tbody tr th:only-of-type {\n",
       "        vertical-align: middle;\n",
       "    }\n",
       "\n",
       "    .dataframe tbody tr th {\n",
       "        vertical-align: top;\n",
       "    }\n",
       "\n",
       "    .dataframe thead th {\n",
       "        text-align: right;\n",
       "    }\n",
       "</style>\n",
       "<table border=\"1\" class=\"dataframe\">\n",
       "  <thead>\n",
       "    <tr style=\"text-align: right;\">\n",
       "      <th></th>\n",
       "      <th>Position</th>\n",
       "      <th>Company</th>\n",
       "      <th>Location</th>\n",
       "      <th>Job Type</th>\n",
       "      <th>Post Code</th>\n",
       "      <th>Stadt</th>\n",
       "    </tr>\n",
       "  </thead>\n",
       "  <tbody>\n",
       "    <tr>\n",
       "      <th>0</th>\n",
       "      <td>Wir suchen ein zusätzliches Grosi, das uns vor...</td>\n",
       "      <td>Daniela1984</td>\n",
       "      <td>3114 Wichtra</td>\n",
       "      <td>Kinderbetreuung allgemein</td>\n",
       "      <td>3114.0</td>\n",
       "      <td>Wichtra</td>\n",
       "    </tr>\n",
       "    <tr>\n",
       "      <th>1</th>\n",
       "      <td>Suchen liebevolles Grosi für langfristige Betr...</td>\n",
       "      <td>Hendrik</td>\n",
       "      <td>3037 Herrenschwanden</td>\n",
       "      <td>Tages-Grosi</td>\n",
       "      <td>3037.0</td>\n",
       "      <td>Herrenschwanden</td>\n",
       "    </tr>\n",
       "    <tr>\n",
       "      <th>2</th>\n",
       "      <td>Liebe Betreuung gesucht in Rorbas\\nFamiliebuehrer</td>\n",
       "      <td>Familiebuehrer</td>\n",
       "      <td>8427 Rorbas</td>\n",
       "      <td>Grosi &amp; Opi</td>\n",
       "      <td>8427.0</td>\n",
       "      <td>Rorbas</td>\n",
       "    </tr>\n",
       "    <tr>\n",
       "      <th>3</th>\n",
       "      <td>Grosi gesucht im Entlebuch\\nMamimitHerz</td>\n",
       "      <td>MamimitHerz</td>\n",
       "      <td>6162 Entlebu</td>\n",
       "      <td>Grosi als Nanny/Haushaltshilfe</td>\n",
       "      <td>6162.0</td>\n",
       "      <td>Entlebu</td>\n",
       "    </tr>\n",
       "    <tr>\n",
       "      <th>4</th>\n",
       "      <td>Grosi gesucht für Kinderbetreuung in La Neuvev...</td>\n",
       "      <td>Sina 88</td>\n",
       "      <td>2520 La Neuvevill</td>\n",
       "      <td>Babysitting</td>\n",
       "      <td>2520.0</td>\n",
       "      <td>None</td>\n",
       "    </tr>\n",
       "  </tbody>\n",
       "</table>\n",
       "</div>"
      ],
      "text/plain": [
       "                                            Position         Company  \\\n",
       "0  Wir suchen ein zusätzliches Grosi, das uns vor...     Daniela1984   \n",
       "1  Suchen liebevolles Grosi für langfristige Betr...         Hendrik   \n",
       "2  Liebe Betreuung gesucht in Rorbas\\nFamiliebuehrer  Familiebuehrer   \n",
       "3            Grosi gesucht im Entlebuch\\nMamimitHerz     MamimitHerz   \n",
       "4  Grosi gesucht für Kinderbetreuung in La Neuvev...         Sina 88   \n",
       "\n",
       "               Location                        Job Type  Post Code  \\\n",
       "0          3114 Wichtra       Kinderbetreuung allgemein     3114.0   \n",
       "1  3037 Herrenschwanden                     Tages-Grosi     3037.0   \n",
       "2           8427 Rorbas                     Grosi & Opi     8427.0   \n",
       "3          6162 Entlebu  Grosi als Nanny/Haushaltshilfe     6162.0   \n",
       "4     2520 La Neuvevill                     Babysitting     2520.0   \n",
       "\n",
       "             Stadt  \n",
       "0          Wichtra  \n",
       "1  Herrenschwanden  \n",
       "2           Rorbas  \n",
       "3          Entlebu  \n",
       "4             None  "
      ]
     },
     "execution_count": 4,
     "metadata": {},
     "output_type": "execute_result"
    }
   ],
   "source": [
    "def stadt(row):\n",
    "    try:\n",
    "        post_stadt = row['Location'].split()\n",
    "\n",
    "        if len(post_stadt) == 2 :\n",
    "            val = post_stadt[1]\n",
    "        elif not post_stadt[0].isdigit():\n",
    "            val = post_stadt[0]\n",
    "        else:\n",
    "            val = None\n",
    "    except:\n",
    "        val = None\n",
    "    return val\n",
    "        \n",
    "df['Stadt'] = df.apply(stadt, axis=1)\n",
    "df.head()"
   ]
  },
  {
   "cell_type": "code",
   "execution_count": 5,
   "id": "8e16bb70",
   "metadata": {},
   "outputs": [
    {
     "data": {
      "text/html": [
       "<div>\n",
       "<style scoped>\n",
       "    .dataframe tbody tr th:only-of-type {\n",
       "        vertical-align: middle;\n",
       "    }\n",
       "\n",
       "    .dataframe tbody tr th {\n",
       "        vertical-align: top;\n",
       "    }\n",
       "\n",
       "    .dataframe thead th {\n",
       "        text-align: right;\n",
       "    }\n",
       "</style>\n",
       "<table border=\"1\" class=\"dataframe\">\n",
       "  <thead>\n",
       "    <tr style=\"text-align: right;\">\n",
       "      <th></th>\n",
       "      <th>Post Code</th>\n",
       "      <th>Counts</th>\n",
       "    </tr>\n",
       "  </thead>\n",
       "  <tbody>\n",
       "    <tr>\n",
       "      <th>0</th>\n",
       "      <td>1794.0</td>\n",
       "      <td>1</td>\n",
       "    </tr>\n",
       "    <tr>\n",
       "      <th>1</th>\n",
       "      <td>2000.0</td>\n",
       "      <td>2</td>\n",
       "    </tr>\n",
       "    <tr>\n",
       "      <th>2</th>\n",
       "      <td>2502.0</td>\n",
       "      <td>2</td>\n",
       "    </tr>\n",
       "    <tr>\n",
       "      <th>3</th>\n",
       "      <td>2503.0</td>\n",
       "      <td>2</td>\n",
       "    </tr>\n",
       "    <tr>\n",
       "      <th>4</th>\n",
       "      <td>2504.0</td>\n",
       "      <td>1</td>\n",
       "    </tr>\n",
       "    <tr>\n",
       "      <th>...</th>\n",
       "      <td>...</td>\n",
       "      <td>...</td>\n",
       "    </tr>\n",
       "    <tr>\n",
       "      <th>573</th>\n",
       "      <td>9642.0</td>\n",
       "      <td>1</td>\n",
       "    </tr>\n",
       "    <tr>\n",
       "      <th>574</th>\n",
       "      <td>60005.0</td>\n",
       "      <td>1</td>\n",
       "    </tr>\n",
       "    <tr>\n",
       "      <th>575</th>\n",
       "      <td>75059.0</td>\n",
       "      <td>1</td>\n",
       "    </tr>\n",
       "    <tr>\n",
       "      <th>576</th>\n",
       "      <td>79541.0</td>\n",
       "      <td>1</td>\n",
       "    </tr>\n",
       "    <tr>\n",
       "      <th>577</th>\n",
       "      <td>80992.0</td>\n",
       "      <td>2</td>\n",
       "    </tr>\n",
       "  </tbody>\n",
       "</table>\n",
       "<p>578 rows × 2 columns</p>\n",
       "</div>"
      ],
      "text/plain": [
       "     Post Code  Counts\n",
       "0       1794.0       1\n",
       "1       2000.0       2\n",
       "2       2502.0       2\n",
       "3       2503.0       2\n",
       "4       2504.0       1\n",
       "..         ...     ...\n",
       "573     9642.0       1\n",
       "574    60005.0       1\n",
       "575    75059.0       1\n",
       "576    79541.0       1\n",
       "577    80992.0       2\n",
       "\n",
       "[578 rows x 2 columns]"
      ]
     },
     "execution_count": 5,
     "metadata": {},
     "output_type": "execute_result"
    }
   ],
   "source": [
    "# Data group by post code\n",
    "df_count = df.groupby(['Post Code']).size().reset_index(name = 'Counts')\n",
    "df_count"
   ]
  },
  {
   "cell_type": "code",
   "execution_count": 6,
   "id": "29153670",
   "metadata": {},
   "outputs": [
    {
     "data": {
      "text/html": [
       "<div>\n",
       "<style scoped>\n",
       "    .dataframe tbody tr th:only-of-type {\n",
       "        vertical-align: middle;\n",
       "    }\n",
       "\n",
       "    .dataframe tbody tr th {\n",
       "        vertical-align: top;\n",
       "    }\n",
       "\n",
       "    .dataframe thead th {\n",
       "        text-align: right;\n",
       "    }\n",
       "</style>\n",
       "<table border=\"1\" class=\"dataframe\">\n",
       "  <thead>\n",
       "    <tr style=\"text-align: right;\">\n",
       "      <th></th>\n",
       "      <th>Post Code</th>\n",
       "      <th>Counts</th>\n",
       "      <th>City</th>\n",
       "      <th>Region</th>\n",
       "      <th>Population</th>\n",
       "      <th>Area</th>\n",
       "      <th>Density</th>\n",
       "      <th>gig_per</th>\n",
       "      <th>urban</th>\n",
       "    </tr>\n",
       "  </thead>\n",
       "  <tbody>\n",
       "    <tr>\n",
       "      <th>0</th>\n",
       "      <td>1794.0</td>\n",
       "      <td>1</td>\n",
       "      <td>NaN</td>\n",
       "      <td>Canton of Fribourg</td>\n",
       "      <td>575.0</td>\n",
       "      <td>3.795</td>\n",
       "      <td>151.515152</td>\n",
       "      <td>0.173913</td>\n",
       "      <td>rural</td>\n",
       "    </tr>\n",
       "    <tr>\n",
       "      <th>1</th>\n",
       "      <td>2000.0</td>\n",
       "      <td>2</td>\n",
       "      <td>Neuchâtel</td>\n",
       "      <td>Canton of Neuchâtel</td>\n",
       "      <td>32376.0</td>\n",
       "      <td>31.600</td>\n",
       "      <td>1024.556962</td>\n",
       "      <td>0.006177</td>\n",
       "      <td>urban</td>\n",
       "    </tr>\n",
       "    <tr>\n",
       "      <th>2</th>\n",
       "      <td>2502.0</td>\n",
       "      <td>2</td>\n",
       "      <td>NaN</td>\n",
       "      <td>Canton of Bern</td>\n",
       "      <td>16911.0</td>\n",
       "      <td>6.400</td>\n",
       "      <td>2642.343750</td>\n",
       "      <td>0.011827</td>\n",
       "      <td>urban center</td>\n",
       "    </tr>\n",
       "    <tr>\n",
       "      <th>3</th>\n",
       "      <td>2503.0</td>\n",
       "      <td>2</td>\n",
       "      <td>NaN</td>\n",
       "      <td>Canton of Bern</td>\n",
       "      <td>14239.0</td>\n",
       "      <td>2.954</td>\n",
       "      <td>4820.243737</td>\n",
       "      <td>0.014046</td>\n",
       "      <td>urban center</td>\n",
       "    </tr>\n",
       "    <tr>\n",
       "      <th>4</th>\n",
       "      <td>2504.0</td>\n",
       "      <td>1</td>\n",
       "      <td>NaN</td>\n",
       "      <td>Canton of Bern</td>\n",
       "      <td>23332.0</td>\n",
       "      <td>9.700</td>\n",
       "      <td>2405.360825</td>\n",
       "      <td>0.004286</td>\n",
       "      <td>urban center</td>\n",
       "    </tr>\n",
       "  </tbody>\n",
       "</table>\n",
       "</div>"
      ],
      "text/plain": [
       "   Post Code  Counts       City               Region  Population    Area  \\\n",
       "0     1794.0       1        NaN   Canton of Fribourg       575.0   3.795   \n",
       "1     2000.0       2  Neuchâtel  Canton of Neuchâtel     32376.0  31.600   \n",
       "2     2502.0       2        NaN       Canton of Bern     16911.0   6.400   \n",
       "3     2503.0       2        NaN       Canton of Bern     14239.0   2.954   \n",
       "4     2504.0       1        NaN       Canton of Bern     23332.0   9.700   \n",
       "\n",
       "       Density   gig_per         urban  \n",
       "0   151.515152  0.173913         rural  \n",
       "1  1024.556962  0.006177         urban  \n",
       "2  2642.343750  0.011827  urban center  \n",
       "3  4820.243737  0.014046  urban center  \n",
       "4  2405.360825  0.004286  urban center  "
      ]
     },
     "execution_count": 6,
     "metadata": {},
     "output_type": "execute_result"
    }
   ],
   "source": [
    "# Merge grouped aby data with density.csv\n",
    "df = df_count.merge(df_density,on = 'Post Code',how = 'left')\n",
    "df['gig_per'] = 100*df['Counts']/df['Population']\n",
    "# Define urban column\n",
    "df['urban'] = 'unknown'\n",
    "df.loc[df['Density']<400, 'urban'] = 'rural'\n",
    "df.loc[(df['Density']>=400) & (df['Density']<1500), 'urban'] = 'urban'\n",
    "df.loc[df['Density']>1500, 'urban'] = 'urban center'\n",
    "df.head()"
   ]
  },
  {
   "cell_type": "code",
   "execution_count": 7,
   "id": "6d47ca0b",
   "metadata": {},
   "outputs": [
    {
     "data": {
      "text/plain": [
       "urban\n",
       "rural           216\n",
       "unknown          18\n",
       "urban           238\n",
       "urban center    114\n",
       "Name: urban, dtype: int64"
      ]
     },
     "execution_count": 7,
     "metadata": {},
     "output_type": "execute_result"
    }
   ],
   "source": [
    "# Count job number of urban center, urban and rural \n",
    "urban_count = df.groupby('urban')['urban'].count()\n",
    "urban_count"
   ]
  },
  {
   "cell_type": "code",
   "execution_count": 8,
   "id": "ef17a6d2",
   "metadata": {},
   "outputs": [
    {
     "data": {
      "image/png": "[encoded data removed]",
      "text/plain": [
       "<Figure size 1080x576 with 1 Axes>"
      ]
     },
     "metadata": {},
     "output_type": "display_data"
    }
   ],
   "source": [
    "import seaborn as sns\n",
    "sns.set_style(\"whitegrid\")\n",
    "plt.figure(figsize=(15,8))\n",
    "ax = sns.boxplot(x=\"urban\", y=\"gig_per\",               \n",
    "data=df, palette=\"Set3\")"
   ]
  },
  {
   "cell_type": "code",
   "execution_count": 9,
   "id": "b899b221",
   "metadata": {},
   "outputs": [
    {
     "data": {
      "text/plain": [
       "<matplotlib.lines.Line2D at 0x7fc910126880>"
      ]
     },
     "execution_count": 9,
     "metadata": {},
     "output_type": "execute_result"
    },
    {
     "data": {
      "image/png": "[encoded data removed]",
      "text/plain": [
       "<Figure size 432x288 with 1 Axes>"
      ]
     },
     "metadata": {},
     "output_type": "display_data"
    }
   ],
   "source": [
    "urban = df[df[\"urban\"]=='urban']['gig_per']\n",
    "urban_center = df[df[\"urban\"]=='urban center']['gig_per']\n",
    "rural = df[df[\"urban\"]=='rural']['gig_per']\n",
    "plt.hist(urban, color = 'c', edgecolor='black',alpha=0.65,bins = 50)\n",
    "plt.axvline(urban.mean(), color='r', linestyle='dashed', linewidth=1)\n",
    "plt.axvline(urban.median(), color='b', linestyle='dashed', linewidth=1)"
   ]
  },
  {
   "cell_type": "code",
   "execution_count": 10,
   "id": "1bca8b4c",
   "metadata": {},
   "outputs": [
    {
     "data": {
      "text/plain": [
       "<matplotlib.lines.Line2D at 0x7fc910201b20>"
      ]
     },
     "execution_count": 10,
     "metadata": {},
     "output_type": "execute_result"
    },
    {
     "data": {
      "image/png": "[encoded data removed]",
      "text/plain": [
       "<Figure size 432x288 with 1 Axes>"
      ]
     },
     "metadata": {},
     "output_type": "display_data"
    }
   ],
   "source": [
    "plt.hist(urban_center, color = 'c', edgecolor='black',alpha=0.65,bins = 50)\n",
    "plt.axvline(urban_center.mean(), color='r', linestyle='dashed', linewidth=1)\n",
    "plt.axvline(urban_center.median(), color='b', linestyle='dashed', linewidth=1)"
   ]
  },
  {
   "cell_type": "code",
   "execution_count": 11,
   "id": "8597cfc5",
   "metadata": {},
   "outputs": [
    {
     "data": {
      "text/plain": [
       "<matplotlib.lines.Line2D at 0x7fc904293b80>"
      ]
     },
     "execution_count": 11,
     "metadata": {},
     "output_type": "execute_result"
    },
    {
     "data": {
      "image/png": "[encoded data removed]",
      "text/plain": [
       "<Figure size 432x288 with 1 Axes>"
      ]
     },
     "metadata": {},
     "output_type": "display_data"
    }
   ],
   "source": [
    "plt.hist(rural, color = 'c', edgecolor='black',alpha=0.65,bins = 50)\n",
    "plt.axvline(rural.mean(), color='r', linestyle='dashed', linewidth=1)\n",
    "plt.axvline(rural.median(), color='b', linestyle='dashed', linewidth=1)"
   ]
  }
 ],
 "metadata": {
  "kernelspec": {
   "display_name": "Python 3 (ipykernel)",
   "language": "python",
   "name": "python3"
  },
  "language_info": {
   "codemirror_mode": {
    "name": "ipython",
    "version": 3
   },
   "file_extension": ".py",
   "mimetype": "text/x-python",
   "name": "python",
   "nbconvert_exporter": "python",
   "pygments_lexer": "ipython3",
   "version": "3.9.7"
  }
 },
 "nbformat": 4,
 "nbformat_minor": 5
}
