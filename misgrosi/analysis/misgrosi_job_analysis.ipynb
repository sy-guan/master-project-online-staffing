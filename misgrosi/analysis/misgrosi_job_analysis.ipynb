{
 "cells": [
  {
   "cell_type": "code",
   "execution_count": 1,
   "id": "76736de0",
   "metadata": {},
   "outputs": [],
   "source": [
    "import pandas as pd\n",
    "import numpy as np\n",
    "import matplotlib.pyplot as plt\n",
    "import matplotlib.colors as mcolors\n",
    "\n",
    "df = pd.read_csv(\"../data/misgrosi_job.csv\")\n",
    "df_density = pd.read_csv('../../density.csv')"
   ]
  },
  {
   "cell_type": "code",
   "execution_count": 2,
   "id": "afa0a96d",
   "metadata": {},
   "outputs": [
    {
     "data": {
      "text/html": [
       "<div>\n",
       "<style scoped>\n",
       "    .dataframe tbody tr th:only-of-type {\n",
       "        vertical-align: middle;\n",
       "    }\n",
       "\n",
       "    .dataframe tbody tr th {\n",
       "        vertical-align: top;\n",
       "    }\n",
       "\n",
       "    .dataframe thead th {\n",
       "        text-align: right;\n",
       "    }\n",
       "</style>\n",
       "<table border=\"1\" class=\"dataframe\">\n",
       "  <thead>\n",
       "    <tr style=\"text-align: right;\">\n",
       "      <th></th>\n",
       "      <th>Position</th>\n",
       "      <th>Company</th>\n",
       "      <th>Location</th>\n",
       "      <th>Job Type</th>\n",
       "      <th>Stadt</th>\n",
       "    </tr>\n",
       "  </thead>\n",
       "  <tbody>\n",
       "    <tr>\n",
       "      <th>0</th>\n",
       "      <td>Wir suchen ein zusätzliches Grosi, das uns vor...</td>\n",
       "      <td>Daniela1984</td>\n",
       "      <td>3114 Wichtra</td>\n",
       "      <td>Kinderbetreuung allgemein</td>\n",
       "      <td>Wichtra</td>\n",
       "    </tr>\n",
       "    <tr>\n",
       "      <th>1</th>\n",
       "      <td>Suchen liebevolles Grosi für langfristige Betr...</td>\n",
       "      <td>Hendrik</td>\n",
       "      <td>3037 Herrenschwanden</td>\n",
       "      <td>Tages-Grosi</td>\n",
       "      <td>Herrenschwanden</td>\n",
       "    </tr>\n",
       "    <tr>\n",
       "      <th>2</th>\n",
       "      <td>Liebe Betreuung gesucht in Rorbas\\nFamiliebuehrer</td>\n",
       "      <td>Familiebuehrer</td>\n",
       "      <td>8427 Rorbas</td>\n",
       "      <td>Grosi &amp; Opi</td>\n",
       "      <td>Rorbas</td>\n",
       "    </tr>\n",
       "    <tr>\n",
       "      <th>3</th>\n",
       "      <td>Grosi gesucht im Entlebuch\\nMamimitHerz</td>\n",
       "      <td>MamimitHerz</td>\n",
       "      <td>6162 Entlebu</td>\n",
       "      <td>Grosi als Nanny/Haushaltshilfe</td>\n",
       "      <td>Entlebu</td>\n",
       "    </tr>\n",
       "    <tr>\n",
       "      <th>4</th>\n",
       "      <td>Grosi gesucht für Kinderbetreuung in La Neuvev...</td>\n",
       "      <td>Sina 88</td>\n",
       "      <td>2520 La Neuvevill</td>\n",
       "      <td>Babysitting</td>\n",
       "      <td>None</td>\n",
       "    </tr>\n",
       "  </tbody>\n",
       "</table>\n",
       "</div>"
      ],
      "text/plain": [
       "                                            Position         Company  \\\n",
       "0  Wir suchen ein zusätzliches Grosi, das uns vor...     Daniela1984   \n",
       "1  Suchen liebevolles Grosi für langfristige Betr...         Hendrik   \n",
       "2  Liebe Betreuung gesucht in Rorbas\\nFamiliebuehrer  Familiebuehrer   \n",
       "3            Grosi gesucht im Entlebuch\\nMamimitHerz     MamimitHerz   \n",
       "4  Grosi gesucht für Kinderbetreuung in La Neuvev...         Sina 88   \n",
       "\n",
       "               Location                        Job Type            Stadt  \n",
       "0          3114 Wichtra       Kinderbetreuung allgemein          Wichtra  \n",
       "1  3037 Herrenschwanden                     Tages-Grosi  Herrenschwanden  \n",
       "2           8427 Rorbas                     Grosi & Opi           Rorbas  \n",
       "3          6162 Entlebu  Grosi als Nanny/Haushaltshilfe          Entlebu  \n",
       "4     2520 La Neuvevill                     Babysitting             None  "
      ]
     },
     "execution_count": 2,
     "metadata": {},
     "output_type": "execute_result"
    }
   ],
   "source": [
    "def stadt(row):\n",
    "    try:\n",
    "        post_stadt = row['Location'].split()\n",
    "\n",
    "        if len(post_stadt) == 2 :\n",
    "            val = post_stadt[1]\n",
    "        elif not post_stadt[0].isdigit():\n",
    "            val = post_stadt[0]\n",
    "        else:\n",
    "            val = None\n",
    "    except:\n",
    "        val = None\n",
    "    return val\n",
    "        \n",
    "df['Stadt'] = df.apply(stadt, axis=1)\n",
    "df.head()"
   ]
  },
  {
   "cell_type": "code",
   "execution_count": 3,
   "id": "1cba66b8",
   "metadata": {},
   "outputs": [],
   "source": [
    "def post(row):\n",
    "    try:\n",
    "        post_stadt = row['Location'].split()\n",
    "        if post_stadt[0].isdigit():\n",
    "            val = int(post_stadt[0])\n",
    "        else:\n",
    "            val = None\n",
    "    except:\n",
    "        val = str(row['Location'])\n",
    "    \n",
    "    return val\n",
    "        \n",
    "df['Post Code'] = df.apply(post, axis=1)"
   ]
  },
  {
   "cell_type": "code",
   "execution_count": 4,
   "id": "8e16bb70",
   "metadata": {},
   "outputs": [
    {
     "data": {
      "text/html": [
       "<div>\n",
       "<style scoped>\n",
       "    .dataframe tbody tr th:only-of-type {\n",
       "        vertical-align: middle;\n",
       "    }\n",
       "\n",
       "    .dataframe tbody tr th {\n",
       "        vertical-align: top;\n",
       "    }\n",
       "\n",
       "    .dataframe thead th {\n",
       "        text-align: right;\n",
       "    }\n",
       "</style>\n",
       "<table border=\"1\" class=\"dataframe\">\n",
       "  <thead>\n",
       "    <tr style=\"text-align: right;\">\n",
       "      <th></th>\n",
       "      <th>Post Code</th>\n",
       "      <th>Counts</th>\n",
       "    </tr>\n",
       "  </thead>\n",
       "  <tbody>\n",
       "    <tr>\n",
       "      <th>0</th>\n",
       "      <td>1794.0</td>\n",
       "      <td>1</td>\n",
       "    </tr>\n",
       "    <tr>\n",
       "      <th>1</th>\n",
       "      <td>2000.0</td>\n",
       "      <td>2</td>\n",
       "    </tr>\n",
       "    <tr>\n",
       "      <th>2</th>\n",
       "      <td>2502.0</td>\n",
       "      <td>2</td>\n",
       "    </tr>\n",
       "    <tr>\n",
       "      <th>3</th>\n",
       "      <td>2503.0</td>\n",
       "      <td>2</td>\n",
       "    </tr>\n",
       "    <tr>\n",
       "      <th>4</th>\n",
       "      <td>2504.0</td>\n",
       "      <td>1</td>\n",
       "    </tr>\n",
       "    <tr>\n",
       "      <th>...</th>\n",
       "      <td>...</td>\n",
       "      <td>...</td>\n",
       "    </tr>\n",
       "    <tr>\n",
       "      <th>573</th>\n",
       "      <td>9642.0</td>\n",
       "      <td>1</td>\n",
       "    </tr>\n",
       "    <tr>\n",
       "      <th>574</th>\n",
       "      <td>60005.0</td>\n",
       "      <td>1</td>\n",
       "    </tr>\n",
       "    <tr>\n",
       "      <th>575</th>\n",
       "      <td>75059.0</td>\n",
       "      <td>1</td>\n",
       "    </tr>\n",
       "    <tr>\n",
       "      <th>576</th>\n",
       "      <td>79541.0</td>\n",
       "      <td>1</td>\n",
       "    </tr>\n",
       "    <tr>\n",
       "      <th>577</th>\n",
       "      <td>80992.0</td>\n",
       "      <td>2</td>\n",
       "    </tr>\n",
       "  </tbody>\n",
       "</table>\n",
       "<p>578 rows × 2 columns</p>\n",
       "</div>"
      ],
      "text/plain": [
       "     Post Code  Counts\n",
       "0       1794.0       1\n",
       "1       2000.0       2\n",
       "2       2502.0       2\n",
       "3       2503.0       2\n",
       "4       2504.0       1\n",
       "..         ...     ...\n",
       "573     9642.0       1\n",
       "574    60005.0       1\n",
       "575    75059.0       1\n",
       "576    79541.0       1\n",
       "577    80992.0       2\n",
       "\n",
       "[578 rows x 2 columns]"
      ]
     },
     "execution_count": 4,
     "metadata": {},
     "output_type": "execute_result"
    }
   ],
   "source": [
    "# Data group by post code\n",
    "df_count = df.groupby(['Post Code']).size().reset_index(name = 'Counts')\n",
    "df_count"
   ]
  },
  {
   "cell_type": "code",
   "execution_count": 5,
   "id": "29153670",
   "metadata": {},
   "outputs": [
    {
     "data": {
      "text/html": [
       "<div>\n",
       "<style scoped>\n",
       "    .dataframe tbody tr th:only-of-type {\n",
       "        vertical-align: middle;\n",
       "    }\n",
       "\n",
       "    .dataframe tbody tr th {\n",
       "        vertical-align: top;\n",
       "    }\n",
       "\n",
       "    .dataframe thead th {\n",
       "        text-align: right;\n",
       "    }\n",
       "</style>\n",
       "<table border=\"1\" class=\"dataframe\">\n",
       "  <thead>\n",
       "    <tr style=\"text-align: right;\">\n",
       "      <th></th>\n",
       "      <th>Post Code</th>\n",
       "      <th>gig_num</th>\n",
       "      <th>Unnamed: 0</th>\n",
       "      <th>City</th>\n",
       "      <th>Region</th>\n",
       "      <th>Area</th>\n",
       "      <th>Population</th>\n",
       "      <th>Density</th>\n",
       "      <th>gig_per</th>\n",
       "      <th>urban</th>\n",
       "    </tr>\n",
       "  </thead>\n",
       "  <tbody>\n",
       "    <tr>\n",
       "      <th>0</th>\n",
       "      <td>1794.0</td>\n",
       "      <td>1</td>\n",
       "      <td>569.0</td>\n",
       "      <td>NaN</td>\n",
       "      <td>Canton of Fribourg</td>\n",
       "      <td>3.795</td>\n",
       "      <td>677.0</td>\n",
       "      <td>178.392622</td>\n",
       "      <td>0.147710</td>\n",
       "      <td>rural</td>\n",
       "    </tr>\n",
       "    <tr>\n",
       "      <th>1</th>\n",
       "      <td>2000.0</td>\n",
       "      <td>2</td>\n",
       "      <td>764.0</td>\n",
       "      <td>Neuchâtel</td>\n",
       "      <td>Canton of Neuchâtel</td>\n",
       "      <td>31.600</td>\n",
       "      <td>33200.0</td>\n",
       "      <td>1050.632911</td>\n",
       "      <td>0.006024</td>\n",
       "      <td>urban</td>\n",
       "    </tr>\n",
       "    <tr>\n",
       "      <th>2</th>\n",
       "      <td>2502.0</td>\n",
       "      <td>2</td>\n",
       "      <td>938.0</td>\n",
       "      <td>NaN</td>\n",
       "      <td>Canton of Bern</td>\n",
       "      <td>6.400</td>\n",
       "      <td>17803.0</td>\n",
       "      <td>2781.718750</td>\n",
       "      <td>0.011234</td>\n",
       "      <td>urban center</td>\n",
       "    </tr>\n",
       "    <tr>\n",
       "      <th>3</th>\n",
       "      <td>2503.0</td>\n",
       "      <td>2</td>\n",
       "      <td>939.0</td>\n",
       "      <td>NaN</td>\n",
       "      <td>Canton of Bern</td>\n",
       "      <td>2.954</td>\n",
       "      <td>18295.0</td>\n",
       "      <td>6193.297224</td>\n",
       "      <td>0.010932</td>\n",
       "      <td>urban center</td>\n",
       "    </tr>\n",
       "    <tr>\n",
       "      <th>4</th>\n",
       "      <td>2504.0</td>\n",
       "      <td>1</td>\n",
       "      <td>940.0</td>\n",
       "      <td>NaN</td>\n",
       "      <td>Canton of Bern</td>\n",
       "      <td>9.700</td>\n",
       "      <td>17751.0</td>\n",
       "      <td>1830.000000</td>\n",
       "      <td>0.005633</td>\n",
       "      <td>urban center</td>\n",
       "    </tr>\n",
       "  </tbody>\n",
       "</table>\n",
       "</div>"
      ],
      "text/plain": [
       "   Post Code  gig_num  Unnamed: 0       City               Region    Area  \\\n",
       "0     1794.0        1       569.0        NaN   Canton of Fribourg   3.795   \n",
       "1     2000.0        2       764.0  Neuchâtel  Canton of Neuchâtel  31.600   \n",
       "2     2502.0        2       938.0        NaN       Canton of Bern   6.400   \n",
       "3     2503.0        2       939.0        NaN       Canton of Bern   2.954   \n",
       "4     2504.0        1       940.0        NaN       Canton of Bern   9.700   \n",
       "\n",
       "   Population      Density   gig_per         urban  \n",
       "0       677.0   178.392622  0.147710         rural  \n",
       "1     33200.0  1050.632911  0.006024         urban  \n",
       "2     17803.0  2781.718750  0.011234  urban center  \n",
       "3     18295.0  6193.297224  0.010932  urban center  \n",
       "4     17751.0  1830.000000  0.005633  urban center  "
      ]
     },
     "execution_count": 5,
     "metadata": {},
     "output_type": "execute_result"
    }
   ],
   "source": [
    "# Merge grouped by data with density.csv\n",
    "df = df_count.merge(df_density,on = 'Post Code',how = 'left')\n",
    "df = df.dropna(subset = ['Density'])\n",
    "df['gig_per'] = 100*df['Counts']/df['Population']\n",
    "# Define urban column\n",
    "df['urban'] = 'unknown'\n",
    "df.loc[df['Density']<400, 'urban'] = 'rural'\n",
    "df.loc[(df['Density']>=400) & (df['Density']<1500), 'urban'] = 'urban'\n",
    "df.loc[df['Density']>1500, 'urban'] = 'urban center'\n",
    "df = df.rename(columns={'Counts': 'gig_num'})\n",
    "\n",
    "df.head()"
   ]
  },
  {
   "cell_type": "code",
   "execution_count": 6,
   "id": "6d47ca0b",
   "metadata": {},
   "outputs": [
    {
     "data": {
      "text/plain": [
       "urban\n",
       "rural           203\n",
       "urban           244\n",
       "urban center    121\n",
       "Name: urban, dtype: int64"
      ]
     },
     "execution_count": 6,
     "metadata": {},
     "output_type": "execute_result"
    }
   ],
   "source": [
    "# Count job number of urban center, urban and rural \n",
    "urban_count = df.groupby('urban')['urban'].count()\n",
    "urban_count"
   ]
  },
  {
   "cell_type": "code",
   "execution_count": 7,
   "id": "ef17a6d2",
   "metadata": {},
   "outputs": [
    {
     "data": {
      "image/png": "[encoded data removed]",
      "text/plain": [
       "<Figure size 1080x576 with 1 Axes>"
      ]
     },
     "metadata": {},
     "output_type": "display_data"
    }
   ],
   "source": [
    "import seaborn as sns\n",
    "sns.set_style(\"whitegrid\")\n",
    "plt.figure(figsize=(15,8))\n",
    "ax = sns.boxplot(x=\"urban\", y=\"gig_per\",               \n",
    "data=df, palette=\"Set3\")"
   ]
  },
  {
   "cell_type": "code",
   "execution_count": 8,
   "id": "b899b221",
   "metadata": {},
   "outputs": [],
   "source": [
    "urban = df[df[\"urban\"]=='urban']['gig_per']\n",
    "urban_center = df[df[\"urban\"]=='urban center']['gig_per']\n",
    "rural = df[df[\"urban\"]=='rural']['gig_per']"
   ]
  },
  {
   "cell_type": "code",
   "execution_count": 9,
   "id": "efda7eaf",
   "metadata": {},
   "outputs": [],
   "source": [
    "def hist_data(data):\n",
    "    plt.hist(data, color = 'c', edgecolor='black',alpha=0.65,bins = 20)\n",
    "    plt.axvline(data.mean(), color='r', linestyle='dashed', linewidth=1)\n",
    "    plt.axvline(data.median(), color='b', linestyle='dashed', linewidth=1)\n",
    "    min_ylim, max_ylim = plt.ylim()\n",
    "    plt.text(data.mean()*1.06, max_ylim*0.9, 'Mean: {:.2f}'.format(data.mean()))  "
   ]
  },
  {
   "cell_type": "code",
   "execution_count": 10,
   "id": "063a78f2",
   "metadata": {},
   "outputs": [],
   "source": [
    "def hist_all(labels,*data):\n",
    "    plt.figure(figsize=(17,8))\n",
    "    i = 0\n",
    "    op = 0.7\n",
    "    c = list(mcolors.BASE_COLORS.keys())\n",
    "    plt.hist(data,color = c[:len(labels)], alpha=op-i*0.2,bins = 25, label = labels, range = [0,0.75])\n",
    "    plt.xlabel('percentage of gig workers')\n",
    "    plt.title(' vs. '.join(labels)+' histogram')\n",
    "    plt.legend()\n",
    "    plt.show()"
   ]
  },
  {
   "cell_type": "code",
   "execution_count": 11,
   "id": "6c3f6070",
   "metadata": {},
   "outputs": [
    {
     "data": {
      "image/png": "[encoded data removed]",
      "text/plain": [
       "<Figure size 1224x576 with 1 Axes>"
      ]
     },
     "metadata": {},
     "output_type": "display_data"
    }
   ],
   "source": [
    "hist_all(['urban_center','urban','rural'],urban_center,urban,rural)"
   ]
  },
  {
   "cell_type": "code",
   "execution_count": 12,
   "id": "3d189111",
   "metadata": {},
   "outputs": [
    {
     "data": {
      "image/png": "[encoded data removed]",
      "text/plain": [
       "<Figure size 1224x576 with 1 Axes>"
      ]
     },
     "metadata": {},
     "output_type": "display_data"
    }
   ],
   "source": [
    "hist_all(['urban','rural'],urban,rural)"
   ]
  },
  {
   "cell_type": "code",
   "execution_count": 13,
   "id": "4774178b",
   "metadata": {},
   "outputs": [
    {
     "data": {
      "image/png": "[encoded data removed]",
      "text/plain": [
       "<Figure size 1224x576 with 1 Axes>"
      ]
     },
     "metadata": {},
     "output_type": "display_data"
    }
   ],
   "source": [
    "hist_all(['urban_center','rural'],urban_center,rural)"
   ]
  },
  {
   "cell_type": "code",
   "execution_count": 14,
   "id": "be58f09b",
   "metadata": {},
   "outputs": [
    {
     "data": {
      "image/png": "[encoded data removed]",
      "text/plain": [
       "<Figure size 1224x576 with 1 Axes>"
      ]
     },
     "metadata": {},
     "output_type": "display_data"
    }
   ],
   "source": [
    "hist_all(['urban_center','urban'],urban_center,urban)"
   ]
  },
  {
   "cell_type": "code",
   "execution_count": 15,
   "id": "a325a1ef",
   "metadata": {},
   "outputs": [
    {
     "data": {
      "text/html": [
       "<div>\n",
       "<style scoped>\n",
       "    .dataframe tbody tr th:only-of-type {\n",
       "        vertical-align: middle;\n",
       "    }\n",
       "\n",
       "    .dataframe tbody tr th {\n",
       "        vertical-align: top;\n",
       "    }\n",
       "\n",
       "    .dataframe thead th {\n",
       "        text-align: right;\n",
       "    }\n",
       "</style>\n",
       "<table border=\"1\" class=\"dataframe\">\n",
       "  <thead>\n",
       "    <tr style=\"text-align: right;\">\n",
       "      <th></th>\n",
       "      <th>Unnamed: 0</th>\n",
       "      <th>Post Code</th>\n",
       "      <th>Area</th>\n",
       "      <th>Population</th>\n",
       "      <th>Density</th>\n",
       "      <th>gig_num</th>\n",
       "      <th>gig_per</th>\n",
       "    </tr>\n",
       "  </thead>\n",
       "  <tbody>\n",
       "    <tr>\n",
       "      <th>0</th>\n",
       "      <td>0</td>\n",
       "      <td>1000</td>\n",
       "      <td>14.100</td>\n",
       "      <td>4072.0</td>\n",
       "      <td>288.794326</td>\n",
       "      <td>0.0</td>\n",
       "      <td>0.0</td>\n",
       "    </tr>\n",
       "    <tr>\n",
       "      <th>3</th>\n",
       "      <td>3</td>\n",
       "      <td>1003</td>\n",
       "      <td>0.820</td>\n",
       "      <td>6707.0</td>\n",
       "      <td>8179.268293</td>\n",
       "      <td>0.0</td>\n",
       "      <td>0.0</td>\n",
       "    </tr>\n",
       "    <tr>\n",
       "      <th>4</th>\n",
       "      <td>4</td>\n",
       "      <td>1004</td>\n",
       "      <td>2.272</td>\n",
       "      <td>31230.0</td>\n",
       "      <td>13745.598592</td>\n",
       "      <td>0.0</td>\n",
       "      <td>0.0</td>\n",
       "    </tr>\n",
       "    <tr>\n",
       "      <th>5</th>\n",
       "      <td>5</td>\n",
       "      <td>1005</td>\n",
       "      <td>1.585</td>\n",
       "      <td>12386.0</td>\n",
       "      <td>7814.511041</td>\n",
       "      <td>0.0</td>\n",
       "      <td>0.0</td>\n",
       "    </tr>\n",
       "    <tr>\n",
       "      <th>6</th>\n",
       "      <td>6</td>\n",
       "      <td>1006</td>\n",
       "      <td>1.553</td>\n",
       "      <td>15391.0</td>\n",
       "      <td>9910.495815</td>\n",
       "      <td>0.0</td>\n",
       "      <td>0.0</td>\n",
       "    </tr>\n",
       "    <tr>\n",
       "      <th>...</th>\n",
       "      <td>...</td>\n",
       "      <td>...</td>\n",
       "      <td>...</td>\n",
       "      <td>...</td>\n",
       "      <td>...</td>\n",
       "      <td>...</td>\n",
       "      <td>...</td>\n",
       "    </tr>\n",
       "    <tr>\n",
       "      <th>3517</th>\n",
       "      <td>3517</td>\n",
       "      <td>9411</td>\n",
       "      <td>5.100</td>\n",
       "      <td>701.0</td>\n",
       "      <td>137.450980</td>\n",
       "      <td>0.0</td>\n",
       "      <td>0.0</td>\n",
       "    </tr>\n",
       "    <tr>\n",
       "      <th>3519</th>\n",
       "      <td>3519</td>\n",
       "      <td>9426</td>\n",
       "      <td>1.381</td>\n",
       "      <td>931.0</td>\n",
       "      <td>674.149167</td>\n",
       "      <td>0.0</td>\n",
       "      <td>0.0</td>\n",
       "    </tr>\n",
       "    <tr>\n",
       "      <th>3520</th>\n",
       "      <td>3520</td>\n",
       "      <td>9427</td>\n",
       "      <td>6.900</td>\n",
       "      <td>1846.0</td>\n",
       "      <td>267.536232</td>\n",
       "      <td>0.0</td>\n",
       "      <td>0.0</td>\n",
       "    </tr>\n",
       "    <tr>\n",
       "      <th>3521</th>\n",
       "      <td>3521</td>\n",
       "      <td>9428</td>\n",
       "      <td>7.000</td>\n",
       "      <td>1995.0</td>\n",
       "      <td>285.000000</td>\n",
       "      <td>0.0</td>\n",
       "      <td>0.0</td>\n",
       "    </tr>\n",
       "    <tr>\n",
       "      <th>3522</th>\n",
       "      <td>3522</td>\n",
       "      <td>9651</td>\n",
       "      <td>32.300</td>\n",
       "      <td>425.0</td>\n",
       "      <td>13.157895</td>\n",
       "      <td>0.0</td>\n",
       "      <td>0.0</td>\n",
       "    </tr>\n",
       "  </tbody>\n",
       "</table>\n",
       "<p>3179 rows × 7 columns</p>\n",
       "</div>"
      ],
      "text/plain": [
       "      Unnamed: 0  Post Code    Area  Population       Density  gig_num  \\\n",
       "0              0       1000  14.100      4072.0    288.794326      0.0   \n",
       "3              3       1003   0.820      6707.0   8179.268293      0.0   \n",
       "4              4       1004   2.272     31230.0  13745.598592      0.0   \n",
       "5              5       1005   1.585     12386.0   7814.511041      0.0   \n",
       "6              6       1006   1.553     15391.0   9910.495815      0.0   \n",
       "...          ...        ...     ...         ...           ...      ...   \n",
       "3517        3517       9411   5.100       701.0    137.450980      0.0   \n",
       "3519        3519       9426   1.381       931.0    674.149167      0.0   \n",
       "3520        3520       9427   6.900      1846.0    267.536232      0.0   \n",
       "3521        3521       9428   7.000      1995.0    285.000000      0.0   \n",
       "3522        3522       9651  32.300       425.0     13.157895      0.0   \n",
       "\n",
       "      gig_per  \n",
       "0         0.0  \n",
       "3         0.0  \n",
       "4         0.0  \n",
       "5         0.0  \n",
       "6         0.0  \n",
       "...       ...  \n",
       "3517      0.0  \n",
       "3519      0.0  \n",
       "3520      0.0  \n",
       "3521      0.0  \n",
       "3522      0.0  \n",
       "\n",
       "[3179 rows x 7 columns]"
      ]
     },
     "execution_count": 15,
     "metadata": {},
     "output_type": "execute_result"
    }
   ],
   "source": [
    "df_count = df_density.merge(df_count,on = 'Post Code', how = 'left')\n",
    "df_count['Counts'] = df_count['Counts'].fillna(0)\n",
    "df_count = df_count.drop(['City','Region'],axis=1)\n",
    "df_count = df_count.dropna(subset = ['Density','Population'])\n",
    "df_count['gig_per'] = 100*df_count['Counts']/df_count['Population']\n",
    "df_count = df_count.rename(columns={'Counts': 'gig_num'})\n",
    "df_count"
   ]
  },
  {
   "cell_type": "code",
   "execution_count": 16,
   "id": "0d2d1271",
   "metadata": {},
   "outputs": [],
   "source": [
    "def draw_worker_density(xv,yv,df):\n",
    "    plt.figure(figsize=(10, 6), dpi=80)\n",
    "    ax = sns.scatterplot(x=xv, y=yv, data=df)\n",
    "    ax.set_title(yv+\" vs. \"+xv)\n",
    "    ax.set_xlabel(xv)"
   ]
  },
  {
   "cell_type": "code",
   "execution_count": 17,
   "id": "907ad895",
   "metadata": {},
   "outputs": [],
   "source": [
    "from scipy import stats\n",
    "def draw_corr(df,col1, col2):\n",
    "    draw_worker_density(col1,col2,df)\n",
    "    p = stats.pearsonr(df[col1], df[col2])\n",
    "    s = stats.spearmanr(df[col1], df[col2])\n",
    "    k = stats.kendalltau(df[col1], df[col2])\n",
    "    print(f'pearson r: {p[0]}, p value: {p[1]}')\n",
    "    print(f'Spearman rho: {s[0]}, p value: {s[1]}')\n",
    "    print(f'kendall tau: {k[0]}, p value: {k[1]}')"
   ]
  },
  {
   "cell_type": "code",
   "execution_count": 18,
   "id": "5ee48377",
   "metadata": {},
   "outputs": [
    {
     "name": "stdout",
     "output_type": "stream",
     "text": [
      "pearson r: -0.244713560924532, p value: 3.4329230708659857e-09\n",
      "Spearman rho: -0.6375589228499697, p value: 3.996049566352564e-66\n",
      "kendall tau: -0.4573582750951683, p value: 1.0077667994091634e-59\n"
     ]
    },
    {
     "data": {
      "image/png": "[encoded data removed]",
      "text/plain": [
       "<Figure size 800x480 with 1 Axes>"
      ]
     },
     "metadata": {},
     "output_type": "display_data"
    }
   ],
   "source": [
    "draw_corr(df,'Density','gig_per')"
   ]
  },
  {
   "cell_type": "code",
   "execution_count": 19,
   "id": "a8f3569d",
   "metadata": {},
   "outputs": [
    {
     "name": "stdout",
     "output_type": "stream",
     "text": [
      "pearson r: 0.022413600441005807, p value: 0.20644573317216852\n",
      "Spearman rho: 0.3849999389791986, p value: 7.687402019665378e-113\n",
      "kendall tau: 0.2920756605886602, p value: 9.319804595486686e-99\n"
     ]
    },
    {
     "data": {
      "image/png": "[encoded data removed]",
      "text/plain": [
       "<Figure size 800x480 with 1 Axes>"
      ]
     },
     "metadata": {},
     "output_type": "display_data"
    }
   ],
   "source": [
    "draw_corr(df_count,'Density','gig_per')"
   ]
  },
  {
   "cell_type": "code",
   "execution_count": null,
   "id": "9e9d1c6c",
   "metadata": {},
   "outputs": [],
   "source": []
  }
 ],
 "metadata": {
  "kernelspec": {
   "display_name": "Python 3 (ipykernel)",
   "language": "python",
   "name": "python3"
  },
  "language_info": {
   "codemirror_mode": {
    "name": "ipython",
    "version": 3
   },
   "file_extension": ".py",
   "mimetype": "text/x-python",
   "name": "python",
   "nbconvert_exporter": "python",
   "pygments_lexer": "ipython3",
   "version": "3.9.7"
  }
 },
 "nbformat": 4,
 "nbformat_minor": 5
}
