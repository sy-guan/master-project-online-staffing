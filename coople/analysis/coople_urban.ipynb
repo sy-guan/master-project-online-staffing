{
 "cells": [
  {
   "cell_type": "code",
   "execution_count": 1,
   "metadata": {},
   "outputs": [],
   "source": [
    "import pandas as pd\n",
    "import numpy as np\n",
    "import matplotlib.pyplot as plt\n",
    "import matplotlib.colors as mcolors\n",
    "\n",
    "# Read data\n",
    "df_density = pd.read_excel('../../density.xlsx')\n",
    "df_data = pd.read_csv('../data/coople_data.csv')\n",
    "df_lat = pd.read_csv('../../post-codes.csv')"
   ]
  },
  {
   "cell_type": "code",
   "execution_count": 2,
   "metadata": {},
   "outputs": [],
   "source": [
    "df_urban = df_data.merge(df_density, on = 'Post Code',how = 'left')\n",
    "df_urban.set_index('Rank', inplace=True)"
   ]
  },
  {
   "cell_type": "code",
   "execution_count": 3,
   "metadata": {},
   "outputs": [
    {
     "data": {
      "text/html": [
       "<div>\n",
       "<style scoped>\n",
       "    .dataframe tbody tr th:only-of-type {\n",
       "        vertical-align: middle;\n",
       "    }\n",
       "\n",
       "    .dataframe tbody tr th {\n",
       "        vertical-align: top;\n",
       "    }\n",
       "\n",
       "    .dataframe thead th {\n",
       "        text-align: right;\n",
       "    }\n",
       "</style>\n",
       "<table border=\"1\" class=\"dataframe\">\n",
       "  <thead>\n",
       "    <tr style=\"text-align: right;\">\n",
       "      <th></th>\n",
       "      <th>Unnamed: 0</th>\n",
       "      <th>Job role</th>\n",
       "      <th>Experience Level</th>\n",
       "      <th>Experience detail</th>\n",
       "      <th>Job description</th>\n",
       "      <th>Industry</th>\n",
       "      <th>City</th>\n",
       "      <th>Post Code</th>\n",
       "      <th>Pay total</th>\n",
       "      <th>Pay per hour</th>\n",
       "      <th>Start date</th>\n",
       "      <th>Shift</th>\n",
       "      <th>Region</th>\n",
       "      <th>Population</th>\n",
       "      <th>Area</th>\n",
       "      <th>Density</th>\n",
       "    </tr>\n",
       "    <tr>\n",
       "      <th>Rank</th>\n",
       "      <th></th>\n",
       "      <th></th>\n",
       "      <th></th>\n",
       "      <th></th>\n",
       "      <th></th>\n",
       "      <th></th>\n",
       "      <th></th>\n",
       "      <th></th>\n",
       "      <th></th>\n",
       "      <th></th>\n",
       "      <th></th>\n",
       "      <th></th>\n",
       "      <th></th>\n",
       "      <th></th>\n",
       "      <th></th>\n",
       "      <th></th>\n",
       "    </tr>\n",
       "  </thead>\n",
       "  <tbody>\n",
       "    <tr>\n",
       "      <th>1</th>\n",
       "      <td>0</td>\n",
       "      <td>Service Gastronomie</td>\n",
       "      <td>Ungelernt mit &gt;20 Monaten Erfahrung</td>\n",
       "      <td>Personen ohne eidgenössisches Fähigkeitszeugni...</td>\n",
       "      <td>Travail usuel de chef de rang:\\n- Mise en plac...</td>\n",
       "      <td>Gastronomie / Hotel</td>\n",
       "      <td>Neuchâtel</td>\n",
       "      <td>2000</td>\n",
       "      <td>227.25</td>\n",
       "      <td>30.30</td>\n",
       "      <td>22 Aug 2023</td>\n",
       "      <td>1</td>\n",
       "      <td>Canton of Neuchâtel</td>\n",
       "      <td>32376.0</td>\n",
       "      <td>31.600</td>\n",
       "      <td>1024.556962</td>\n",
       "    </tr>\n",
       "    <tr>\n",
       "      <th>2</th>\n",
       "      <td>1</td>\n",
       "      <td>Logistiker/in</td>\n",
       "      <td>Ungelernt</td>\n",
       "      <td>Personen mit Bereitschaft zu körperlicher Arbe...</td>\n",
       "      <td>Funktionsumschreibung\\n* Der/Die Rangierdienst...</td>\n",
       "      <td>Promotion / Event</td>\n",
       "      <td>Spreitenbach</td>\n",
       "      <td>8957</td>\n",
       "      <td>34444.75</td>\n",
       "      <td>29.00</td>\n",
       "      <td>22 Aug 2023</td>\n",
       "      <td>132</td>\n",
       "      <td>Aargau</td>\n",
       "      <td>11587.0</td>\n",
       "      <td>8.600</td>\n",
       "      <td>1347.325581</td>\n",
       "    </tr>\n",
       "    <tr>\n",
       "      <th>3</th>\n",
       "      <td>2</td>\n",
       "      <td>Verkaufsmitarbeiter/in / Detailhandel</td>\n",
       "      <td>Ungelernt</td>\n",
       "      <td>Verkaufsmitarbeiter/in mit Freude am Verkauf u...</td>\n",
       "      <td>Aufgaben:\\n- Auffülltätigkeiten (Non Food Bere...</td>\n",
       "      <td>Detailhandel / Logistik</td>\n",
       "      <td>Rüschlikon</td>\n",
       "      <td>8803</td>\n",
       "      <td>16605.00</td>\n",
       "      <td>27.00</td>\n",
       "      <td>23 Aug 2023</td>\n",
       "      <td>82</td>\n",
       "      <td>Canton of Zürich</td>\n",
       "      <td>6769.0</td>\n",
       "      <td>4.632</td>\n",
       "      <td>1461.355786</td>\n",
       "    </tr>\n",
       "    <tr>\n",
       "      <th>5</th>\n",
       "      <td>4</td>\n",
       "      <td>Logistiker/in</td>\n",
       "      <td>Ungelernt mit &gt;20 Monaten Erfahrung</td>\n",
       "      <td>Der Nachweis über &gt;20 Monate Praxiserfahrung i...</td>\n",
       "      <td>!Die Einsatzzeiten im sind fiktiv!Den genauen ...</td>\n",
       "      <td>Promotion / Event</td>\n",
       "      <td>Willisau</td>\n",
       "      <td>6130</td>\n",
       "      <td>6048.00</td>\n",
       "      <td>27.00</td>\n",
       "      <td>23 Aug 2023</td>\n",
       "      <td>28</td>\n",
       "      <td>Canton of Lucerne</td>\n",
       "      <td>6931.0</td>\n",
       "      <td>33.400</td>\n",
       "      <td>207.514970</td>\n",
       "    </tr>\n",
       "    <tr>\n",
       "      <th>6</th>\n",
       "      <td>5</td>\n",
       "      <td>Handwerk &amp; Auf-/Abbau</td>\n",
       "      <td>Ungelernt</td>\n",
       "      <td>Personen mit Bereitschaft zu körperlicher Arbe...</td>\n",
       "      <td>Anlagenbetreuer Tiefkühl\\n\\n \\n\\nAufgaben\\n\\n-...</td>\n",
       "      <td>Promotion / Event</td>\n",
       "      <td>Schafisheim</td>\n",
       "      <td>5503</td>\n",
       "      <td>42327.25</td>\n",
       "      <td>25.46</td>\n",
       "      <td>23 Aug 2023</td>\n",
       "      <td>190</td>\n",
       "      <td>Aargau</td>\n",
       "      <td>2848.0</td>\n",
       "      <td>6.300</td>\n",
       "      <td>452.063492</td>\n",
       "    </tr>\n",
       "  </tbody>\n",
       "</table>\n",
       "</div>"
      ],
      "text/plain": [
       "      Unnamed: 0                               Job role  \\\n",
       "Rank                                                      \n",
       "1              0                    Service Gastronomie   \n",
       "2              1                          Logistiker/in   \n",
       "3              2  Verkaufsmitarbeiter/in / Detailhandel   \n",
       "5              4                          Logistiker/in   \n",
       "6              5                  Handwerk & Auf-/Abbau   \n",
       "\n",
       "                         Experience Level  \\\n",
       "Rank                                        \n",
       "1     Ungelernt mit >20 Monaten Erfahrung   \n",
       "2                               Ungelernt   \n",
       "3                               Ungelernt   \n",
       "5     Ungelernt mit >20 Monaten Erfahrung   \n",
       "6                               Ungelernt   \n",
       "\n",
       "                                      Experience detail  \\\n",
       "Rank                                                      \n",
       "1     Personen ohne eidgenössisches Fähigkeitszeugni...   \n",
       "2     Personen mit Bereitschaft zu körperlicher Arbe...   \n",
       "3     Verkaufsmitarbeiter/in mit Freude am Verkauf u...   \n",
       "5     Der Nachweis über >20 Monate Praxiserfahrung i...   \n",
       "6     Personen mit Bereitschaft zu körperlicher Arbe...   \n",
       "\n",
       "                                        Job description  \\\n",
       "Rank                                                      \n",
       "1     Travail usuel de chef de rang:\\n- Mise en plac...   \n",
       "2     Funktionsumschreibung\\n* Der/Die Rangierdienst...   \n",
       "3     Aufgaben:\\n- Auffülltätigkeiten (Non Food Bere...   \n",
       "5     !Die Einsatzzeiten im sind fiktiv!Den genauen ...   \n",
       "6     Anlagenbetreuer Tiefkühl\\n\\n \\n\\nAufgaben\\n\\n-...   \n",
       "\n",
       "                     Industry          City  Post Code  Pay total  \\\n",
       "Rank                                                                \n",
       "1         Gastronomie / Hotel     Neuchâtel       2000     227.25   \n",
       "2           Promotion / Event  Spreitenbach       8957   34444.75   \n",
       "3     Detailhandel / Logistik    Rüschlikon       8803   16605.00   \n",
       "5           Promotion / Event      Willisau       6130    6048.00   \n",
       "6           Promotion / Event   Schafisheim       5503   42327.25   \n",
       "\n",
       "      Pay per hour   Start date  Shift               Region  Population  \\\n",
       "Rank                                                                      \n",
       "1            30.30  22 Aug 2023      1  Canton of Neuchâtel     32376.0   \n",
       "2            29.00  22 Aug 2023    132               Aargau     11587.0   \n",
       "3            27.00  23 Aug 2023     82     Canton of Zürich      6769.0   \n",
       "5            27.00  23 Aug 2023     28    Canton of Lucerne      6931.0   \n",
       "6            25.46  23 Aug 2023    190               Aargau      2848.0   \n",
       "\n",
       "        Area      Density  \n",
       "Rank                       \n",
       "1     31.600  1024.556962  \n",
       "2      8.600  1347.325581  \n",
       "3      4.632  1461.355786  \n",
       "5     33.400   207.514970  \n",
       "6      6.300   452.063492  "
      ]
     },
     "execution_count": 3,
     "metadata": {},
     "output_type": "execute_result"
    }
   ],
   "source": [
    "df_urban = df_urban.drop(['City_y'],axis=1)\n",
    "df_urban = df_urban.rename(columns={'City_x': 'City'})\n",
    "df_urban = df_urban.dropna(subset = ['Density'])\n",
    "df_urban_lat = df_urban.merge(df_lat.drop_duplicates(['Post Code']), on = 'Post Code',how = 'left')\n",
    "df_urban.head()"
   ]
  },
  {
   "cell_type": "code",
   "execution_count": 4,
   "metadata": {},
   "outputs": [
    {
     "name": "stdout",
     "output_type": "stream",
     "text": [
      "7.8827361563517915 2944.5535389740053 16202.3988005997\n"
     ]
    }
   ],
   "source": [
    "density = df_urban['Density']\n",
    "print(min(density),np.mean(density),max(density))"
   ]
  },
  {
   "cell_type": "code",
   "execution_count": 5,
   "metadata": {},
   "outputs": [],
   "source": [
    "df_urban['Urban'] = df_urban['Density'] > 400"
   ]
  },
  {
   "cell_type": "code",
   "execution_count": 6,
   "metadata": {},
   "outputs": [
    {
     "data": {
      "text/plain": [
       "0.8675388389206868"
      ]
     },
     "execution_count": 6,
     "metadata": {},
     "output_type": "execute_result"
    }
   ],
   "source": [
    "urban_total = df_urban['Urban'].sum()/df_urban['Urban'].count()\n",
    "urban_total"
   ]
  },
  {
   "cell_type": "code",
   "execution_count": 7,
   "metadata": {},
   "outputs": [
    {
     "data": {
      "image/png": "[encoded data removed]",
      "text/plain": [
       "<Figure size 1080x576 with 1 Axes>"
      ]
     },
     "metadata": {},
     "output_type": "display_data"
    }
   ],
   "source": [
    "import seaborn as sns\n",
    "sns.set_style(\"whitegrid\")\n",
    "plt.figure(figsize=(15,8))\n",
    "ax = sns.boxplot(x=\"Industry\", y=\"Pay per hour\", hue=\"Urban\",              \n",
    "data=df_urban, palette=\"Set3\")"
   ]
  },
  {
   "cell_type": "code",
   "execution_count": 8,
   "metadata": {},
   "outputs": [
    {
     "data": {
      "text/html": [
       "<div>\n",
       "<style scoped>\n",
       "    .dataframe tbody tr th:only-of-type {\n",
       "        vertical-align: middle;\n",
       "    }\n",
       "\n",
       "    .dataframe tbody tr th {\n",
       "        vertical-align: top;\n",
       "    }\n",
       "\n",
       "    .dataframe thead th {\n",
       "        text-align: right;\n",
       "    }\n",
       "</style>\n",
       "<table border=\"1\" class=\"dataframe\">\n",
       "  <thead>\n",
       "    <tr style=\"text-align: right;\">\n",
       "      <th></th>\n",
       "      <th>Post Code</th>\n",
       "      <th>Counts</th>\n",
       "    </tr>\n",
       "  </thead>\n",
       "  <tbody>\n",
       "    <tr>\n",
       "      <th>0</th>\n",
       "      <td>1003</td>\n",
       "      <td>3</td>\n",
       "    </tr>\n",
       "    <tr>\n",
       "      <th>1</th>\n",
       "      <td>1006</td>\n",
       "      <td>11</td>\n",
       "    </tr>\n",
       "    <tr>\n",
       "      <th>2</th>\n",
       "      <td>1010</td>\n",
       "      <td>1</td>\n",
       "    </tr>\n",
       "    <tr>\n",
       "      <th>3</th>\n",
       "      <td>1022</td>\n",
       "      <td>1</td>\n",
       "    </tr>\n",
       "    <tr>\n",
       "      <th>4</th>\n",
       "      <td>1024</td>\n",
       "      <td>3</td>\n",
       "    </tr>\n",
       "    <tr>\n",
       "      <th>...</th>\n",
       "      <td>...</td>\n",
       "      <td>...</td>\n",
       "    </tr>\n",
       "    <tr>\n",
       "      <th>316</th>\n",
       "      <td>9515</td>\n",
       "      <td>2</td>\n",
       "    </tr>\n",
       "    <tr>\n",
       "      <th>317</th>\n",
       "      <td>9542</td>\n",
       "      <td>1</td>\n",
       "    </tr>\n",
       "    <tr>\n",
       "      <th>318</th>\n",
       "      <td>9555</td>\n",
       "      <td>2</td>\n",
       "    </tr>\n",
       "    <tr>\n",
       "      <th>319</th>\n",
       "      <td>9565</td>\n",
       "      <td>2</td>\n",
       "    </tr>\n",
       "    <tr>\n",
       "      <th>320</th>\n",
       "      <td>9630</td>\n",
       "      <td>1</td>\n",
       "    </tr>\n",
       "  </tbody>\n",
       "</table>\n",
       "<p>321 rows × 2 columns</p>\n",
       "</div>"
      ],
      "text/plain": [
       "     Post Code  Counts\n",
       "0         1003       3\n",
       "1         1006      11\n",
       "2         1010       1\n",
       "3         1022       1\n",
       "4         1024       3\n",
       "..         ...     ...\n",
       "316       9515       2\n",
       "317       9542       1\n",
       "318       9555       2\n",
       "319       9565       2\n",
       "320       9630       1\n",
       "\n",
       "[321 rows x 2 columns]"
      ]
     },
     "execution_count": 8,
     "metadata": {},
     "output_type": "execute_result"
    }
   ],
   "source": [
    "# Urban data group by post code\n",
    "df_count = df_urban.groupby(['Post Code']).size().reset_index(name = 'Counts')\n",
    "df_count"
   ]
  },
  {
   "cell_type": "code",
   "execution_count": 9,
   "metadata": {},
   "outputs": [
    {
     "data": {
      "text/html": [
       "<div>\n",
       "<style scoped>\n",
       "    .dataframe tbody tr th:only-of-type {\n",
       "        vertical-align: middle;\n",
       "    }\n",
       "\n",
       "    .dataframe tbody tr th {\n",
       "        vertical-align: top;\n",
       "    }\n",
       "\n",
       "    .dataframe thead th {\n",
       "        text-align: right;\n",
       "    }\n",
       "</style>\n",
       "<table border=\"1\" class=\"dataframe\">\n",
       "  <thead>\n",
       "    <tr style=\"text-align: right;\">\n",
       "      <th></th>\n",
       "      <th>Post Code</th>\n",
       "      <th>gig_num</th>\n",
       "      <th>City</th>\n",
       "      <th>Region</th>\n",
       "      <th>Population</th>\n",
       "      <th>Area</th>\n",
       "      <th>Density</th>\n",
       "      <th>gig_per</th>\n",
       "      <th>urban</th>\n",
       "    </tr>\n",
       "  </thead>\n",
       "  <tbody>\n",
       "    <tr>\n",
       "      <th>0</th>\n",
       "      <td>1003</td>\n",
       "      <td>3</td>\n",
       "      <td>Lausanne</td>\n",
       "      <td>Vaud</td>\n",
       "      <td>7617.0</td>\n",
       "      <td>0.820</td>\n",
       "      <td>9289.024390</td>\n",
       "      <td>0.039386</td>\n",
       "      <td>urban center</td>\n",
       "    </tr>\n",
       "    <tr>\n",
       "      <th>1</th>\n",
       "      <td>1006</td>\n",
       "      <td>11</td>\n",
       "      <td>Lausanne</td>\n",
       "      <td>Vaud</td>\n",
       "      <td>11538.0</td>\n",
       "      <td>1.553</td>\n",
       "      <td>7429.491307</td>\n",
       "      <td>0.095337</td>\n",
       "      <td>urban center</td>\n",
       "    </tr>\n",
       "    <tr>\n",
       "      <th>2</th>\n",
       "      <td>1010</td>\n",
       "      <td>1</td>\n",
       "      <td>Lausanne</td>\n",
       "      <td>Vaud</td>\n",
       "      <td>14897.0</td>\n",
       "      <td>2.856</td>\n",
       "      <td>5216.036415</td>\n",
       "      <td>0.006713</td>\n",
       "      <td>urban center</td>\n",
       "    </tr>\n",
       "    <tr>\n",
       "      <th>3</th>\n",
       "      <td>1022</td>\n",
       "      <td>1</td>\n",
       "      <td>NaN</td>\n",
       "      <td>Vaud</td>\n",
       "      <td>6734.0</td>\n",
       "      <td>1.662</td>\n",
       "      <td>4051.744886</td>\n",
       "      <td>0.014850</td>\n",
       "      <td>urban center</td>\n",
       "    </tr>\n",
       "    <tr>\n",
       "      <th>4</th>\n",
       "      <td>1024</td>\n",
       "      <td>3</td>\n",
       "      <td>Chavannes-près-Renens</td>\n",
       "      <td>Vaud</td>\n",
       "      <td>8810.0</td>\n",
       "      <td>4.829</td>\n",
       "      <td>1824.394285</td>\n",
       "      <td>0.034052</td>\n",
       "      <td>urban center</td>\n",
       "    </tr>\n",
       "  </tbody>\n",
       "</table>\n",
       "</div>"
      ],
      "text/plain": [
       "   Post Code  gig_num                   City Region  Population   Area  \\\n",
       "0       1003        3               Lausanne   Vaud      7617.0  0.820   \n",
       "1       1006       11               Lausanne   Vaud     11538.0  1.553   \n",
       "2       1010        1               Lausanne   Vaud     14897.0  2.856   \n",
       "3       1022        1                    NaN   Vaud      6734.0  1.662   \n",
       "4       1024        3  Chavannes-près-Renens   Vaud      8810.0  4.829   \n",
       "\n",
       "       Density   gig_per         urban  \n",
       "0  9289.024390  0.039386  urban center  \n",
       "1  7429.491307  0.095337  urban center  \n",
       "2  5216.036415  0.006713  urban center  \n",
       "3  4051.744886  0.014850  urban center  \n",
       "4  1824.394285  0.034052  urban center  "
      ]
     },
     "execution_count": 9,
     "metadata": {},
     "output_type": "execute_result"
    }
   ],
   "source": [
    "# Merge grouped aby data with density.csv\n",
    "df = df_count.merge(df_density,on = 'Post Code',how = 'left')\n",
    "df['gig_per'] = 100*df['Counts']/df['Population']\n",
    "# Define urban column\n",
    "df['urban'] = 'unknown'\n",
    "df.loc[df['Density']<400, 'urban'] = 'rural'\n",
    "df.loc[(df['Density']>=400) & (df['Density']<1500), 'urban'] = 'urban'\n",
    "df.loc[df['Density']>1500, 'urban'] = 'urban center'\n",
    "df = df.rename(columns={'Counts': 'gig_num'})\n",
    "\n",
    "df.head()"
   ]
  },
  {
   "cell_type": "code",
   "execution_count": 10,
   "metadata": {},
   "outputs": [
    {
     "data": {
      "text/plain": [
       "urban\n",
       "rural            79\n",
       "urban           131\n",
       "urban center    116\n",
       "Name: urban, dtype: int64"
      ]
     },
     "execution_count": 10,
     "metadata": {},
     "output_type": "execute_result"
    }
   ],
   "source": [
    "# Count job number of urban center, urban and rural \n",
    "urban_count = df.groupby('urban')['urban'].count()\n",
    "urban_count"
   ]
  },
  {
   "cell_type": "code",
   "execution_count": 11,
   "metadata": {},
   "outputs": [
    {
     "data": {
      "image/png": "[encoded data removed]",
      "text/plain": [
       "<Figure size 1080x576 with 1 Axes>"
      ]
     },
     "metadata": {},
     "output_type": "display_data"
    }
   ],
   "source": [
    "import seaborn as sns\n",
    "sns.set_style(\"whitegrid\")\n",
    "plt.figure(figsize=(15,8))\n",
    "ax = sns.boxplot(x=\"urban\", y=\"gig_per\",               \n",
    "data=df, palette=\"Set3\",showfliers = False)"
   ]
  },
  {
   "cell_type": "code",
   "execution_count": 12,
   "metadata": {},
   "outputs": [],
   "source": [
    "urban = df[df[\"urban\"]=='urban']['gig_per']\n",
    "urban_center = df[df[\"urban\"]=='urban center']['gig_per']\n",
    "rural = df[df[\"urban\"]=='rural']['gig_per']"
   ]
  },
  {
   "cell_type": "code",
   "execution_count": 13,
   "metadata": {},
   "outputs": [],
   "source": [
    "def hist_data(data):\n",
    "    plt.hist(data, color = 'c', edgecolor='black',alpha=0.65,bins = 50)\n",
    "    plt.axvline(data.mean(), color='r', linestyle='dashed', linewidth=1)\n",
    "    plt.axvline(data.median(), color='b', linestyle='dashed', linewidth=1)\n",
    "    min_ylim, max_ylim = plt.ylim()\n",
    "    plt.text(data.mean()*1.06, max_ylim*0.9, 'Mean: {:.2f}'.format(data.mean()))  \n",
    "    plt.show()"
   ]
  },
  {
   "cell_type": "code",
   "execution_count": 14,
   "metadata": {},
   "outputs": [],
   "source": [
    "def hist_all(labels,*data):\n",
    "    plt.figure(figsize=(17,8))\n",
    "    i = 0\n",
    "    op = 0.7\n",
    "    c = list(mcolors.BASE_COLORS.keys())\n",
    "    plt.hist(data,color = c[:len(labels)], alpha=op-i*0.2,bins = 25, label = labels, range = [0,0.85])\n",
    "    plt.legend()\n",
    "    plt.xlabel('percentage of gig workers')\n",
    "    plt.title(' vs. '.join(labels)+' histogram')\n",
    "    plt.show()"
   ]
  },
  {
   "cell_type": "code",
   "execution_count": 15,
   "metadata": {},
   "outputs": [
    {
     "data": {
      "image/png": "[encoded data removed]",
      "text/plain": [
       "<Figure size 1224x576 with 1 Axes>"
      ]
     },
     "metadata": {},
     "output_type": "display_data"
    }
   ],
   "source": [
    "hist_all(['urban_center','urban','rural'],urban_center,urban,rural)"
   ]
  },
  {
   "cell_type": "code",
   "execution_count": 16,
   "metadata": {},
   "outputs": [
    {
     "data": {
      "image/png": "[encoded data removed]",
      "text/plain": [
       "<Figure size 1224x576 with 1 Axes>"
      ]
     },
     "metadata": {},
     "output_type": "display_data"
    }
   ],
   "source": [
    "hist_all(['urban','rural'],urban,rural)"
   ]
  },
  {
   "cell_type": "code",
   "execution_count": 17,
   "metadata": {},
   "outputs": [
    {
     "data": {
      "image/png": "[encoded data removed]",
      "text/plain": [
       "<Figure size 1224x576 with 1 Axes>"
      ]
     },
     "metadata": {},
     "output_type": "display_data"
    }
   ],
   "source": [
    "hist_all(['urban_center','rural'],urban_center,rural)"
   ]
  },
  {
   "cell_type": "code",
   "execution_count": 18,
   "metadata": {},
   "outputs": [
    {
     "data": {
      "image/png": "[encoded data removed]",
      "text/plain": [
       "<Figure size 1224x576 with 1 Axes>"
      ]
     },
     "metadata": {},
     "output_type": "display_data"
    }
   ],
   "source": [
    "hist_all(['urban_center','urban'],urban_center,urban)"
   ]
  },
  {
   "cell_type": "code",
   "execution_count": 19,
   "metadata": {},
   "outputs": [
    {
     "data": {
      "text/html": [
       "<div>\n",
       "<style scoped>\n",
       "    .dataframe tbody tr th:only-of-type {\n",
       "        vertical-align: middle;\n",
       "    }\n",
       "\n",
       "    .dataframe tbody tr th {\n",
       "        vertical-align: top;\n",
       "    }\n",
       "\n",
       "    .dataframe thead th {\n",
       "        text-align: right;\n",
       "    }\n",
       "</style>\n",
       "<table border=\"1\" class=\"dataframe\">\n",
       "  <thead>\n",
       "    <tr style=\"text-align: right;\">\n",
       "      <th></th>\n",
       "      <th>Post Code</th>\n",
       "      <th>Population</th>\n",
       "      <th>Area</th>\n",
       "      <th>Density</th>\n",
       "      <th>gig_num</th>\n",
       "      <th>gig_per</th>\n",
       "    </tr>\n",
       "  </thead>\n",
       "  <tbody>\n",
       "    <tr>\n",
       "      <th>0</th>\n",
       "      <td>1000</td>\n",
       "      <td>8157.0</td>\n",
       "      <td>14.100</td>\n",
       "      <td>578.510638</td>\n",
       "      <td>0.0</td>\n",
       "      <td>0.000000</td>\n",
       "    </tr>\n",
       "    <tr>\n",
       "      <th>3</th>\n",
       "      <td>1003</td>\n",
       "      <td>7617.0</td>\n",
       "      <td>0.820</td>\n",
       "      <td>9289.024390</td>\n",
       "      <td>3.0</td>\n",
       "      <td>0.039386</td>\n",
       "    </tr>\n",
       "    <tr>\n",
       "      <th>4</th>\n",
       "      <td>1004</td>\n",
       "      <td>19375.0</td>\n",
       "      <td>2.272</td>\n",
       "      <td>8527.728873</td>\n",
       "      <td>0.0</td>\n",
       "      <td>0.000000</td>\n",
       "    </tr>\n",
       "    <tr>\n",
       "      <th>5</th>\n",
       "      <td>1005</td>\n",
       "      <td>10355.0</td>\n",
       "      <td>1.585</td>\n",
       "      <td>6533.123028</td>\n",
       "      <td>0.0</td>\n",
       "      <td>0.000000</td>\n",
       "    </tr>\n",
       "    <tr>\n",
       "      <th>6</th>\n",
       "      <td>1006</td>\n",
       "      <td>11538.0</td>\n",
       "      <td>1.553</td>\n",
       "      <td>7429.491307</td>\n",
       "      <td>11.0</td>\n",
       "      <td>0.095337</td>\n",
       "    </tr>\n",
       "    <tr>\n",
       "      <th>...</th>\n",
       "      <td>...</td>\n",
       "      <td>...</td>\n",
       "      <td>...</td>\n",
       "      <td>...</td>\n",
       "      <td>...</td>\n",
       "      <td>...</td>\n",
       "    </tr>\n",
       "    <tr>\n",
       "      <th>3517</th>\n",
       "      <td>9411</td>\n",
       "      <td>744.0</td>\n",
       "      <td>5.100</td>\n",
       "      <td>145.882353</td>\n",
       "      <td>0.0</td>\n",
       "      <td>0.000000</td>\n",
       "    </tr>\n",
       "    <tr>\n",
       "      <th>3519</th>\n",
       "      <td>9426</td>\n",
       "      <td>921.0</td>\n",
       "      <td>1.381</td>\n",
       "      <td>666.908038</td>\n",
       "      <td>0.0</td>\n",
       "      <td>0.000000</td>\n",
       "    </tr>\n",
       "    <tr>\n",
       "      <th>3520</th>\n",
       "      <td>9427</td>\n",
       "      <td>1517.0</td>\n",
       "      <td>6.900</td>\n",
       "      <td>219.855072</td>\n",
       "      <td>0.0</td>\n",
       "      <td>0.000000</td>\n",
       "    </tr>\n",
       "    <tr>\n",
       "      <th>3521</th>\n",
       "      <td>9428</td>\n",
       "      <td>1971.0</td>\n",
       "      <td>7.000</td>\n",
       "      <td>281.571429</td>\n",
       "      <td>0.0</td>\n",
       "      <td>0.000000</td>\n",
       "    </tr>\n",
       "    <tr>\n",
       "      <th>3522</th>\n",
       "      <td>9651</td>\n",
       "      <td>113.0</td>\n",
       "      <td>32.300</td>\n",
       "      <td>3.498452</td>\n",
       "      <td>0.0</td>\n",
       "      <td>0.000000</td>\n",
       "    </tr>\n",
       "  </tbody>\n",
       "</table>\n",
       "<p>3148 rows × 6 columns</p>\n",
       "</div>"
      ],
      "text/plain": [
       "      Post Code  Population    Area      Density  gig_num   gig_per\n",
       "0          1000      8157.0  14.100   578.510638      0.0  0.000000\n",
       "3          1003      7617.0   0.820  9289.024390      3.0  0.039386\n",
       "4          1004     19375.0   2.272  8527.728873      0.0  0.000000\n",
       "5          1005     10355.0   1.585  6533.123028      0.0  0.000000\n",
       "6          1006     11538.0   1.553  7429.491307     11.0  0.095337\n",
       "...         ...         ...     ...          ...      ...       ...\n",
       "3517       9411       744.0   5.100   145.882353      0.0  0.000000\n",
       "3519       9426       921.0   1.381   666.908038      0.0  0.000000\n",
       "3520       9427      1517.0   6.900   219.855072      0.0  0.000000\n",
       "3521       9428      1971.0   7.000   281.571429      0.0  0.000000\n",
       "3522       9651       113.0  32.300     3.498452      0.0  0.000000\n",
       "\n",
       "[3148 rows x 6 columns]"
      ]
     },
     "execution_count": 19,
     "metadata": {},
     "output_type": "execute_result"
    }
   ],
   "source": [
    "df_count = df_density.merge(df_count,on = 'Post Code', how = 'left')\n",
    "df_count['Counts'] = df_count['Counts'].fillna(0)\n",
    "df_count = df_count.drop(['City','Region'],axis=1)\n",
    "df_count = df_count.dropna(subset = ['Density','Population'])\n",
    "df_count['gig_per'] = 100*df_count['Counts']/df_count['Population']\n",
    "df_count = df_count.rename(columns={'Counts': 'gig_num'})\n",
    "df_count"
   ]
  },
  {
   "cell_type": "code",
   "execution_count": 20,
   "metadata": {},
   "outputs": [],
   "source": [
    "def draw_worker_density(xv,yv,df):\n",
    "    plt.figure(figsize=(10, 6), dpi=80)\n",
    "    ax = sns.scatterplot(x=xv, y=yv, data=df)\n",
    "    ax.set_title(yv+\" vs. \"+xv)\n",
    "    ax.set_xlabel(xv)"
   ]
  },
  {
   "cell_type": "code",
   "execution_count": 21,
   "metadata": {},
   "outputs": [],
   "source": [
    "from scipy import stats\n",
    "def draw_corr(df,col1, col2):\n",
    "    draw_worker_density(col1,col2,df)\n",
    "    p = stats.pearsonr(df[col1], df[col2])\n",
    "    s = stats.spearmanr(df[col1], df[col2])\n",
    "    k = stats.kendalltau(df[col1], df[col2])\n",
    "    print(f'pearson r: {p[0]}, p value: {p[1]}')\n",
    "    print(f'Spearman rho: {s[0]}, p value: {s[1]}')\n",
    "    print(f'kendall tau: {k[0]}, p value: {k[1]}')"
   ]
  },
  {
   "cell_type": "code",
   "execution_count": 22,
   "metadata": {},
   "outputs": [
    {
     "name": "stdout",
     "output_type": "stream",
     "text": [
      "pearson r: -0.09005797104063468, p value: 0.10456956319101417\n",
      "Spearman rho: -0.4070053202410105, p value: 1.9426797420948528e-14\n",
      "kendall tau: -0.28550931225282844, p value: 1.4682116010900683e-14\n"
     ]
    },
    {
     "data": {
      "image/png": "[encoded data removed]",
      "text/plain": [
       "<Figure size 800x480 with 1 Axes>"
      ]
     },
     "metadata": {},
     "output_type": "display_data"
    }
   ],
   "source": [
    "draw_corr(df,'Density','gig_per')"
   ]
  },
  {
   "cell_type": "code",
   "execution_count": 23,
   "metadata": {},
   "outputs": [
    {
     "name": "stdout",
     "output_type": "stream",
     "text": [
      "pearson r: 0.0680034254703363, p value: 0.00013433296223479407\n",
      "Spearman rho: 0.35305547096420153, p value: 4.544878120913498e-93\n",
      "kendall tau: 0.2792178558181573, p value: 2.8495236302567223e-86\n"
     ]
    },
    {
     "data": {
      "image/png": "[encoded data removed]",
      "text/plain": [
       "<Figure size 800x480 with 1 Axes>"
      ]
     },
     "metadata": {},
     "output_type": "display_data"
    }
   ],
   "source": [
    "draw_corr(df_count,'Density','gig_per')"
   ]
  }
 ],
 "metadata": {
  "kernelspec": {
   "display_name": "Python 3 (ipykernel)",
   "language": "python",
   "name": "python3"
  },
  "language_info": {
   "codemirror_mode": {
    "name": "ipython",
    "version": 3
   },
   "file_extension": ".py",
   "mimetype": "text/x-python",
   "name": "python",
   "nbconvert_exporter": "python",
   "pygments_lexer": "ipython3",
   "version": "3.9.7"
  }
 },
 "nbformat": 4,
 "nbformat_minor": 2
}
