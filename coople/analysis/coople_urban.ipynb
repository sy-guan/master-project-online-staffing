{
 "cells": [
  {
   "cell_type": "code",
   "execution_count": 1,
   "metadata": {},
   "outputs": [
    {
     "name": "stderr",
     "output_type": "stream",
     "text": [
      "/Users/guan/opt/anaconda3/lib/python3.9/site-packages/openpyxl/worksheet/header_footer.py:48: UserWarning: Cannot parse header or footer so it will be ignored\n",
      "  warn(\"\"\"Cannot parse header or footer so it will be ignored\"\"\")\n"
     ]
    }
   ],
   "source": [
    "import pandas as pd\n",
    "import numpy as np\n",
    "import matplotlib.pyplot as plt\n",
    "import matplotlib.colors as mcolors\n",
    "\n",
    "# Read data\n",
    "df_density = pd.read_excel('../../density.xlsx')\n",
    "df_data = pd.read_csv('../data/coople_11072023.csv')\n",
    "df_lat = pd.read_csv('../../post-codes.csv')\n",
    "df_population = pd.read_excel('../../population.xlsx')"
   ]
  },
  {
   "cell_type": "code",
   "execution_count": 2,
   "metadata": {},
   "outputs": [],
   "source": [
    "df_population = df_population.iloc[3:,:2]\n",
    "df_population = df_population.rename(columns={'su-e-01.02.03.07': 'Post Code','Permanent resident population by postal code, category of citizenship, sex, five-year age class and marital status, on 31.12.2022':'Population'})\n",
    "df_density = df_density.drop(['Population','Density'],axis=1)"
   ]
  },
  {
   "cell_type": "code",
   "execution_count": 3,
   "metadata": {},
   "outputs": [
    {
     "data": {
      "text/html": [
       "<div>\n",
       "<style scoped>\n",
       "    .dataframe tbody tr th:only-of-type {\n",
       "        vertical-align: middle;\n",
       "    }\n",
       "\n",
       "    .dataframe tbody tr th {\n",
       "        vertical-align: top;\n",
       "    }\n",
       "\n",
       "    .dataframe thead th {\n",
       "        text-align: right;\n",
       "    }\n",
       "</style>\n",
       "<table border=\"1\" class=\"dataframe\">\n",
       "  <thead>\n",
       "    <tr style=\"text-align: right;\">\n",
       "      <th></th>\n",
       "      <th>Post Code</th>\n",
       "      <th>City</th>\n",
       "      <th>Region</th>\n",
       "      <th>Area</th>\n",
       "      <th>Population</th>\n",
       "      <th>Density</th>\n",
       "    </tr>\n",
       "  </thead>\n",
       "  <tbody>\n",
       "    <tr>\n",
       "      <th>0</th>\n",
       "      <td>1000</td>\n",
       "      <td>Lausanne</td>\n",
       "      <td>Vaud</td>\n",
       "      <td>14.100</td>\n",
       "      <td>4072</td>\n",
       "      <td>288.794326</td>\n",
       "    </tr>\n",
       "    <tr>\n",
       "      <th>1</th>\n",
       "      <td>1001</td>\n",
       "      <td>Lausanne</td>\n",
       "      <td>Vaud</td>\n",
       "      <td>NaN</td>\n",
       "      <td>NaN</td>\n",
       "      <td>NaN</td>\n",
       "    </tr>\n",
       "    <tr>\n",
       "      <th>2</th>\n",
       "      <td>1002</td>\n",
       "      <td>Lausanne</td>\n",
       "      <td>Vaud</td>\n",
       "      <td>NaN</td>\n",
       "      <td>NaN</td>\n",
       "      <td>NaN</td>\n",
       "    </tr>\n",
       "    <tr>\n",
       "      <th>3</th>\n",
       "      <td>1003</td>\n",
       "      <td>Lausanne</td>\n",
       "      <td>Vaud</td>\n",
       "      <td>0.820</td>\n",
       "      <td>6707</td>\n",
       "      <td>8179.268293</td>\n",
       "    </tr>\n",
       "    <tr>\n",
       "      <th>4</th>\n",
       "      <td>1004</td>\n",
       "      <td>Lausanne</td>\n",
       "      <td>Vaud</td>\n",
       "      <td>2.272</td>\n",
       "      <td>31230</td>\n",
       "      <td>13745.598592</td>\n",
       "    </tr>\n",
       "  </tbody>\n",
       "</table>\n",
       "</div>"
      ],
      "text/plain": [
       "  Post Code      City Region    Area Population       Density\n",
       "0      1000  Lausanne   Vaud  14.100       4072    288.794326\n",
       "1      1001  Lausanne   Vaud     NaN        NaN           NaN\n",
       "2      1002  Lausanne   Vaud     NaN        NaN           NaN\n",
       "3      1003  Lausanne   Vaud   0.820       6707   8179.268293\n",
       "4      1004  Lausanne   Vaud   2.272      31230  13745.598592"
      ]
     },
     "execution_count": 3,
     "metadata": {},
     "output_type": "execute_result"
    }
   ],
   "source": [
    "df_density = df_density.merge(df_population,on='Post Code',how='left')\n",
    "df_density['Density'] = df_density['Population']/df_density['Area']\n",
    "df_density.head()"
   ]
  },
  {
   "cell_type": "code",
   "execution_count": 4,
   "metadata": {},
   "outputs": [],
   "source": [
    "df_density.to_csv('../../density.csv')"
   ]
  },
  {
   "cell_type": "code",
   "execution_count": 5,
   "metadata": {},
   "outputs": [],
   "source": [
    "df_urban = df_data.merge(df_density, on = 'Post Code',how = 'left')\n",
    "df_urban.set_index('Rank', inplace=True)"
   ]
  },
  {
   "cell_type": "code",
   "execution_count": 6,
   "metadata": {},
   "outputs": [
    {
     "data": {
      "text/html": [
       "<div>\n",
       "<style scoped>\n",
       "    .dataframe tbody tr th:only-of-type {\n",
       "        vertical-align: middle;\n",
       "    }\n",
       "\n",
       "    .dataframe tbody tr th {\n",
       "        vertical-align: top;\n",
       "    }\n",
       "\n",
       "    .dataframe thead th {\n",
       "        text-align: right;\n",
       "    }\n",
       "</style>\n",
       "<table border=\"1\" class=\"dataframe\">\n",
       "  <thead>\n",
       "    <tr style=\"text-align: right;\">\n",
       "      <th></th>\n",
       "      <th>Job role</th>\n",
       "      <th>Experience Level</th>\n",
       "      <th>Experience detail</th>\n",
       "      <th>Job description</th>\n",
       "      <th>Industry</th>\n",
       "      <th>City</th>\n",
       "      <th>Post Code</th>\n",
       "      <th>Pay total</th>\n",
       "      <th>Pay per hour</th>\n",
       "      <th>Start date</th>\n",
       "      <th>Shift</th>\n",
       "      <th>Region</th>\n",
       "      <th>Area</th>\n",
       "      <th>Population</th>\n",
       "      <th>Density</th>\n",
       "    </tr>\n",
       "    <tr>\n",
       "      <th>Rank</th>\n",
       "      <th></th>\n",
       "      <th></th>\n",
       "      <th></th>\n",
       "      <th></th>\n",
       "      <th></th>\n",
       "      <th></th>\n",
       "      <th></th>\n",
       "      <th></th>\n",
       "      <th></th>\n",
       "      <th></th>\n",
       "      <th></th>\n",
       "      <th></th>\n",
       "      <th></th>\n",
       "      <th></th>\n",
       "      <th></th>\n",
       "    </tr>\n",
       "  </thead>\n",
       "  <tbody>\n",
       "    <tr>\n",
       "      <th>1</th>\n",
       "      <td>Verkaufsmitarbeiter/in / Detailhandel</td>\n",
       "      <td>Ungelernt</td>\n",
       "      <td>Verkaufsmitarbeiter/in mit Freude am Verkauf u...</td>\n",
       "      <td>Aufgaben:\\n- Auffülltätigkeiten (Non Food Bere...</td>\n",
       "      <td>Detailhandel / Logistik</td>\n",
       "      <td>Rüschlikon</td>\n",
       "      <td>8803</td>\n",
       "      <td>7695.00</td>\n",
       "      <td>27.00</td>\n",
       "      <td>8 Nov 2023</td>\n",
       "      <td>38</td>\n",
       "      <td>Canton of Zürich</td>\n",
       "      <td>4.632</td>\n",
       "      <td>6224</td>\n",
       "      <td>1343.696028</td>\n",
       "    </tr>\n",
       "    <tr>\n",
       "      <th>2</th>\n",
       "      <td>Koch/Köchin</td>\n",
       "      <td>Gelernt</td>\n",
       "      <td>Personen mit eidgenössischem Fähigkeitsausweis...</td>\n",
       "      <td>Tournant, Einsatz ab 1. November bis 30. Novem...</td>\n",
       "      <td>Gastronomie / Hotel</td>\n",
       "      <td>Thun</td>\n",
       "      <td>3604</td>\n",
       "      <td>6037.50</td>\n",
       "      <td>35.00</td>\n",
       "      <td>8 Nov 2023</td>\n",
       "      <td>23</td>\n",
       "      <td>Canton of Bern</td>\n",
       "      <td>3.376</td>\n",
       "      <td>15478</td>\n",
       "      <td>4584.71564</td>\n",
       "    </tr>\n",
       "    <tr>\n",
       "      <th>4</th>\n",
       "      <td>Eventmanagement &amp; Assistenz</td>\n",
       "      <td>Praxiserfahrung &gt;20 Monate oder mit Ausbildung</td>\n",
       "      <td>Erfahrung von mehr als 20 Monaten im Eventmana...</td>\n",
       "      <td>We will be managing two locations in Allschwil...</td>\n",
       "      <td>Promotion / Event</td>\n",
       "      <td>Kanton Reinach</td>\n",
       "      <td>4153</td>\n",
       "      <td>18720.00</td>\n",
       "      <td>32.00</td>\n",
       "      <td>8 Nov 2023</td>\n",
       "      <td>78</td>\n",
       "      <td>Basel-Landschaft</td>\n",
       "      <td>7.000</td>\n",
       "      <td>19703</td>\n",
       "      <td>2814.714286</td>\n",
       "    </tr>\n",
       "    <tr>\n",
       "      <th>4</th>\n",
       "      <td>Eventmanagement &amp; Assistenz</td>\n",
       "      <td>Praxiserfahrung &gt;20 Monate oder mit Ausbildung</td>\n",
       "      <td>Erfahrung von mehr als 20 Monaten im Eventmana...</td>\n",
       "      <td>We will be managing two locations in Allschwil...</td>\n",
       "      <td>Promotion / Event</td>\n",
       "      <td>Kanton Reinach</td>\n",
       "      <td>4153</td>\n",
       "      <td>18720.00</td>\n",
       "      <td>32.00</td>\n",
       "      <td>8 Nov 2023</td>\n",
       "      <td>78</td>\n",
       "      <td>Basel-Landschaft</td>\n",
       "      <td>7.000</td>\n",
       "      <td>19703</td>\n",
       "      <td>2814.714286</td>\n",
       "    </tr>\n",
       "    <tr>\n",
       "      <th>5</th>\n",
       "      <td>Produktionsmitarbeiter/in</td>\n",
       "      <td>NaN</td>\n",
       "      <td>NaN</td>\n",
       "      <td>Bei der AG herrschen strenge Hygienevorschrift...</td>\n",
       "      <td>NaN</td>\n",
       "      <td>Rüti</td>\n",
       "      <td>8630</td>\n",
       "      <td>547.39</td>\n",
       "      <td>25.46</td>\n",
       "      <td>8 Nov 2023</td>\n",
       "      <td>3</td>\n",
       "      <td>Canton of Zürich</td>\n",
       "      <td>10.100</td>\n",
       "      <td>12703</td>\n",
       "      <td>1257.722772</td>\n",
       "    </tr>\n",
       "  </tbody>\n",
       "</table>\n",
       "</div>"
      ],
      "text/plain": [
       "                                   Job role  \\\n",
       "Rank                                          \n",
       "1     Verkaufsmitarbeiter/in / Detailhandel   \n",
       "2                               Koch/Köchin   \n",
       "4               Eventmanagement & Assistenz   \n",
       "4               Eventmanagement & Assistenz   \n",
       "5                 Produktionsmitarbeiter/in   \n",
       "\n",
       "                                    Experience Level  \\\n",
       "Rank                                                   \n",
       "1                                          Ungelernt   \n",
       "2                                            Gelernt   \n",
       "4     Praxiserfahrung >20 Monate oder mit Ausbildung   \n",
       "4     Praxiserfahrung >20 Monate oder mit Ausbildung   \n",
       "5                                                NaN   \n",
       "\n",
       "                                      Experience detail  \\\n",
       "Rank                                                      \n",
       "1     Verkaufsmitarbeiter/in mit Freude am Verkauf u...   \n",
       "2     Personen mit eidgenössischem Fähigkeitsausweis...   \n",
       "4     Erfahrung von mehr als 20 Monaten im Eventmana...   \n",
       "4     Erfahrung von mehr als 20 Monaten im Eventmana...   \n",
       "5                                                   NaN   \n",
       "\n",
       "                                        Job description  \\\n",
       "Rank                                                      \n",
       "1     Aufgaben:\\n- Auffülltätigkeiten (Non Food Bere...   \n",
       "2     Tournant, Einsatz ab 1. November bis 30. Novem...   \n",
       "4     We will be managing two locations in Allschwil...   \n",
       "4     We will be managing two locations in Allschwil...   \n",
       "5     Bei der AG herrschen strenge Hygienevorschrift...   \n",
       "\n",
       "                     Industry            City Post Code  Pay total  \\\n",
       "Rank                                                                 \n",
       "1     Detailhandel / Logistik      Rüschlikon      8803    7695.00   \n",
       "2         Gastronomie / Hotel            Thun      3604    6037.50   \n",
       "4           Promotion / Event  Kanton Reinach      4153   18720.00   \n",
       "4           Promotion / Event  Kanton Reinach      4153   18720.00   \n",
       "5                         NaN            Rüti      8630     547.39   \n",
       "\n",
       "      Pay per hour  Start date  Shift            Region    Area Population  \\\n",
       "Rank                                                                         \n",
       "1            27.00  8 Nov 2023     38  Canton of Zürich   4.632       6224   \n",
       "2            35.00  8 Nov 2023     23    Canton of Bern   3.376      15478   \n",
       "4            32.00  8 Nov 2023     78  Basel-Landschaft   7.000      19703   \n",
       "4            32.00  8 Nov 2023     78  Basel-Landschaft   7.000      19703   \n",
       "5            25.46  8 Nov 2023      3  Canton of Zürich  10.100      12703   \n",
       "\n",
       "          Density  \n",
       "Rank               \n",
       "1     1343.696028  \n",
       "2      4584.71564  \n",
       "4     2814.714286  \n",
       "4     2814.714286  \n",
       "5     1257.722772  "
      ]
     },
     "execution_count": 6,
     "metadata": {},
     "output_type": "execute_result"
    }
   ],
   "source": [
    "df_urban = df_urban.drop(['City_y'],axis=1)\n",
    "df_urban = df_urban.rename(columns={'City_x': 'City'})\n",
    "df_urban = df_urban.dropna(subset = ['Density'])\n",
    "df_urban_lat = df_urban.merge(df_lat.drop_duplicates(['Post Code']), on = 'Post Code',how = 'left')\n",
    "df_urban.head()"
   ]
  },
  {
   "cell_type": "code",
   "execution_count": 7,
   "metadata": {},
   "outputs": [
    {
     "name": "stdout",
     "output_type": "stream",
     "text": [
      "25.356125356125357 2711.9462413419974 16382.30884557721\n"
     ]
    }
   ],
   "source": [
    "density = df_urban['Density']\n",
    "print(min(density),np.mean(density),max(density))"
   ]
  },
  {
   "cell_type": "code",
   "execution_count": 8,
   "metadata": {},
   "outputs": [],
   "source": [
    "df_urban['Urban'] = df_urban['Density'] > 400"
   ]
  },
  {
   "cell_type": "code",
   "execution_count": 9,
   "metadata": {},
   "outputs": [
    {
     "data": {
      "text/plain": [
       "0.8920863309352518"
      ]
     },
     "execution_count": 9,
     "metadata": {},
     "output_type": "execute_result"
    }
   ],
   "source": [
    "urban_total = df_urban['Urban'].sum()/df_urban['Urban'].count()\n",
    "urban_total"
   ]
  },
  {
   "cell_type": "code",
   "execution_count": 10,
   "metadata": {},
   "outputs": [
    {
     "data": {
      "image/png": "[encoded data removed]",
      "text/plain": [
       "<Figure size 1080x576 with 1 Axes>"
      ]
     },
     "metadata": {},
     "output_type": "display_data"
    }
   ],
   "source": [
    "import seaborn as sns\n",
    "sns.set_style(\"whitegrid\")\n",
    "plt.figure(figsize=(15,8))\n",
    "ax = sns.boxplot(x=\"Industry\", y=\"Pay per hour\", hue=\"Urban\", data=df_urban, palette=\"Set3\")"
   ]
  },
  {
   "cell_type": "code",
   "execution_count": 11,
   "metadata": {},
   "outputs": [
    {
     "data": {
      "text/html": [
       "<div>\n",
       "<style scoped>\n",
       "    .dataframe tbody tr th:only-of-type {\n",
       "        vertical-align: middle;\n",
       "    }\n",
       "\n",
       "    .dataframe tbody tr th {\n",
       "        vertical-align: top;\n",
       "    }\n",
       "\n",
       "    .dataframe thead th {\n",
       "        text-align: right;\n",
       "    }\n",
       "</style>\n",
       "<table border=\"1\" class=\"dataframe\">\n",
       "  <thead>\n",
       "    <tr style=\"text-align: right;\">\n",
       "      <th></th>\n",
       "      <th>Post Code</th>\n",
       "      <th>Counts</th>\n",
       "    </tr>\n",
       "  </thead>\n",
       "  <tbody>\n",
       "    <tr>\n",
       "      <th>0</th>\n",
       "      <td>1003</td>\n",
       "      <td>10</td>\n",
       "    </tr>\n",
       "    <tr>\n",
       "      <th>1</th>\n",
       "      <td>1006</td>\n",
       "      <td>1</td>\n",
       "    </tr>\n",
       "    <tr>\n",
       "      <th>2</th>\n",
       "      <td>1007</td>\n",
       "      <td>1</td>\n",
       "    </tr>\n",
       "    <tr>\n",
       "      <th>3</th>\n",
       "      <td>1023</td>\n",
       "      <td>1</td>\n",
       "    </tr>\n",
       "    <tr>\n",
       "      <th>4</th>\n",
       "      <td>1024</td>\n",
       "      <td>2</td>\n",
       "    </tr>\n",
       "    <tr>\n",
       "      <th>...</th>\n",
       "      <td>...</td>\n",
       "      <td>...</td>\n",
       "    </tr>\n",
       "    <tr>\n",
       "      <th>263</th>\n",
       "      <td>9450</td>\n",
       "      <td>2</td>\n",
       "    </tr>\n",
       "    <tr>\n",
       "      <th>264</th>\n",
       "      <td>9469</td>\n",
       "      <td>1</td>\n",
       "    </tr>\n",
       "    <tr>\n",
       "      <th>265</th>\n",
       "      <td>9475</td>\n",
       "      <td>2</td>\n",
       "    </tr>\n",
       "    <tr>\n",
       "      <th>266</th>\n",
       "      <td>9500</td>\n",
       "      <td>1</td>\n",
       "    </tr>\n",
       "    <tr>\n",
       "      <th>267</th>\n",
       "      <td>9630</td>\n",
       "      <td>5</td>\n",
       "    </tr>\n",
       "  </tbody>\n",
       "</table>\n",
       "<p>268 rows × 2 columns</p>\n",
       "</div>"
      ],
      "text/plain": [
       "     Post Code  Counts\n",
       "0         1003      10\n",
       "1         1006       1\n",
       "2         1007       1\n",
       "3         1023       1\n",
       "4         1024       2\n",
       "..         ...     ...\n",
       "263       9450       2\n",
       "264       9469       1\n",
       "265       9475       2\n",
       "266       9500       1\n",
       "267       9630       5\n",
       "\n",
       "[268 rows x 2 columns]"
      ]
     },
     "execution_count": 11,
     "metadata": {},
     "output_type": "execute_result"
    }
   ],
   "source": [
    "# Urban data group by post code\n",
    "df_count = df_urban.groupby(['Post Code']).size().reset_index(name = 'Counts')\n",
    "df_count"
   ]
  },
  {
   "cell_type": "code",
   "execution_count": 12,
   "metadata": {},
   "outputs": [
    {
     "data": {
      "text/html": [
       "<div>\n",
       "<style scoped>\n",
       "    .dataframe tbody tr th:only-of-type {\n",
       "        vertical-align: middle;\n",
       "    }\n",
       "\n",
       "    .dataframe tbody tr th {\n",
       "        vertical-align: top;\n",
       "    }\n",
       "\n",
       "    .dataframe thead th {\n",
       "        text-align: right;\n",
       "    }\n",
       "</style>\n",
       "<table border=\"1\" class=\"dataframe\">\n",
       "  <thead>\n",
       "    <tr style=\"text-align: right;\">\n",
       "      <th></th>\n",
       "      <th>Post Code</th>\n",
       "      <th>gig_num</th>\n",
       "      <th>City</th>\n",
       "      <th>Region</th>\n",
       "      <th>Area</th>\n",
       "      <th>Population</th>\n",
       "      <th>Density</th>\n",
       "      <th>gig_per_capita</th>\n",
       "      <th>region</th>\n",
       "    </tr>\n",
       "  </thead>\n",
       "  <tbody>\n",
       "    <tr>\n",
       "      <th>0</th>\n",
       "      <td>1003</td>\n",
       "      <td>10</td>\n",
       "      <td>Lausanne</td>\n",
       "      <td>Vaud</td>\n",
       "      <td>0.820</td>\n",
       "      <td>6707</td>\n",
       "      <td>8179.268293</td>\n",
       "      <td>0.001491</td>\n",
       "      <td>urban</td>\n",
       "    </tr>\n",
       "    <tr>\n",
       "      <th>1</th>\n",
       "      <td>1006</td>\n",
       "      <td>1</td>\n",
       "      <td>Lausanne</td>\n",
       "      <td>Vaud</td>\n",
       "      <td>1.553</td>\n",
       "      <td>15391</td>\n",
       "      <td>9910.495815</td>\n",
       "      <td>0.000065</td>\n",
       "      <td>urban</td>\n",
       "    </tr>\n",
       "    <tr>\n",
       "      <th>2</th>\n",
       "      <td>1007</td>\n",
       "      <td>1</td>\n",
       "      <td>Lausanne</td>\n",
       "      <td>Vaud</td>\n",
       "      <td>3.904</td>\n",
       "      <td>22538</td>\n",
       "      <td>5773.053279</td>\n",
       "      <td>0.000044</td>\n",
       "      <td>urban</td>\n",
       "    </tr>\n",
       "    <tr>\n",
       "      <th>3</th>\n",
       "      <td>1023</td>\n",
       "      <td>1</td>\n",
       "      <td>NaN</td>\n",
       "      <td>Vaud</td>\n",
       "      <td>5.500</td>\n",
       "      <td>9200</td>\n",
       "      <td>1672.727273</td>\n",
       "      <td>0.000109</td>\n",
       "      <td>urban</td>\n",
       "    </tr>\n",
       "    <tr>\n",
       "      <th>4</th>\n",
       "      <td>1024</td>\n",
       "      <td>2</td>\n",
       "      <td>Chavannes-près-Renens</td>\n",
       "      <td>Vaud</td>\n",
       "      <td>4.829</td>\n",
       "      <td>13118</td>\n",
       "      <td>2716.504452</td>\n",
       "      <td>0.000152</td>\n",
       "      <td>urban</td>\n",
       "    </tr>\n",
       "  </tbody>\n",
       "</table>\n",
       "</div>"
      ],
      "text/plain": [
       "  Post Code  gig_num                   City Region   Area Population  \\\n",
       "0      1003       10               Lausanne   Vaud  0.820       6707   \n",
       "1      1006        1               Lausanne   Vaud  1.553      15391   \n",
       "2      1007        1               Lausanne   Vaud  3.904      22538   \n",
       "3      1023        1                    NaN   Vaud  5.500       9200   \n",
       "4      1024        2  Chavannes-près-Renens   Vaud  4.829      13118   \n",
       "\n",
       "       Density gig_per_capita region  \n",
       "0  8179.268293       0.001491  urban  \n",
       "1  9910.495815       0.000065  urban  \n",
       "2  5773.053279       0.000044  urban  \n",
       "3  1672.727273       0.000109  urban  \n",
       "4  2716.504452       0.000152  urban  "
      ]
     },
     "execution_count": 12,
     "metadata": {},
     "output_type": "execute_result"
    }
   ],
   "source": [
    "# Merge grouped by data with density.csv\n",
    "df = df_count.merge(df_density,on = 'Post Code',how = 'left')\n",
    "df['gig_per_capita'] = df['Counts']/df['Population']\n",
    "# Define urban column\n",
    "df['region'] = 'unknown'\n",
    "df.loc[df['Density']<400, 'region'] = 'rural'\n",
    "df.loc[(df['Density']>=400) & (df['Density']<1500), 'region'] = 'suburb'\n",
    "df.loc[df['Density']>1500, 'region'] = 'urban'\n",
    "df = df.rename(columns={'Counts': 'gig_num'})\n",
    "\n",
    "df.head()"
   ]
  },
  {
   "cell_type": "code",
   "execution_count": 13,
   "metadata": {},
   "outputs": [
    {
     "data": {
      "text/plain": [
       "region\n",
       "rural      54\n",
       "suburb    117\n",
       "urban     101\n",
       "Name: region, dtype: int64"
      ]
     },
     "execution_count": 13,
     "metadata": {},
     "output_type": "execute_result"
    }
   ],
   "source": [
    "# Count job number of urban center, urban and rural \n",
    "urban_count = df.groupby('region')['region'].count()\n",
    "urban_count"
   ]
  },
  {
   "cell_type": "code",
   "execution_count": 14,
   "metadata": {},
   "outputs": [
    {
     "data": {
      "image/png": "[encoded data removed]",
      "text/plain": [
       "<Figure size 1080x576 with 1 Axes>"
      ]
     },
     "metadata": {},
     "output_type": "display_data"
    }
   ],
   "source": [
    "import seaborn as sns\n",
    "sns.set_style(\"whitegrid\")\n",
    "plt.figure(figsize=(15,8))\n",
    "ax = sns.boxplot(x=\"region\", y=\"gig_per_capita\",               \n",
    "data=df, palette=\"Set3\",showfliers = False,order = ['urban','suburb','rural'])"
   ]
  },
  {
   "cell_type": "code",
   "execution_count": 15,
   "metadata": {},
   "outputs": [],
   "source": [
    "suburb = df[df[\"region\"]=='suburb']['gig_per_capita']\n",
    "urban = df[df[\"region\"]=='urban']['gig_per_capita']\n",
    "rural = df[df[\"region\"]=='rural']['gig_per_capita']"
   ]
  },
  {
   "cell_type": "code",
   "execution_count": 16,
   "metadata": {},
   "outputs": [],
   "source": [
    "def hist_data(data):\n",
    "    plt.hist(data, color = 'c', edgecolor='black',alpha=0.65,bins = 50)\n",
    "    plt.axvline(data.mean(), color='r', linestyle='dashed', linewidth=1)\n",
    "    plt.axvline(data.median(), color='b', linestyle='dashed', linewidth=1)\n",
    "    min_ylim, max_ylim = plt.ylim()\n",
    "    plt.text(data.mean()*1.06, max_ylim*0.9, 'Mean: {:.2f}'.format(data.mean()))  \n",
    "    plt.show()"
   ]
  },
  {
   "cell_type": "code",
   "execution_count": 17,
   "metadata": {},
   "outputs": [],
   "source": [
    "def hist_all(labels,*data):\n",
    "    plt.figure(figsize=(17,8))\n",
    "    i = 0\n",
    "    op = 0.7\n",
    "    c = list(mcolors.BASE_COLORS.keys())\n",
    "    plt.hist(data,color = c[:len(labels)], alpha=op-i*0.2,bins = 20, label = labels, range = [0,0.0085])\n",
    "    plt.legend()\n",
    "    plt.xlabel('gig per capita')\n",
    "    plt.title(' vs. '.join(labels)+' histogram')\n",
    "    plt.show()"
   ]
  },
  {
   "cell_type": "code",
   "execution_count": 18,
   "metadata": {},
   "outputs": [
    {
     "data": {
      "image/png": "[encoded data removed]",
      "text/plain": [
       "<Figure size 1224x576 with 1 Axes>"
      ]
     },
     "metadata": {},
     "output_type": "display_data"
    }
   ],
   "source": [
    "hist_all(['urban','suburb','rural'],urban,suburb,rural)"
   ]
  },
  {
   "cell_type": "code",
   "execution_count": 19,
   "metadata": {},
   "outputs": [
    {
     "data": {
      "image/png": "[encoded data removed]",
      "text/plain": [
       "<Figure size 1224x576 with 1 Axes>"
      ]
     },
     "metadata": {},
     "output_type": "display_data"
    }
   ],
   "source": [
    "hist_all(['urban','rural'],urban,rural)"
   ]
  },
  {
   "cell_type": "code",
   "execution_count": 20,
   "metadata": {},
   "outputs": [
    {
     "data": {
      "image/png": "[encoded data removed]",
      "text/plain": [
       "<Figure size 1224x576 with 1 Axes>"
      ]
     },
     "metadata": {},
     "output_type": "display_data"
    }
   ],
   "source": [
    "hist_all(['suburb','rural'],suburb,rural)"
   ]
  },
  {
   "cell_type": "code",
   "execution_count": 21,
   "metadata": {},
   "outputs": [
    {
     "data": {
      "image/png": "[encoded data removed]",
      "text/plain": [
       "<Figure size 1224x576 with 1 Axes>"
      ]
     },
     "metadata": {},
     "output_type": "display_data"
    }
   ],
   "source": [
    "hist_all(['urban','suburb'],urban,suburb)"
   ]
  },
  {
   "cell_type": "code",
   "execution_count": 22,
   "metadata": {},
   "outputs": [
    {
     "data": {
      "text/html": [
       "<div>\n",
       "<style scoped>\n",
       "    .dataframe tbody tr th:only-of-type {\n",
       "        vertical-align: middle;\n",
       "    }\n",
       "\n",
       "    .dataframe tbody tr th {\n",
       "        vertical-align: top;\n",
       "    }\n",
       "\n",
       "    .dataframe thead th {\n",
       "        text-align: right;\n",
       "    }\n",
       "</style>\n",
       "<table border=\"1\" class=\"dataframe\">\n",
       "  <thead>\n",
       "    <tr style=\"text-align: right;\">\n",
       "      <th></th>\n",
       "      <th>Post Code</th>\n",
       "      <th>Area</th>\n",
       "      <th>Population</th>\n",
       "      <th>Density</th>\n",
       "      <th>gig_num</th>\n",
       "      <th>gig_per_capita</th>\n",
       "    </tr>\n",
       "  </thead>\n",
       "  <tbody>\n",
       "    <tr>\n",
       "      <th>0</th>\n",
       "      <td>1000</td>\n",
       "      <td>14.100</td>\n",
       "      <td>4072</td>\n",
       "      <td>288.794326</td>\n",
       "      <td>0.0</td>\n",
       "      <td>0.0</td>\n",
       "    </tr>\n",
       "    <tr>\n",
       "      <th>3</th>\n",
       "      <td>1003</td>\n",
       "      <td>0.820</td>\n",
       "      <td>6707</td>\n",
       "      <td>8179.268293</td>\n",
       "      <td>10.0</td>\n",
       "      <td>0.149098</td>\n",
       "    </tr>\n",
       "    <tr>\n",
       "      <th>4</th>\n",
       "      <td>1004</td>\n",
       "      <td>2.272</td>\n",
       "      <td>31230</td>\n",
       "      <td>13745.598592</td>\n",
       "      <td>0.0</td>\n",
       "      <td>0.0</td>\n",
       "    </tr>\n",
       "    <tr>\n",
       "      <th>5</th>\n",
       "      <td>1005</td>\n",
       "      <td>1.585</td>\n",
       "      <td>12386</td>\n",
       "      <td>7814.511041</td>\n",
       "      <td>0.0</td>\n",
       "      <td>0.0</td>\n",
       "    </tr>\n",
       "    <tr>\n",
       "      <th>6</th>\n",
       "      <td>1006</td>\n",
       "      <td>1.553</td>\n",
       "      <td>15391</td>\n",
       "      <td>9910.495815</td>\n",
       "      <td>1.0</td>\n",
       "      <td>0.006497</td>\n",
       "    </tr>\n",
       "    <tr>\n",
       "      <th>...</th>\n",
       "      <td>...</td>\n",
       "      <td>...</td>\n",
       "      <td>...</td>\n",
       "      <td>...</td>\n",
       "      <td>...</td>\n",
       "      <td>...</td>\n",
       "    </tr>\n",
       "    <tr>\n",
       "      <th>3517</th>\n",
       "      <td>9411</td>\n",
       "      <td>5.100</td>\n",
       "      <td>701</td>\n",
       "      <td>137.45098</td>\n",
       "      <td>0.0</td>\n",
       "      <td>0.0</td>\n",
       "    </tr>\n",
       "    <tr>\n",
       "      <th>3519</th>\n",
       "      <td>9426</td>\n",
       "      <td>1.381</td>\n",
       "      <td>931</td>\n",
       "      <td>674.149167</td>\n",
       "      <td>0.0</td>\n",
       "      <td>0.0</td>\n",
       "    </tr>\n",
       "    <tr>\n",
       "      <th>3520</th>\n",
       "      <td>9427</td>\n",
       "      <td>6.900</td>\n",
       "      <td>1846</td>\n",
       "      <td>267.536232</td>\n",
       "      <td>0.0</td>\n",
       "      <td>0.0</td>\n",
       "    </tr>\n",
       "    <tr>\n",
       "      <th>3521</th>\n",
       "      <td>9428</td>\n",
       "      <td>7.000</td>\n",
       "      <td>1995</td>\n",
       "      <td>285.0</td>\n",
       "      <td>0.0</td>\n",
       "      <td>0.0</td>\n",
       "    </tr>\n",
       "    <tr>\n",
       "      <th>3522</th>\n",
       "      <td>9651</td>\n",
       "      <td>32.300</td>\n",
       "      <td>425</td>\n",
       "      <td>13.157895</td>\n",
       "      <td>0.0</td>\n",
       "      <td>0.0</td>\n",
       "    </tr>\n",
       "  </tbody>\n",
       "</table>\n",
       "<p>3179 rows × 6 columns</p>\n",
       "</div>"
      ],
      "text/plain": [
       "     Post Code    Area Population       Density  gig_num gig_per_capita\n",
       "0         1000  14.100       4072    288.794326      0.0            0.0\n",
       "3         1003   0.820       6707   8179.268293     10.0       0.149098\n",
       "4         1004   2.272      31230  13745.598592      0.0            0.0\n",
       "5         1005   1.585      12386   7814.511041      0.0            0.0\n",
       "6         1006   1.553      15391   9910.495815      1.0       0.006497\n",
       "...        ...     ...        ...           ...      ...            ...\n",
       "3517      9411   5.100        701     137.45098      0.0            0.0\n",
       "3519      9426   1.381        931    674.149167      0.0            0.0\n",
       "3520      9427   6.900       1846    267.536232      0.0            0.0\n",
       "3521      9428   7.000       1995         285.0      0.0            0.0\n",
       "3522      9651  32.300        425     13.157895      0.0            0.0\n",
       "\n",
       "[3179 rows x 6 columns]"
      ]
     },
     "execution_count": 22,
     "metadata": {},
     "output_type": "execute_result"
    }
   ],
   "source": [
    "df_count = df_density.merge(df_count,on = 'Post Code', how = 'left')\n",
    "df_count['Counts'] = df_count['Counts'].fillna(0)\n",
    "df_count = df_count.drop(['City','Region'],axis=1)\n",
    "df_count = df_count.dropna(subset = ['Density','Population'])\n",
    "df_count['gig_per_capita'] = 100*df_count['Counts']/df_count['Population']\n",
    "df_count = df_count.rename(columns={'Counts': 'gig_num'})\n",
    "df_count"
   ]
  },
  {
   "cell_type": "code",
   "execution_count": 23,
   "metadata": {},
   "outputs": [],
   "source": [
    "def draw_worker_density(xv,yv,df):\n",
    "    plt.figure(figsize=(10, 6), dpi=80)\n",
    "    ax = sns.scatterplot(x=xv, y=yv, data=df)\n",
    "    ax.set_title('Coople')\n",
    "    ax.set_yscale('log')\n",
    "    ax.set_xscale('log')\n",
    "    ax.set_xlabel('log(density)')\n",
    "    ax.set_ylabel('log(gig_per_capita)')"
   ]
  },
  {
   "cell_type": "code",
   "execution_count": 24,
   "metadata": {},
   "outputs": [
    {
     "data": {
      "text/html": [
       "<div>\n",
       "<style scoped>\n",
       "    .dataframe tbody tr th:only-of-type {\n",
       "        vertical-align: middle;\n",
       "    }\n",
       "\n",
       "    .dataframe tbody tr th {\n",
       "        vertical-align: top;\n",
       "    }\n",
       "\n",
       "    .dataframe thead th {\n",
       "        text-align: right;\n",
       "    }\n",
       "</style>\n",
       "<table border=\"1\" class=\"dataframe\">\n",
       "  <thead>\n",
       "    <tr style=\"text-align: right;\">\n",
       "      <th></th>\n",
       "      <th>Post Code</th>\n",
       "      <th>gig_num</th>\n",
       "      <th>City</th>\n",
       "      <th>Region</th>\n",
       "      <th>Area</th>\n",
       "      <th>Population</th>\n",
       "      <th>Density</th>\n",
       "      <th>gig_per_capita</th>\n",
       "      <th>region</th>\n",
       "    </tr>\n",
       "  </thead>\n",
       "  <tbody>\n",
       "    <tr>\n",
       "      <th>0</th>\n",
       "      <td>1003</td>\n",
       "      <td>10</td>\n",
       "      <td>Lausanne</td>\n",
       "      <td>Vaud</td>\n",
       "      <td>0.820</td>\n",
       "      <td>6707</td>\n",
       "      <td>8179.268293</td>\n",
       "      <td>0.001491</td>\n",
       "      <td>urban</td>\n",
       "    </tr>\n",
       "    <tr>\n",
       "      <th>1</th>\n",
       "      <td>1006</td>\n",
       "      <td>1</td>\n",
       "      <td>Lausanne</td>\n",
       "      <td>Vaud</td>\n",
       "      <td>1.553</td>\n",
       "      <td>15391</td>\n",
       "      <td>9910.495815</td>\n",
       "      <td>0.000065</td>\n",
       "      <td>urban</td>\n",
       "    </tr>\n",
       "    <tr>\n",
       "      <th>2</th>\n",
       "      <td>1007</td>\n",
       "      <td>1</td>\n",
       "      <td>Lausanne</td>\n",
       "      <td>Vaud</td>\n",
       "      <td>3.904</td>\n",
       "      <td>22538</td>\n",
       "      <td>5773.053279</td>\n",
       "      <td>0.000044</td>\n",
       "      <td>urban</td>\n",
       "    </tr>\n",
       "    <tr>\n",
       "      <th>3</th>\n",
       "      <td>1023</td>\n",
       "      <td>1</td>\n",
       "      <td>NaN</td>\n",
       "      <td>Vaud</td>\n",
       "      <td>5.500</td>\n",
       "      <td>9200</td>\n",
       "      <td>1672.727273</td>\n",
       "      <td>0.000109</td>\n",
       "      <td>urban</td>\n",
       "    </tr>\n",
       "    <tr>\n",
       "      <th>4</th>\n",
       "      <td>1024</td>\n",
       "      <td>2</td>\n",
       "      <td>Chavannes-près-Renens</td>\n",
       "      <td>Vaud</td>\n",
       "      <td>4.829</td>\n",
       "      <td>13118</td>\n",
       "      <td>2716.504452</td>\n",
       "      <td>0.000152</td>\n",
       "      <td>urban</td>\n",
       "    </tr>\n",
       "  </tbody>\n",
       "</table>\n",
       "</div>"
      ],
      "text/plain": [
       "  Post Code  gig_num                   City Region   Area Population  \\\n",
       "0      1003       10               Lausanne   Vaud  0.820       6707   \n",
       "1      1006        1               Lausanne   Vaud  1.553      15391   \n",
       "2      1007        1               Lausanne   Vaud  3.904      22538   \n",
       "3      1023        1                    NaN   Vaud  5.500       9200   \n",
       "4      1024        2  Chavannes-près-Renens   Vaud  4.829      13118   \n",
       "\n",
       "       Density gig_per_capita region  \n",
       "0  8179.268293       0.001491  urban  \n",
       "1  9910.495815       0.000065  urban  \n",
       "2  5773.053279       0.000044  urban  \n",
       "3  1672.727273       0.000109  urban  \n",
       "4  2716.504452       0.000152  urban  "
      ]
     },
     "execution_count": 24,
     "metadata": {},
     "output_type": "execute_result"
    }
   ],
   "source": [
    "df.head()"
   ]
  },
  {
   "cell_type": "code",
   "execution_count": 32,
   "metadata": {},
   "outputs": [],
   "source": [
    "from scipy import stats\n",
    "def draw_corr(df,col1, col2):\n",
    "    draw_worker_density(col1,col2,df)\n",
    "    p = stats.pearsonr(np.log(df[col1].astype('float')), np.log(df[col2].astype('float')))\n",
    "    s = stats.spearmanr(df[col1], df[col2])\n",
    "    k = stats.kendalltau(df[col1], df[col2])\n",
    "    print(f'Pearson r: {p[0]}, p value: {p[1]}')\n",
    "    print(f'Spearman rho: {s[0]}, p value: {s[1]}')\n",
    "    print(f'Kendall tau: {k[0]}, p value: {k[1]}')"
   ]
  },
  {
   "cell_type": "code",
   "execution_count": 33,
   "metadata": {},
   "outputs": [
    {
     "name": "stdout",
     "output_type": "stream",
     "text": [
      "Pearson r: -0.3865602675173078, p value: 3.9894945154402595e-11\n",
      "Spearman rho: -0.3747854731160098, p value: 1.692135796609337e-10\n",
      "Kendall tau: -0.26457180071637904, p value: 7.894876252691196e-11\n"
     ]
    },
    {
     "data": {
      "image/png": "[encoded data removed]",
      "text/plain": [
       "<Figure size 800x480 with 1 Axes>"
      ]
     },
     "metadata": {},
     "output_type": "display_data"
    }
   ],
   "source": [
    "draw_corr(df,'Density','gig_per_capita')"
   ]
  },
  {
   "cell_type": "code",
   "execution_count": 27,
   "metadata": {},
   "outputs": [
    {
     "data": {
      "image/png": "[encoded data removed]",
      "text/plain": [
       "<Figure size 800x480 with 1 Axes>"
      ]
     },
     "metadata": {},
     "output_type": "display_data"
    }
   ],
   "source": [
    "draw_worker_density('Density','gig_per_capita',df)"
   ]
  },
  {
   "cell_type": "code",
   "execution_count": 28,
   "metadata": {},
   "outputs": [
    {
     "name": "stderr",
     "output_type": "stream",
     "text": [
      "/Users/guan/opt/anaconda3/lib/python3.9/site-packages/pandas/core/arraylike.py:364: RuntimeWarning: divide by zero encountered in log\n",
      "  result = getattr(ufunc, method)(*inputs, **kwargs)\n",
      "/Users/guan/opt/anaconda3/lib/python3.9/site-packages/scipy/stats/stats.py:4040: RuntimeWarning: invalid value encountered in subtract\n",
      "  ym = y.astype(dtype) - ymean\n"
     ]
    },
    {
     "ename": "ValueError",
     "evalue": "array must not contain infs or NaNs",
     "output_type": "error",
     "traceback": [
      "\u001b[0;31m---------------------------------------------------------------------------\u001b[0m",
      "\u001b[0;31mValueError\u001b[0m                                Traceback (most recent call last)",
      "\u001b[0;32m/var/folders/f3/f6xq_wzj2c966dcvz2s9gd1h0000gn/T/ipykernel_77691/683281657.py\u001b[0m in \u001b[0;36m<module>\u001b[0;34m\u001b[0m\n\u001b[0;32m----> 1\u001b[0;31m \u001b[0mdraw_corr\u001b[0m\u001b[0;34m(\u001b[0m\u001b[0mdf_count\u001b[0m\u001b[0;34m,\u001b[0m\u001b[0;34m'Density'\u001b[0m\u001b[0;34m,\u001b[0m\u001b[0;34m'gig_per_capita'\u001b[0m\u001b[0;34m)\u001b[0m\u001b[0;34m\u001b[0m\u001b[0;34m\u001b[0m\u001b[0m\n\u001b[0m",
      "\u001b[0;32m/var/folders/f3/f6xq_wzj2c966dcvz2s9gd1h0000gn/T/ipykernel_77691/3837876703.py\u001b[0m in \u001b[0;36mdraw_corr\u001b[0;34m(df, col1, col2)\u001b[0m\n\u001b[1;32m      2\u001b[0m \u001b[0;32mdef\u001b[0m \u001b[0mdraw_corr\u001b[0m\u001b[0;34m(\u001b[0m\u001b[0mdf\u001b[0m\u001b[0;34m,\u001b[0m\u001b[0mcol1\u001b[0m\u001b[0;34m,\u001b[0m \u001b[0mcol2\u001b[0m\u001b[0;34m)\u001b[0m\u001b[0;34m:\u001b[0m\u001b[0;34m\u001b[0m\u001b[0;34m\u001b[0m\u001b[0m\n\u001b[1;32m      3\u001b[0m     \u001b[0mdraw_worker_density\u001b[0m\u001b[0;34m(\u001b[0m\u001b[0mcol1\u001b[0m\u001b[0;34m,\u001b[0m\u001b[0mcol2\u001b[0m\u001b[0;34m,\u001b[0m\u001b[0mdf\u001b[0m\u001b[0;34m)\u001b[0m\u001b[0;34m\u001b[0m\u001b[0;34m\u001b[0m\u001b[0m\n\u001b[0;32m----> 4\u001b[0;31m     \u001b[0mp\u001b[0m \u001b[0;34m=\u001b[0m \u001b[0mstats\u001b[0m\u001b[0;34m.\u001b[0m\u001b[0mpearsonr\u001b[0m\u001b[0;34m(\u001b[0m\u001b[0mnp\u001b[0m\u001b[0;34m.\u001b[0m\u001b[0mlog\u001b[0m\u001b[0;34m(\u001b[0m\u001b[0mdf\u001b[0m\u001b[0;34m[\u001b[0m\u001b[0mcol1\u001b[0m\u001b[0;34m]\u001b[0m\u001b[0;34m.\u001b[0m\u001b[0mastype\u001b[0m\u001b[0;34m(\u001b[0m\u001b[0;34m'float'\u001b[0m\u001b[0;34m)\u001b[0m\u001b[0;34m)\u001b[0m\u001b[0;34m,\u001b[0m \u001b[0mnp\u001b[0m\u001b[0;34m.\u001b[0m\u001b[0mlog\u001b[0m\u001b[0;34m(\u001b[0m\u001b[0mdf\u001b[0m\u001b[0;34m[\u001b[0m\u001b[0mcol2\u001b[0m\u001b[0;34m]\u001b[0m\u001b[0;34m.\u001b[0m\u001b[0mastype\u001b[0m\u001b[0;34m(\u001b[0m\u001b[0;34m'float'\u001b[0m\u001b[0;34m)\u001b[0m\u001b[0;34m)\u001b[0m\u001b[0;34m)\u001b[0m\u001b[0;34m\u001b[0m\u001b[0;34m\u001b[0m\u001b[0m\n\u001b[0m\u001b[1;32m      5\u001b[0m     \u001b[0ms\u001b[0m \u001b[0;34m=\u001b[0m \u001b[0mstats\u001b[0m\u001b[0;34m.\u001b[0m\u001b[0mspearmanr\u001b[0m\u001b[0;34m(\u001b[0m\u001b[0mdf\u001b[0m\u001b[0;34m[\u001b[0m\u001b[0mcol1\u001b[0m\u001b[0;34m]\u001b[0m\u001b[0;34m,\u001b[0m \u001b[0mdf\u001b[0m\u001b[0;34m[\u001b[0m\u001b[0mcol2\u001b[0m\u001b[0;34m]\u001b[0m\u001b[0;34m)\u001b[0m\u001b[0;34m\u001b[0m\u001b[0;34m\u001b[0m\u001b[0m\n\u001b[1;32m      6\u001b[0m     \u001b[0mk\u001b[0m \u001b[0;34m=\u001b[0m \u001b[0mstats\u001b[0m\u001b[0;34m.\u001b[0m\u001b[0mkendalltau\u001b[0m\u001b[0;34m(\u001b[0m\u001b[0mdf\u001b[0m\u001b[0;34m[\u001b[0m\u001b[0mcol1\u001b[0m\u001b[0;34m]\u001b[0m\u001b[0;34m,\u001b[0m \u001b[0mdf\u001b[0m\u001b[0;34m[\u001b[0m\u001b[0mcol2\u001b[0m\u001b[0;34m]\u001b[0m\u001b[0;34m)\u001b[0m\u001b[0;34m\u001b[0m\u001b[0;34m\u001b[0m\u001b[0m\n",
      "\u001b[0;32m~/opt/anaconda3/lib/python3.9/site-packages/scipy/stats/stats.py\u001b[0m in \u001b[0;36mpearsonr\u001b[0;34m(x, y)\u001b[0m\n\u001b[1;32m   4044\u001b[0m     \u001b[0;31m# [-5e210, 5e210, 3e200, -3e200]\u001b[0m\u001b[0;34m\u001b[0m\u001b[0;34m\u001b[0m\u001b[0m\n\u001b[1;32m   4045\u001b[0m     \u001b[0mnormxm\u001b[0m \u001b[0;34m=\u001b[0m \u001b[0mlinalg\u001b[0m\u001b[0;34m.\u001b[0m\u001b[0mnorm\u001b[0m\u001b[0;34m(\u001b[0m\u001b[0mxm\u001b[0m\u001b[0;34m)\u001b[0m\u001b[0;34m\u001b[0m\u001b[0;34m\u001b[0m\u001b[0m\n\u001b[0;32m-> 4046\u001b[0;31m     \u001b[0mnormym\u001b[0m \u001b[0;34m=\u001b[0m \u001b[0mlinalg\u001b[0m\u001b[0;34m.\u001b[0m\u001b[0mnorm\u001b[0m\u001b[0;34m(\u001b[0m\u001b[0mym\u001b[0m\u001b[0;34m)\u001b[0m\u001b[0;34m\u001b[0m\u001b[0;34m\u001b[0m\u001b[0m\n\u001b[0m\u001b[1;32m   4047\u001b[0m \u001b[0;34m\u001b[0m\u001b[0m\n\u001b[1;32m   4048\u001b[0m     \u001b[0mthreshold\u001b[0m \u001b[0;34m=\u001b[0m \u001b[0;36m1e-13\u001b[0m\u001b[0;34m\u001b[0m\u001b[0;34m\u001b[0m\u001b[0m\n",
      "\u001b[0;32m~/opt/anaconda3/lib/python3.9/site-packages/scipy/linalg/misc.py\u001b[0m in \u001b[0;36mnorm\u001b[0;34m(a, ord, axis, keepdims, check_finite)\u001b[0m\n\u001b[1;32m    143\u001b[0m     \u001b[0;31m# Differs from numpy only in non-finite handling and the use of blas.\u001b[0m\u001b[0;34m\u001b[0m\u001b[0;34m\u001b[0m\u001b[0m\n\u001b[1;32m    144\u001b[0m     \u001b[0;32mif\u001b[0m \u001b[0mcheck_finite\u001b[0m\u001b[0;34m:\u001b[0m\u001b[0;34m\u001b[0m\u001b[0;34m\u001b[0m\u001b[0m\n\u001b[0;32m--> 145\u001b[0;31m         \u001b[0ma\u001b[0m \u001b[0;34m=\u001b[0m \u001b[0mnp\u001b[0m\u001b[0;34m.\u001b[0m\u001b[0masarray_chkfinite\u001b[0m\u001b[0;34m(\u001b[0m\u001b[0ma\u001b[0m\u001b[0;34m)\u001b[0m\u001b[0;34m\u001b[0m\u001b[0;34m\u001b[0m\u001b[0m\n\u001b[0m\u001b[1;32m    146\u001b[0m     \u001b[0;32melse\u001b[0m\u001b[0;34m:\u001b[0m\u001b[0;34m\u001b[0m\u001b[0;34m\u001b[0m\u001b[0m\n\u001b[1;32m    147\u001b[0m         \u001b[0ma\u001b[0m \u001b[0;34m=\u001b[0m \u001b[0mnp\u001b[0m\u001b[0;34m.\u001b[0m\u001b[0masarray\u001b[0m\u001b[0;34m(\u001b[0m\u001b[0ma\u001b[0m\u001b[0;34m)\u001b[0m\u001b[0;34m\u001b[0m\u001b[0;34m\u001b[0m\u001b[0m\n",
      "\u001b[0;32m~/opt/anaconda3/lib/python3.9/site-packages/numpy/lib/function_base.py\u001b[0m in \u001b[0;36masarray_chkfinite\u001b[0;34m(a, dtype, order)\u001b[0m\n\u001b[1;32m    486\u001b[0m     \u001b[0ma\u001b[0m \u001b[0;34m=\u001b[0m \u001b[0masarray\u001b[0m\u001b[0;34m(\u001b[0m\u001b[0ma\u001b[0m\u001b[0;34m,\u001b[0m \u001b[0mdtype\u001b[0m\u001b[0;34m=\u001b[0m\u001b[0mdtype\u001b[0m\u001b[0;34m,\u001b[0m \u001b[0morder\u001b[0m\u001b[0;34m=\u001b[0m\u001b[0morder\u001b[0m\u001b[0;34m)\u001b[0m\u001b[0;34m\u001b[0m\u001b[0;34m\u001b[0m\u001b[0m\n\u001b[1;32m    487\u001b[0m     \u001b[0;32mif\u001b[0m \u001b[0ma\u001b[0m\u001b[0;34m.\u001b[0m\u001b[0mdtype\u001b[0m\u001b[0;34m.\u001b[0m\u001b[0mchar\u001b[0m \u001b[0;32min\u001b[0m \u001b[0mtypecodes\u001b[0m\u001b[0;34m[\u001b[0m\u001b[0;34m'AllFloat'\u001b[0m\u001b[0;34m]\u001b[0m \u001b[0;32mand\u001b[0m \u001b[0;32mnot\u001b[0m \u001b[0mnp\u001b[0m\u001b[0;34m.\u001b[0m\u001b[0misfinite\u001b[0m\u001b[0;34m(\u001b[0m\u001b[0ma\u001b[0m\u001b[0;34m)\u001b[0m\u001b[0;34m.\u001b[0m\u001b[0mall\u001b[0m\u001b[0;34m(\u001b[0m\u001b[0;34m)\u001b[0m\u001b[0;34m:\u001b[0m\u001b[0;34m\u001b[0m\u001b[0;34m\u001b[0m\u001b[0m\n\u001b[0;32m--> 488\u001b[0;31m         raise ValueError(\n\u001b[0m\u001b[1;32m    489\u001b[0m             \"array must not contain infs or NaNs\")\n\u001b[1;32m    490\u001b[0m     \u001b[0;32mreturn\u001b[0m \u001b[0ma\u001b[0m\u001b[0;34m\u001b[0m\u001b[0;34m\u001b[0m\u001b[0m\n",
      "\u001b[0;31mValueError\u001b[0m: array must not contain infs or NaNs"
     ]
    },
    {
     "data": {
      "image/png": "[encoded data removed]",
      "text/plain": [
       "<Figure size 800x480 with 1 Axes>"
      ]
     },
     "metadata": {},
     "output_type": "display_data"
    }
   ],
   "source": [
    "draw_corr(df_count,'Density','gig_per_capita')"
   ]
  }
 ],
 "metadata": {
  "kernelspec": {
   "display_name": "Python 3 (ipykernel)",
   "language": "python",
   "name": "python3"
  },
  "language_info": {
   "codemirror_mode": {
    "name": "ipython",
    "version": 3
   },
   "file_extension": ".py",
   "mimetype": "text/x-python",
   "name": "python",
   "nbconvert_exporter": "python",
   "pygments_lexer": "ipython3",
   "version": "3.9.7"
  }
 },
 "nbformat": 4,
 "nbformat_minor": 2
}
